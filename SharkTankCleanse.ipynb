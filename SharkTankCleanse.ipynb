{
 "cells": [
  {
   "cell_type": "code",
   "execution_count": 1,
   "id": "e5fe9cef",
   "metadata": {},
   "outputs": [],
   "source": [
    "import pandas as pd \n",
    "import matplotlib.pyplot as plt \n",
    "import seaborn as sns\n",
    "import numpy as np"
   ]
  },
  {
   "cell_type": "code",
   "execution_count": 2,
   "id": "7f4534ce",
   "metadata": {},
   "outputs": [],
   "source": [
    "fname = \"D:/Study PDF/Python/Datsets/Shark_Tank_US_dataset_September_2023.csv\""
   ]
  },
  {
   "cell_type": "code",
   "execution_count": 3,
   "id": "8c2c7494",
   "metadata": {},
   "outputs": [],
   "source": [
    "df = pd.read_csv(fname)"
   ]
  },
  {
   "cell_type": "code",
   "execution_count": 4,
   "id": "e98c0557",
   "metadata": {},
   "outputs": [
    {
     "data": {
      "text/html": [
       "<div>\n",
       "<style scoped>\n",
       "    .dataframe tbody tr th:only-of-type {\n",
       "        vertical-align: middle;\n",
       "    }\n",
       "\n",
       "    .dataframe tbody tr th {\n",
       "        vertical-align: top;\n",
       "    }\n",
       "\n",
       "    .dataframe thead th {\n",
       "        text-align: right;\n",
       "    }\n",
       "</style>\n",
       "<table border=\"1\" class=\"dataframe\">\n",
       "  <thead>\n",
       "    <tr style=\"text-align: right;\">\n",
       "      <th></th>\n",
       "      <th>Season Number</th>\n",
       "      <th>Season Start</th>\n",
       "      <th>Season End</th>\n",
       "      <th>Episode Number</th>\n",
       "      <th>Pitch Number</th>\n",
       "      <th>Original Air Date</th>\n",
       "      <th>Startup Name</th>\n",
       "      <th>Industry</th>\n",
       "      <th>Business Description</th>\n",
       "      <th>Pitchers Gender</th>\n",
       "      <th>...</th>\n",
       "      <th>Kevin O Leary Investment Equity</th>\n",
       "      <th>Guest Investment Amount</th>\n",
       "      <th>Guest Investment Equity</th>\n",
       "      <th>Guest Name</th>\n",
       "      <th>Barbara Corcoran Present</th>\n",
       "      <th>Mark Cuban Present</th>\n",
       "      <th>Lori Greiner Present</th>\n",
       "      <th>Robert Herjavec Present</th>\n",
       "      <th>Daymond John Present</th>\n",
       "      <th>Kevin O Leary Present</th>\n",
       "    </tr>\n",
       "  </thead>\n",
       "  <tbody>\n",
       "    <tr>\n",
       "      <th>0</th>\n",
       "      <td>1</td>\n",
       "      <td>09-Aug-09</td>\n",
       "      <td>05-Feb-10</td>\n",
       "      <td>1</td>\n",
       "      <td>1</td>\n",
       "      <td>09-Aug-09</td>\n",
       "      <td>AvaTheElephant</td>\n",
       "      <td>Health/Wellness</td>\n",
       "      <td>Ava The Elephant - Baby and Child Care</td>\n",
       "      <td>Female</td>\n",
       "      <td>...</td>\n",
       "      <td>NaN</td>\n",
       "      <td>NaN</td>\n",
       "      <td>NaN</td>\n",
       "      <td>NaN</td>\n",
       "      <td>1.0</td>\n",
       "      <td>0.0</td>\n",
       "      <td>0.0</td>\n",
       "      <td>1.0</td>\n",
       "      <td>1.0</td>\n",
       "      <td>1.0</td>\n",
       "    </tr>\n",
       "    <tr>\n",
       "      <th>1</th>\n",
       "      <td>1</td>\n",
       "      <td>09-Aug-09</td>\n",
       "      <td>05-Feb-10</td>\n",
       "      <td>1</td>\n",
       "      <td>2</td>\n",
       "      <td>09-Aug-09</td>\n",
       "      <td>Mr.Tod'sPieFactory</td>\n",
       "      <td>Food and Beverage</td>\n",
       "      <td>Mr. Tod's Pie Factory - Specialty Food</td>\n",
       "      <td>Male</td>\n",
       "      <td>...</td>\n",
       "      <td>NaN</td>\n",
       "      <td>NaN</td>\n",
       "      <td>NaN</td>\n",
       "      <td>NaN</td>\n",
       "      <td>1.0</td>\n",
       "      <td>0.0</td>\n",
       "      <td>0.0</td>\n",
       "      <td>1.0</td>\n",
       "      <td>1.0</td>\n",
       "      <td>1.0</td>\n",
       "    </tr>\n",
       "    <tr>\n",
       "      <th>2</th>\n",
       "      <td>1</td>\n",
       "      <td>09-Aug-09</td>\n",
       "      <td>05-Feb-10</td>\n",
       "      <td>1</td>\n",
       "      <td>3</td>\n",
       "      <td>09-Aug-09</td>\n",
       "      <td>Wispots</td>\n",
       "      <td>Business Services</td>\n",
       "      <td>Wispots - Consumer Services</td>\n",
       "      <td>Male</td>\n",
       "      <td>...</td>\n",
       "      <td>NaN</td>\n",
       "      <td>NaN</td>\n",
       "      <td>NaN</td>\n",
       "      <td>NaN</td>\n",
       "      <td>1.0</td>\n",
       "      <td>0.0</td>\n",
       "      <td>0.0</td>\n",
       "      <td>1.0</td>\n",
       "      <td>1.0</td>\n",
       "      <td>1.0</td>\n",
       "    </tr>\n",
       "    <tr>\n",
       "      <th>3</th>\n",
       "      <td>1</td>\n",
       "      <td>09-Aug-09</td>\n",
       "      <td>05-Feb-10</td>\n",
       "      <td>1</td>\n",
       "      <td>4</td>\n",
       "      <td>09-Aug-09</td>\n",
       "      <td>CollegeFoxesPackingBoxes</td>\n",
       "      <td>Lifestyle/Home</td>\n",
       "      <td>College Foxes Packing Boxes - Consumer Services</td>\n",
       "      <td>Male</td>\n",
       "      <td>...</td>\n",
       "      <td>NaN</td>\n",
       "      <td>NaN</td>\n",
       "      <td>NaN</td>\n",
       "      <td>NaN</td>\n",
       "      <td>1.0</td>\n",
       "      <td>0.0</td>\n",
       "      <td>0.0</td>\n",
       "      <td>1.0</td>\n",
       "      <td>1.0</td>\n",
       "      <td>1.0</td>\n",
       "    </tr>\n",
       "    <tr>\n",
       "      <th>4</th>\n",
       "      <td>1</td>\n",
       "      <td>09-Aug-09</td>\n",
       "      <td>05-Feb-10</td>\n",
       "      <td>1</td>\n",
       "      <td>5</td>\n",
       "      <td>09-Aug-09</td>\n",
       "      <td>IonicEar</td>\n",
       "      <td>Software/Tech</td>\n",
       "      <td>Ionic Ear - Novelties</td>\n",
       "      <td>Male</td>\n",
       "      <td>...</td>\n",
       "      <td>NaN</td>\n",
       "      <td>NaN</td>\n",
       "      <td>NaN</td>\n",
       "      <td>NaN</td>\n",
       "      <td>1.0</td>\n",
       "      <td>0.0</td>\n",
       "      <td>0.0</td>\n",
       "      <td>1.0</td>\n",
       "      <td>1.0</td>\n",
       "      <td>1.0</td>\n",
       "    </tr>\n",
       "  </tbody>\n",
       "</table>\n",
       "<p>5 rows × 50 columns</p>\n",
       "</div>"
      ],
      "text/plain": [
       "   Season Number Season Start Season End  Episode Number  Pitch Number  \\\n",
       "0              1    09-Aug-09  05-Feb-10               1             1   \n",
       "1              1    09-Aug-09  05-Feb-10               1             2   \n",
       "2              1    09-Aug-09  05-Feb-10               1             3   \n",
       "3              1    09-Aug-09  05-Feb-10               1             4   \n",
       "4              1    09-Aug-09  05-Feb-10               1             5   \n",
       "\n",
       "  Original Air Date              Startup Name           Industry  \\\n",
       "0         09-Aug-09            AvaTheElephant    Health/Wellness   \n",
       "1         09-Aug-09        Mr.Tod'sPieFactory  Food and Beverage   \n",
       "2         09-Aug-09                   Wispots  Business Services   \n",
       "3         09-Aug-09  CollegeFoxesPackingBoxes     Lifestyle/Home   \n",
       "4         09-Aug-09                  IonicEar      Software/Tech   \n",
       "\n",
       "                              Business Description Pitchers Gender  ...  \\\n",
       "0           Ava The Elephant - Baby and Child Care          Female  ...   \n",
       "1           Mr. Tod's Pie Factory - Specialty Food            Male  ...   \n",
       "2                      Wispots - Consumer Services            Male  ...   \n",
       "3  College Foxes Packing Boxes - Consumer Services            Male  ...   \n",
       "4                            Ionic Ear - Novelties            Male  ...   \n",
       "\n",
       "  Kevin O Leary Investment Equity Guest Investment Amount  \\\n",
       "0                             NaN                     NaN   \n",
       "1                             NaN                     NaN   \n",
       "2                             NaN                     NaN   \n",
       "3                             NaN                     NaN   \n",
       "4                             NaN                     NaN   \n",
       "\n",
       "  Guest Investment Equity Guest Name Barbara Corcoran Present  \\\n",
       "0                     NaN        NaN                      1.0   \n",
       "1                     NaN        NaN                      1.0   \n",
       "2                     NaN        NaN                      1.0   \n",
       "3                     NaN        NaN                      1.0   \n",
       "4                     NaN        NaN                      1.0   \n",
       "\n",
       "   Mark Cuban Present  Lori Greiner Present  Robert Herjavec Present  \\\n",
       "0                 0.0                   0.0                      1.0   \n",
       "1                 0.0                   0.0                      1.0   \n",
       "2                 0.0                   0.0                      1.0   \n",
       "3                 0.0                   0.0                      1.0   \n",
       "4                 0.0                   0.0                      1.0   \n",
       "\n",
       "   Daymond John Present  Kevin O Leary Present  \n",
       "0                   1.0                    1.0  \n",
       "1                   1.0                    1.0  \n",
       "2                   1.0                    1.0  \n",
       "3                   1.0                    1.0  \n",
       "4                   1.0                    1.0  \n",
       "\n",
       "[5 rows x 50 columns]"
      ]
     },
     "execution_count": 4,
     "metadata": {},
     "output_type": "execute_result"
    }
   ],
   "source": [
    "df.head(5)"
   ]
  },
  {
   "cell_type": "code",
   "execution_count": 5,
   "id": "f496affd",
   "metadata": {},
   "outputs": [
    {
     "name": "stdout",
     "output_type": "stream",
     "text": [
      "<class 'pandas.core.frame.DataFrame'>\n",
      "RangeIndex: 1274 entries, 0 to 1273\n",
      "Data columns (total 50 columns):\n",
      " #   Column                              Non-Null Count  Dtype  \n",
      "---  ------                              --------------  -----  \n",
      " 0   Season Number                       1274 non-null   int64  \n",
      " 1   Season Start                        1274 non-null   object \n",
      " 2   Season End                          1274 non-null   object \n",
      " 3   Episode Number                      1274 non-null   int64  \n",
      " 4   Pitch Number                        1274 non-null   int64  \n",
      " 5   Original Air Date                   1274 non-null   object \n",
      " 6   Startup Name                        1274 non-null   object \n",
      " 7   Industry                            1274 non-null   object \n",
      " 8   Business Description                1274 non-null   object \n",
      " 9   Pitchers Gender                     1267 non-null   object \n",
      " 10  Pitchers City                       502 non-null    object \n",
      " 11  Pitchers State                      746 non-null    object \n",
      " 12  Pitchers Average Age                338 non-null    object \n",
      " 13  Entrepreneur Names                  779 non-null    object \n",
      " 14  Company Website                     516 non-null    object \n",
      " 15  Multiple Entrepreneurs              847 non-null    float64\n",
      " 16  US Viewership                       1274 non-null   float64\n",
      " 17  Original Ask Amount                 1274 non-null   int64  \n",
      " 18  Original Offered Equity             1274 non-null   float64\n",
      " 19  Valuation Requested                 1274 non-null   int64  \n",
      " 20  Got Deal                            1274 non-null   int64  \n",
      " 21  Total Deal Amount                   765 non-null    float64\n",
      " 22  Total Deal Equity                   765 non-null    float64\n",
      " 23  Deal Valuation                      765 non-null    float64\n",
      " 24  Number of sharks in deal            765 non-null    float64\n",
      " 25  Investment Amount Per Shark         765 non-null    float64\n",
      " 26  Equity Per Shark                    765 non-null    float64\n",
      " 27  Royalty Deal                        75 non-null     float64\n",
      " 28  Loan                                52 non-null     float64\n",
      " 29  Barbara Corcoran Investment Amount  120 non-null    float64\n",
      " 30  Barbara Corcoran Investment Equity  120 non-null    float64\n",
      " 31  Mark Cuban Investment Amount        230 non-null    float64\n",
      " 32  Mark Cuban Investment Equity        230 non-null    float64\n",
      " 33  Lori Greiner Investment Amount      199 non-null    float64\n",
      " 34  Lori Greiner Investment Equity      199 non-null    float64\n",
      " 35  Robert Herjavec Investment Amount   121 non-null    float64\n",
      " 36  Robert Herjavec Investment Equity   121 non-null    float64\n",
      " 37  Daymond John Investment Amount      111 non-null    float64\n",
      " 38  Daymond John Investment Equity      111 non-null    float64\n",
      " 39  Kevin O Leary Investment Amount     117 non-null    float64\n",
      " 40  Kevin O Leary Investment Equity     117 non-null    float64\n",
      " 41  Guest Investment Amount             105 non-null    float64\n",
      " 42  Guest Investment Equity             105 non-null    float64\n",
      " 43  Guest Name                          105 non-null    object \n",
      " 44  Barbara Corcoran Present            898 non-null    float64\n",
      " 45  Mark Cuban Present                  901 non-null    float64\n",
      " 46  Lori Greiner Present                901 non-null    float64\n",
      " 47  Robert Herjavec Present             897 non-null    float64\n",
      " 48  Daymond John Present                898 non-null    float64\n",
      " 49  Kevin O Leary Present               898 non-null    float64\n",
      "dtypes: float64(31), int64(6), object(13)\n",
      "memory usage: 497.8+ KB\n"
     ]
    }
   ],
   "source": [
    "df.info()"
   ]
  },
  {
   "cell_type": "markdown",
   "id": "88e3d091",
   "metadata": {},
   "source": [
    "#####\n",
    "1. Column Name \t:Description\n",
    "2. Season Number\t: Season number\n",
    "3. Season Start\t:Season first aired date\n",
    "4. Season End\t    :Season End - Season last aired date\n",
    "5. Episode Number\t:Episode number within the season\n",
    "6. Pitch Number\t:Overall pitch number\n",
    "7. Original Air Date\t:Episode original/first aired date\n",
    "8. Startup Name\t:Startup company name\n",
    "9. Industry\t    :Industry name or type\n",
    "10. Business Description\t:Business Description - Business Description\n",
    "11. Pitchers Gender\t:Gender of pitchers\n",
    "12. Pitchers City\t:US city of pitchers\n",
    "13. Pitchers State\t:US state or country of pitchers, two letter shortcut\n",
    "14. Pitchers Average Age\t:Average age of all pitchers, <30 young, 30-50 middle, >50 old\n",
    "15. Entrepreneur Names\t:Pitcher name\n",
    "16. Company Website :Website of startup/company\n",
    "17. Multiple Entrepreneurs\t:Multiple entrepreneurs are present ? 1-yes, 0-no\n",
    "18. US Viewershi\t:Viewership in US, TRP rating, in millions\n",
    "19. Original Ask Amount\t:Original Ask Amount, in USD\n",
    "20. Original Offered Equity\t:Original Offered Equity, in percentages\n",
    "21. Valuation Requested\t:Valuation Requested, in USD\n",
    "22. Got Deal\t:Got the deal or not, 1-yes, 0-no\n",
    "23. Total Deal Amount\t:Total Deal Amount, in USD\n",
    "24. Total Deal Equity\t:Total Deal Equity, in percentages\n",
    "25. Deal Valuation\t:Deal Valuation, in USD\n",
    "26. Number of sharks in deal\t:Number of sharks in deal\n",
    "27. Investment Amount Per Shark\t:Investment Amount Per Shark\n",
    "28. Equity Per Shark\t:Equity received by each Shark\n",
    "29. Royalty Deal\t:Is it royalty deal or deal with advisory shares\n",
    "30. Loan\t:Loan/debt (line of credit) amount given by sharks, in USD\n",
    "31. Barbara Corcoran Investment Amount\t:Amount Invested by Barbara Corcoran\n",
    "32. Barbara Corcoran Investment Equity\t:Equity received by Barbara Corcoran\n",
    "33. Mark Cuban Investment Amount\t:Amount Invested by Mark Cuban\n",
    "34. Mark Cuban Investment Equity\t:Equity received by Mark Cuban\n",
    "35. Lori Greiner Investment Amount\t:Amount Invested by Lori Greiner\n",
    "36. Lori Greiner Investment Equity\t:Equity received by Lori Greiner\n",
    "37. Robert Herjavec Investment Amount\t:Amount Invested by Robert Herjavec\n",
    "38. Robert Herjavec Investment Equity\t:Equity received by Robert Herjavec\n",
    "39. Daymond John Investment Amount\t:Amount Invested by Daymond John\n",
    "40. Daymond John Investment Equity\t:Equity received by Daymond John\n",
    "41. Kevin O Leary Investment Amount\t:Amount Invested by Kevin O'Leary\n",
    "42. Kevin O Leary Investment Equity\t:Equity received by Kevin O'Leary\n",
    "43. Guest Investment Amount\t:Amount Invested by Guests\n",
    "44. Guest Investment Equity\t:Equity received by Guests\n",
    "45. Guest Name\t:Name of Guest shark\n",
    "46. Barbara Corcoran Present\t:Whether Barbara Corcoran present in episode or not\n",
    "47. Mark Cuban Present\t:Whether Mark Cuban present in episode or not\n",
    "48. Lori Greiner Present\t:Whether Lori Greiner present in episode or not\n",
    "49. Robert Herjavec Present\t:Whether Robert Herjavec present in episode or not\n",
    "50. Daymond John Present\t:Whether Daymond John present in episode or not\n",
    "51. Kevin O Leary Present\t:Whether Kevin O Leary present in episode or not"
   ]
  },
  {
   "cell_type": "code",
   "execution_count": 6,
   "id": "a4cdd475",
   "metadata": {},
   "outputs": [
    {
     "data": {
      "text/plain": [
       "5     116\n",
       "6     116\n",
       "7     116\n",
       "4     103\n",
       "12    100\n",
       "8      96\n",
       "9      96\n",
       "11     96\n",
       "13     96\n",
       "10     92\n",
       "14     87\n",
       "1      64\n",
       "3      60\n",
       "2      36\n",
       "Name: Season Number, dtype: int64"
      ]
     },
     "execution_count": 6,
     "metadata": {},
     "output_type": "execute_result"
    }
   ],
   "source": [
    "df['Season Number'].value_counts()"
   ]
  },
  {
   "cell_type": "code",
   "execution_count": 7,
   "id": "b310d442",
   "metadata": {},
   "outputs": [
    {
     "data": {
      "text/plain": [
       "20-Sep-13    116\n",
       "26-Sep-14    116\n",
       "25-Sep-15    116\n",
       "14-Sep-12    103\n",
       "16-Oct-20    100\n",
       "23-Sep-16     96\n",
       "01-Oct-17     96\n",
       "29-Sep-19     96\n",
       "08-Oct-21     96\n",
       "07-Oct-18     92\n",
       "23-Sep-22     87\n",
       "09-Aug-09     64\n",
       "20-Jan-12     60\n",
       "20-Mar-11     36\n",
       "Name: Season Start, dtype: int64"
      ]
     },
     "execution_count": 7,
     "metadata": {},
     "output_type": "execute_result"
    }
   ],
   "source": [
    "df['Season Start'].value_counts()"
   ]
  },
  {
   "cell_type": "code",
   "execution_count": 8,
   "id": "c74292ec",
   "metadata": {},
   "outputs": [
    {
     "data": {
      "text/plain": [
       "16-May-14    116\n",
       "15-May-15    116\n",
       "20-May-16    116\n",
       "17-May-13    103\n",
       "21-May-21    100\n",
       "12-May-17     96\n",
       "25-Feb-18     96\n",
       "15-May-20     96\n",
       "20-May-22     96\n",
       "12-May-19     92\n",
       "19-May-23     87\n",
       "05-Feb-10     64\n",
       "18-May-12     60\n",
       "13-May-11     36\n",
       "Name: Season End, dtype: int64"
      ]
     },
     "execution_count": 8,
     "metadata": {},
     "output_type": "execute_result"
    }
   ],
   "source": [
    "df['Season End'].value_counts()"
   ]
  },
  {
   "cell_type": "code",
   "execution_count": 9,
   "id": "00f316d8",
   "metadata": {},
   "outputs": [
    {
     "data": {
      "text/plain": [
       "Male          703\n",
       "Female        330\n",
       "Mixed Team    234\n",
       "Name: Pitchers Gender, dtype: int64"
      ]
     },
     "execution_count": 9,
     "metadata": {},
     "output_type": "execute_result"
    }
   ],
   "source": [
    "df['Pitchers Gender'].value_counts()"
   ]
  },
  {
   "cell_type": "code",
   "execution_count": 12,
   "id": "ad909bb3",
   "metadata": {},
   "outputs": [
    {
     "data": {
      "text/plain": [
       "994                      Wylie Robinson\n",
       "998                        Juan Salinas\n",
       "1000      Sobhan Kanaee and Kanz Kayfan\n",
       "1004          Jordan Long and Liz Charm\n",
       "1070    Harry Levin and Michael Sweigar\n",
       "1099       Dwayne Walker and Tim Samuel\n",
       "1121                         Tommy Holl\n",
       "Name: Entrepreneur Names, dtype: object"
      ]
     },
     "execution_count": 12,
     "metadata": {},
     "output_type": "execute_result"
    }
   ],
   "source": [
    "df.loc[df['Pitchers Gender'].isnull(),'Entrepreneur Names']"
   ]
  },
  {
   "cell_type": "code",
   "execution_count": 14,
   "id": "b838bfe4",
   "metadata": {},
   "outputs": [],
   "source": [
    "#df_copy = df.copy()"
   ]
  },
  {
   "cell_type": "code",
   "execution_count": 16,
   "id": "9c5724f4",
   "metadata": {},
   "outputs": [],
   "source": [
    "df = df.fillna({\n",
    "    'Pitchers Gender':'Male'\n",
    "})"
   ]
  },
  {
   "cell_type": "code",
   "execution_count": 17,
   "id": "daaa0289",
   "metadata": {},
   "outputs": [
    {
     "name": "stdout",
     "output_type": "stream",
     "text": [
      "<class 'pandas.core.frame.DataFrame'>\n",
      "RangeIndex: 1274 entries, 0 to 1273\n",
      "Data columns (total 50 columns):\n",
      " #   Column                              Non-Null Count  Dtype  \n",
      "---  ------                              --------------  -----  \n",
      " 0   Season Number                       1274 non-null   int64  \n",
      " 1   Season Start                        1274 non-null   object \n",
      " 2   Season End                          1274 non-null   object \n",
      " 3   Episode Number                      1274 non-null   int64  \n",
      " 4   Pitch Number                        1274 non-null   int64  \n",
      " 5   Original Air Date                   1274 non-null   object \n",
      " 6   Startup Name                        1274 non-null   object \n",
      " 7   Industry                            1274 non-null   object \n",
      " 8   Business Description                1274 non-null   object \n",
      " 9   Pitchers Gender                     1274 non-null   object \n",
      " 10  Pitchers City                       502 non-null    object \n",
      " 11  Pitchers State                      746 non-null    object \n",
      " 12  Pitchers Average Age                338 non-null    object \n",
      " 13  Entrepreneur Names                  779 non-null    object \n",
      " 14  Company Website                     516 non-null    object \n",
      " 15  Multiple Entrepreneurs              847 non-null    float64\n",
      " 16  US Viewership                       1274 non-null   float64\n",
      " 17  Original Ask Amount                 1274 non-null   int64  \n",
      " 18  Original Offered Equity             1274 non-null   float64\n",
      " 19  Valuation Requested                 1274 non-null   int64  \n",
      " 20  Got Deal                            1274 non-null   int64  \n",
      " 21  Total Deal Amount                   765 non-null    float64\n",
      " 22  Total Deal Equity                   765 non-null    float64\n",
      " 23  Deal Valuation                      765 non-null    float64\n",
      " 24  Number of sharks in deal            765 non-null    float64\n",
      " 25  Investment Amount Per Shark         765 non-null    float64\n",
      " 26  Equity Per Shark                    765 non-null    float64\n",
      " 27  Royalty Deal                        75 non-null     float64\n",
      " 28  Loan                                52 non-null     float64\n",
      " 29  Barbara Corcoran Investment Amount  120 non-null    float64\n",
      " 30  Barbara Corcoran Investment Equity  120 non-null    float64\n",
      " 31  Mark Cuban Investment Amount        230 non-null    float64\n",
      " 32  Mark Cuban Investment Equity        230 non-null    float64\n",
      " 33  Lori Greiner Investment Amount      199 non-null    float64\n",
      " 34  Lori Greiner Investment Equity      199 non-null    float64\n",
      " 35  Robert Herjavec Investment Amount   121 non-null    float64\n",
      " 36  Robert Herjavec Investment Equity   121 non-null    float64\n",
      " 37  Daymond John Investment Amount      111 non-null    float64\n",
      " 38  Daymond John Investment Equity      111 non-null    float64\n",
      " 39  Kevin O Leary Investment Amount     117 non-null    float64\n",
      " 40  Kevin O Leary Investment Equity     117 non-null    float64\n",
      " 41  Guest Investment Amount             105 non-null    float64\n",
      " 42  Guest Investment Equity             105 non-null    float64\n",
      " 43  Guest Name                          105 non-null    object \n",
      " 44  Barbara Corcoran Present            898 non-null    float64\n",
      " 45  Mark Cuban Present                  901 non-null    float64\n",
      " 46  Lori Greiner Present                901 non-null    float64\n",
      " 47  Robert Herjavec Present             897 non-null    float64\n",
      " 48  Daymond John Present                898 non-null    float64\n",
      " 49  Kevin O Leary Present               898 non-null    float64\n",
      "dtypes: float64(31), int64(6), object(13)\n",
      "memory usage: 497.8+ KB\n"
     ]
    }
   ],
   "source": [
    "df.info()"
   ]
  },
  {
   "cell_type": "code",
   "execution_count": 18,
   "id": "01c4ff77",
   "metadata": {},
   "outputs": [
    {
     "data": {
      "text/plain": [
       "Los Angeles      41\n",
       "New York         31\n",
       "San Francisco    26\n",
       "Chicago          14\n",
       "Austin           13\n",
       "                 ..\n",
       "Roanoke           1\n",
       "Omaha             1\n",
       "Lafayette         1\n",
       "Waitsfield        1\n",
       "Longmont          1\n",
       "Name: Pitchers City, Length: 252, dtype: int64"
      ]
     },
     "execution_count": 18,
     "metadata": {},
     "output_type": "execute_result"
    }
   ],
   "source": [
    "df['Pitchers City'].value_counts()"
   ]
  },
  {
   "cell_type": "code",
   "execution_count": 19,
   "id": "210d194e",
   "metadata": {},
   "outputs": [
    {
     "data": {
      "text/plain": [
       "CA        210\n",
       "NY         72\n",
       "TX         55\n",
       "FL         47\n",
       "IL         31\n",
       "CO         25\n",
       "GA         23\n",
       "UT         23\n",
       "MA         21\n",
       "PA         20\n",
       "OR         20\n",
       "NC         19\n",
       "OH         19\n",
       "WA         15\n",
       "NJ         14\n",
       "AZ         13\n",
       "VA         11\n",
       "MI          9\n",
       "NV          9\n",
       "CT          7\n",
       "DC          6\n",
       "MO          6\n",
       "MN          6\n",
       "TN          6\n",
       "IN          5\n",
       "MD          5\n",
       "LA          4\n",
       "VT          4\n",
       "OK          4\n",
       "HI          4\n",
       "WI          4\n",
       "SC          4\n",
       "MS          3\n",
       "KS          3\n",
       "ID          3\n",
       "RI          3\n",
       "AR          2\n",
       "KY          2\n",
       "AL          2\n",
       "NE          1\n",
       "NH          1\n",
       "IA          1\n",
       "MT          1\n",
       "DE          1\n",
       "AK          1\n",
       "Canada      1\n",
       "Name: Pitchers State, dtype: int64"
      ]
     },
     "execution_count": 19,
     "metadata": {},
     "output_type": "execute_result"
    }
   ],
   "source": [
    "df['Pitchers State'].value_counts()"
   ]
  },
  {
   "cell_type": "code",
   "execution_count": null,
   "id": "3cd6fa40",
   "metadata": {},
   "outputs": [],
   "source": [
    "#CA = California\n",
    "#NY = Newyork\n",
    "#TX = Texas\n",
    "#FL = Florida\n",
    "#IL = Illinois\n",
    "#CO = Colorado\n",
    "#GA = Georgia\n",
    "#UT = Utah\n",
    "#MA\n",
    "#PA         20\n",
    "#OR         20\n",
    "#NC         19\n",
    "#OH         19\n",
    "#WA         15\n",
    "#NJ         14\n",
    "#AZ         13\n",
    "#VA         11\n",
    "#MI          9\n",
    "#NV          9\n",
    "#CT          7\n",
    "#DC          6\n",
    "#MO          6\n",
    "#MN          6\n",
    "#TN          6\n",
    "#IN          5\n",
    "#MD          5\n",
    "#LA          4\n",
    "#VT          4\n",
    "#OK          4\n",
    "#HI          4\n",
    "#WI          4\n",
    "#SC          4\n",
    "#MS          3\n",
    "#KS          3\n",
    "#ID          3\n",
    "#RI          3\n",
    "#AR          2\n",
    "#KY          2\n",
    "#AL          2\n",
    "#NE          1\n",
    "#NH          1\n",
    "#IA          1\n",
    "#MT          1\n",
    "#DE          1\n",
    "#AK          1\n",
    "#Canada      1\n",
    "\n"
   ]
  },
  {
   "cell_type": "code",
   "execution_count": 20,
   "id": "eed821a6",
   "metadata": {},
   "outputs": [],
   "source": [
    "replace_dict = {\n",
    "    'CA':'California',\n",
    "    'NY' : 'Newyork',\n",
    "    'TX' : 'Texas',\n",
    "    'FL' : 'Florida',\n",
    "    'IL' : 'Illinois',\n",
    "    'CO' : 'Colorado',\n",
    "    'GA' : 'Georgia',\n",
    "    'UT' : 'Utah',\n",
    "    'MA' : 'Massachusetts',\n",
    "    'PA' : 'Pennsylvania',\n",
    "    'OR' : 'Oregon',\n",
    "    'NC' : 'North Carolina',\n",
    "    'OH' : 'Ohio',\n",
    "    'WA' : 'Washington',\n",
    "    'NJ' : 'New Jersey',         \n",
    "    'AZ' : 'Arizona',\n",
    "    'VA' : 'Virginia',        \n",
    "    'MI' : 'Michigan',        \n",
    "    'NV' : 'Nevada',\n",
    "    'CT' : 'Connecticut',        \n",
    "    'DC' : 'District of Columbia',        \n",
    "    'MO' : 'Missouri',         \n",
    "    'MN' : 'Minnesota',        \n",
    "    'TN' : 'Tennessee',        \n",
    "    'IN' : 'Indiana',\n",
    "    'MD' : 'Maryland',         \n",
    "    'LA' : 'Louisiana',     \n",
    "    'VT' : 'Vermont',       \n",
    "    'OK' : 'Oklahoma',         \n",
    "    'HI' : 'Hawaii',\n",
    "    'WI' : 'Wisconsin',        \n",
    "    'SC' : 'South Carolina',      \n",
    "    'MS' : 'Mississippi',          \n",
    "    'KS' : 'Kansas',          \n",
    "    'ID' : 'Idaho',          \n",
    "    'RI' : 'Rhode Island',          \n",
    "    'AR' : 'Arkansas',         \n",
    "    'KY' : 'Kentucky',         \n",
    "    'AL' : 'Alabama',         \n",
    "    'NE' : 'Nebraska',          \n",
    "    'NH' : 'New Hampshire',         \n",
    "    'IA' : 'Iowa',          \n",
    "    'MT' : 'Montana',\n",
    "    'DE' : 'Delaware',        \n",
    "    'AK' : 'Alaska'         \n",
    "}"
   ]
  },
  {
   "cell_type": "code",
   "execution_count": 21,
   "id": "e6962cbc",
   "metadata": {},
   "outputs": [
    {
     "data": {
      "text/plain": [
       "{'CA': 'California',\n",
       " 'NY': 'Newyork',\n",
       " 'TX': 'Texas',\n",
       " 'FL': 'Florida',\n",
       " 'IL': 'Illinois',\n",
       " 'CO': 'Colorado',\n",
       " 'GA': 'Georgia',\n",
       " 'UT': 'Utah',\n",
       " 'MA': 'Massachusetts',\n",
       " 'PA': 'Pennsylvania',\n",
       " 'OR': 'Oregon',\n",
       " 'NC': 'North Carolina',\n",
       " 'OH': 'Ohio',\n",
       " 'WA': 'Washington',\n",
       " 'NJ': 'New Jersey',\n",
       " 'AZ': 'Arizona',\n",
       " 'VA': 'Virginia',\n",
       " 'MI': 'Michigan',\n",
       " 'NV': 'Nevada',\n",
       " 'CT': 'Connecticut',\n",
       " 'DC': 'District of Columbia',\n",
       " 'MO': 'Missouri',\n",
       " 'MN': 'Minnesota',\n",
       " 'TN': 'Tennessee',\n",
       " 'IN': 'Indiana',\n",
       " 'MD': 'Maryland',\n",
       " 'LA': 'Louisiana',\n",
       " 'VT': 'Vermont',\n",
       " 'OK': 'Oklahoma',\n",
       " 'HI': 'Hawaii',\n",
       " 'WI': 'Wisconsin',\n",
       " 'SC': 'South Carolina',\n",
       " 'MS': 'Mississippi',\n",
       " 'KS': 'Kansas',\n",
       " 'ID': 'Idaho',\n",
       " 'RI': 'Rhode Island',\n",
       " 'AR': 'Arkansas',\n",
       " 'KY': 'Kentucky',\n",
       " 'AL': 'Alabama',\n",
       " 'NE': 'Nebraska',\n",
       " 'NH': 'New Hampshire',\n",
       " 'IA': 'Iowa',\n",
       " 'MT': 'Montana',\n",
       " 'DE': 'Delaware',\n",
       " 'AK': 'Alaska'}"
      ]
     },
     "execution_count": 21,
     "metadata": {},
     "output_type": "execute_result"
    }
   ],
   "source": [
    "replace_dict"
   ]
  },
  {
   "cell_type": "code",
   "execution_count": 22,
   "id": "4ddcef29",
   "metadata": {},
   "outputs": [],
   "source": [
    "df['Pitchers State'] = df['Pitchers State'].replace(replace_dict)"
   ]
  },
  {
   "cell_type": "code",
   "execution_count": 23,
   "id": "bd944f9e",
   "metadata": {},
   "outputs": [
    {
     "data": {
      "text/plain": [
       "California              210\n",
       "Newyork                  72\n",
       "Texas                    55\n",
       "Florida                  47\n",
       "Illinois                 31\n",
       "Colorado                 25\n",
       "Georgia                  23\n",
       "Utah                     23\n",
       "Massachusetts            21\n",
       "Pennsylvania             20\n",
       "Oregon                   20\n",
       "North Carolina           19\n",
       "Ohio                     19\n",
       "Washington               15\n",
       "New Jersey               14\n",
       "Arizona                  13\n",
       "Virginia                 11\n",
       "Michigan                  9\n",
       "Nevada                    9\n",
       "Connecticut               7\n",
       "District of Columbia      6\n",
       "Missouri                  6\n",
       "Minnesota                 6\n",
       "Tennessee                 6\n",
       "Indiana                   5\n",
       "Maryland                  5\n",
       "Louisiana                 4\n",
       "Vermont                   4\n",
       "Oklahoma                  4\n",
       "Hawaii                    4\n",
       "Wisconsin                 4\n",
       "South Carolina            4\n",
       "Mississippi               3\n",
       "Kansas                    3\n",
       "Idaho                     3\n",
       "Rhode Island              3\n",
       "Arkansas                  2\n",
       "Kentucky                  2\n",
       "Alabama                   2\n",
       "Nebraska                  1\n",
       "New Hampshire             1\n",
       "Iowa                      1\n",
       "Montana                   1\n",
       "Delaware                  1\n",
       "Alaska                    1\n",
       "Canada                    1\n",
       "Name: Pitchers State, dtype: int64"
      ]
     },
     "execution_count": 23,
     "metadata": {},
     "output_type": "execute_result"
    }
   ],
   "source": [
    "df['Pitchers State'].value_counts()"
   ]
  },
  {
   "cell_type": "code",
   "execution_count": 24,
   "id": "8d848ba3",
   "metadata": {},
   "outputs": [
    {
     "name": "stdout",
     "output_type": "stream",
     "text": [
      "<class 'pandas.core.frame.DataFrame'>\n",
      "RangeIndex: 1274 entries, 0 to 1273\n",
      "Data columns (total 50 columns):\n",
      " #   Column                              Non-Null Count  Dtype  \n",
      "---  ------                              --------------  -----  \n",
      " 0   Season Number                       1274 non-null   int64  \n",
      " 1   Season Start                        1274 non-null   object \n",
      " 2   Season End                          1274 non-null   object \n",
      " 3   Episode Number                      1274 non-null   int64  \n",
      " 4   Pitch Number                        1274 non-null   int64  \n",
      " 5   Original Air Date                   1274 non-null   object \n",
      " 6   Startup Name                        1274 non-null   object \n",
      " 7   Industry                            1274 non-null   object \n",
      " 8   Business Description                1274 non-null   object \n",
      " 9   Pitchers Gender                     1274 non-null   object \n",
      " 10  Pitchers City                       502 non-null    object \n",
      " 11  Pitchers State                      746 non-null    object \n",
      " 12  Pitchers Average Age                338 non-null    object \n",
      " 13  Entrepreneur Names                  779 non-null    object \n",
      " 14  Company Website                     516 non-null    object \n",
      " 15  Multiple Entrepreneurs              847 non-null    float64\n",
      " 16  US Viewership                       1274 non-null   float64\n",
      " 17  Original Ask Amount                 1274 non-null   int64  \n",
      " 18  Original Offered Equity             1274 non-null   float64\n",
      " 19  Valuation Requested                 1274 non-null   int64  \n",
      " 20  Got Deal                            1274 non-null   int64  \n",
      " 21  Total Deal Amount                   765 non-null    float64\n",
      " 22  Total Deal Equity                   765 non-null    float64\n",
      " 23  Deal Valuation                      765 non-null    float64\n",
      " 24  Number of sharks in deal            765 non-null    float64\n",
      " 25  Investment Amount Per Shark         765 non-null    float64\n",
      " 26  Equity Per Shark                    765 non-null    float64\n",
      " 27  Royalty Deal                        75 non-null     float64\n",
      " 28  Loan                                52 non-null     float64\n",
      " 29  Barbara Corcoran Investment Amount  120 non-null    float64\n",
      " 30  Barbara Corcoran Investment Equity  120 non-null    float64\n",
      " 31  Mark Cuban Investment Amount        230 non-null    float64\n",
      " 32  Mark Cuban Investment Equity        230 non-null    float64\n",
      " 33  Lori Greiner Investment Amount      199 non-null    float64\n",
      " 34  Lori Greiner Investment Equity      199 non-null    float64\n",
      " 35  Robert Herjavec Investment Amount   121 non-null    float64\n",
      " 36  Robert Herjavec Investment Equity   121 non-null    float64\n",
      " 37  Daymond John Investment Amount      111 non-null    float64\n",
      " 38  Daymond John Investment Equity      111 non-null    float64\n",
      " 39  Kevin O Leary Investment Amount     117 non-null    float64\n",
      " 40  Kevin O Leary Investment Equity     117 non-null    float64\n",
      " 41  Guest Investment Amount             105 non-null    float64\n",
      " 42  Guest Investment Equity             105 non-null    float64\n",
      " 43  Guest Name                          105 non-null    object \n",
      " 44  Barbara Corcoran Present            898 non-null    float64\n",
      " 45  Mark Cuban Present                  901 non-null    float64\n",
      " 46  Lori Greiner Present                901 non-null    float64\n",
      " 47  Robert Herjavec Present             897 non-null    float64\n",
      " 48  Daymond John Present                898 non-null    float64\n",
      " 49  Kevin O Leary Present               898 non-null    float64\n",
      "dtypes: float64(31), int64(6), object(13)\n",
      "memory usage: 497.8+ KB\n"
     ]
    }
   ],
   "source": [
    "df.info()"
   ]
  },
  {
   "cell_type": "code",
   "execution_count": 29,
   "id": "3dcabde7",
   "metadata": {},
   "outputs": [
    {
     "name": "stdout",
     "output_type": "stream",
     "text": [
      "<class 'pandas.core.frame.DataFrame'>\n",
      "RangeIndex: 1274 entries, 0 to 1273\n",
      "Data columns (total 50 columns):\n",
      " #   Column                              Non-Null Count  Dtype  \n",
      "---  ------                              --------------  -----  \n",
      " 0   Season Number                       1274 non-null   int64  \n",
      " 1   Season Start                        1274 non-null   object \n",
      " 2   Season End                          1274 non-null   object \n",
      " 3   Episode Number                      1274 non-null   int64  \n",
      " 4   Pitch Number                        1274 non-null   int64  \n",
      " 5   Original Air Date                   1274 non-null   object \n",
      " 6   Startup Name                        1274 non-null   object \n",
      " 7   Industry                            1274 non-null   object \n",
      " 8   Business Description                1274 non-null   object \n",
      " 9   Pitchers Gender                     1274 non-null   object \n",
      " 10  Pitchers City                       502 non-null    object \n",
      " 11  Pitchers State                      746 non-null    object \n",
      " 12  Pitchers Average Age                338 non-null    object \n",
      " 13  Entrepreneur Names                  779 non-null    object \n",
      " 14  Company Website                     516 non-null    object \n",
      " 15  Multiple Entrepreneurs              847 non-null    float64\n",
      " 16  US Viewership                       1274 non-null   float64\n",
      " 17  Original Ask Amount                 1274 non-null   int64  \n",
      " 18  Original Offered Equity             1274 non-null   float64\n",
      " 19  Valuation Requested                 1274 non-null   int64  \n",
      " 20  Got Deal                            1274 non-null   int64  \n",
      " 21  Total Deal Amount                   765 non-null    float64\n",
      " 22  Total Deal Equity                   765 non-null    float64\n",
      " 23  Deal Valuation                      765 non-null    float64\n",
      " 24  Number of sharks in deal            765 non-null    float64\n",
      " 25  Investment Amount Per Shark         765 non-null    float64\n",
      " 26  Equity Per Shark                    765 non-null    float64\n",
      " 27  Royalty Deal                        75 non-null     float64\n",
      " 28  Loan                                52 non-null     float64\n",
      " 29  Barbara Corcoran Investment Amount  120 non-null    float64\n",
      " 30  Barbara Corcoran Investment Equity  120 non-null    float64\n",
      " 31  Mark Cuban Investment Amount        230 non-null    float64\n",
      " 32  Mark Cuban Investment Equity        230 non-null    float64\n",
      " 33  Lori Greiner Investment Amount      199 non-null    float64\n",
      " 34  Lori Greiner Investment Equity      199 non-null    float64\n",
      " 35  Robert Herjavec Investment Amount   121 non-null    float64\n",
      " 36  Robert Herjavec Investment Equity   121 non-null    float64\n",
      " 37  Daymond John Investment Amount      111 non-null    float64\n",
      " 38  Daymond John Investment Equity      111 non-null    float64\n",
      " 39  Kevin O Leary Investment Amount     117 non-null    float64\n",
      " 40  Kevin O Leary Investment Equity     117 non-null    float64\n",
      " 41  Guest Investment Amount             105 non-null    float64\n",
      " 42  Guest Investment Equity             105 non-null    float64\n",
      " 43  Guest Name                          105 non-null    object \n",
      " 44  Barbara Corcoran Present            898 non-null    float64\n",
      " 45  Mark Cuban Present                  901 non-null    float64\n",
      " 46  Lori Greiner Present                901 non-null    float64\n",
      " 47  Robert Herjavec Present             897 non-null    float64\n",
      " 48  Daymond John Present                898 non-null    float64\n",
      " 49  Kevin O Leary Present               898 non-null    float64\n",
      "dtypes: float64(31), int64(6), object(13)\n",
      "memory usage: 497.8+ KB\n"
     ]
    }
   ],
   "source": [
    "df.info()"
   ]
  },
  {
   "cell_type": "code",
   "execution_count": 28,
   "id": "96d1d2d1",
   "metadata": {},
   "outputs": [
    {
     "data": {
      "text/plain": [
       "495     NaN\n",
       "496     NaN\n",
       "497     NaN\n",
       "498     NaN\n",
       "499     NaN\n",
       "       ... \n",
       "1269    NaN\n",
       "1270    NaN\n",
       "1271    NaN\n",
       "1272    NaN\n",
       "1273    NaN\n",
       "Name: Pitchers City, Length: 772, dtype: object"
      ]
     },
     "execution_count": 28,
     "metadata": {},
     "output_type": "execute_result"
    }
   ],
   "source": [
    "df.loc[df['Pitchers City'].isnull(),'Pitchers City']"
   ]
  },
  {
   "cell_type": "code",
   "execution_count": 33,
   "id": "01eae3b2",
   "metadata": {},
   "outputs": [
    {
     "data": {
      "text/plain": [
       "{'whiskers': [<matplotlib.lines.Line2D at 0x1e14f4a1050>,\n",
       "  <matplotlib.lines.Line2D at 0x1e14f4a1c50>],\n",
       " 'caps': [<matplotlib.lines.Line2D at 0x1e14f4a2610>,\n",
       "  <matplotlib.lines.Line2D at 0x1e14f4a2fd0>],\n",
       " 'boxes': [<matplotlib.lines.Line2D at 0x1e14f404c50>],\n",
       " 'medians': [<matplotlib.lines.Line2D at 0x1e14f4a3890>],\n",
       " 'fliers': [<matplotlib.lines.Line2D at 0x1e14f4dc1d0>],\n",
       " 'means': []}"
      ]
     },
     "execution_count": 33,
     "metadata": {},
     "output_type": "execute_result"
    },
    {
     "data": {
      "image/png": "[encoded data removed]",
      "text/plain": [
       "<Figure size 640x480 with 1 Axes>"
      ]
     },
     "metadata": {},
     "output_type": "display_data"
    }
   ],
   "source": [
    "plt.boxplot(df['US Viewership'])"
   ]
  },
  {
   "cell_type": "code",
   "execution_count": 34,
   "id": "6e158906",
   "metadata": {},
   "outputs": [
    {
     "data": {
      "text/plain": [
       "Food and Beverage          276\n",
       "Lifestyle/Home             228\n",
       "Fashion/Beauty             217\n",
       "Children/Education         118\n",
       "Fitness/Sports/Outdoors    113\n",
       "Health/Wellness             65\n",
       "Software/Tech               65\n",
       "Pet Products                51\n",
       "Business Services           37\n",
       "Media/Entertainment         24\n",
       "Uncertain/Other             18\n",
       "Automotive                  17\n",
       "Electronics                 15\n",
       "Green/CleanTech             11\n",
       "Travel                      11\n",
       "Liquor/Alcohol               8\n",
       "Name: Industry, dtype: int64"
      ]
     },
     "execution_count": 34,
     "metadata": {},
     "output_type": "execute_result"
    }
   ],
   "source": [
    "df['Industry'].value_counts()"
   ]
  },
  {
   "cell_type": "code",
   "execution_count": 35,
   "id": "9b699a61",
   "metadata": {},
   "outputs": [
    {
     "data": {
      "text/plain": [
       "Middle    308\n",
       "Young      24\n",
       "Old         6\n",
       "Name: Pitchers Average Age, dtype: int64"
      ]
     },
     "execution_count": 35,
     "metadata": {},
     "output_type": "execute_result"
    }
   ],
   "source": [
    "df['Pitchers Average Age'].value_counts()"
   ]
  },
  {
   "cell_type": "code",
   "execution_count": 44,
   "id": "9b2ff4d9",
   "metadata": {},
   "outputs": [],
   "source": [
    "#df_copy = df.copy()"
   ]
  },
  {
   "cell_type": "code",
   "execution_count": 46,
   "id": "f8858466",
   "metadata": {},
   "outputs": [],
   "source": [
    "df = df.fillna({\n",
    "    'Pitchers Average Age':'Not Defined'\n",
    "})"
   ]
  },
  {
   "cell_type": "code",
   "execution_count": 47,
   "id": "53946233",
   "metadata": {},
   "outputs": [
    {
     "name": "stdout",
     "output_type": "stream",
     "text": [
      "<class 'pandas.core.frame.DataFrame'>\n",
      "RangeIndex: 1274 entries, 0 to 1273\n",
      "Data columns (total 50 columns):\n",
      " #   Column                              Non-Null Count  Dtype  \n",
      "---  ------                              --------------  -----  \n",
      " 0   Season Number                       1274 non-null   int64  \n",
      " 1   Season Start                        1274 non-null   object \n",
      " 2   Season End                          1274 non-null   object \n",
      " 3   Episode Number                      1274 non-null   int64  \n",
      " 4   Pitch Number                        1274 non-null   int64  \n",
      " 5   Original Air Date                   1274 non-null   object \n",
      " 6   Startup Name                        1274 non-null   object \n",
      " 7   Industry                            1274 non-null   object \n",
      " 8   Business Description                1274 non-null   object \n",
      " 9   Pitchers Gender                     1274 non-null   object \n",
      " 10  Pitchers City                       502 non-null    object \n",
      " 11  Pitchers State                      746 non-null    object \n",
      " 12  Pitchers Average Age                1274 non-null   object \n",
      " 13  Entrepreneur Names                  779 non-null    object \n",
      " 14  Company Website                     516 non-null    object \n",
      " 15  Multiple Entrepreneurs              847 non-null    float64\n",
      " 16  US Viewership                       1274 non-null   float64\n",
      " 17  Original Ask Amount                 1274 non-null   int64  \n",
      " 18  Original Offered Equity             1274 non-null   float64\n",
      " 19  Valuation Requested                 1274 non-null   int64  \n",
      " 20  Got Deal                            1274 non-null   int64  \n",
      " 21  Total Deal Amount                   765 non-null    float64\n",
      " 22  Total Deal Equity                   765 non-null    float64\n",
      " 23  Deal Valuation                      765 non-null    float64\n",
      " 24  Number of sharks in deal            765 non-null    float64\n",
      " 25  Investment Amount Per Shark         765 non-null    float64\n",
      " 26  Equity Per Shark                    765 non-null    float64\n",
      " 27  Royalty Deal                        75 non-null     float64\n",
      " 28  Loan                                52 non-null     float64\n",
      " 29  Barbara Corcoran Investment Amount  120 non-null    float64\n",
      " 30  Barbara Corcoran Investment Equity  120 non-null    float64\n",
      " 31  Mark Cuban Investment Amount        230 non-null    float64\n",
      " 32  Mark Cuban Investment Equity        230 non-null    float64\n",
      " 33  Lori Greiner Investment Amount      199 non-null    float64\n",
      " 34  Lori Greiner Investment Equity      199 non-null    float64\n",
      " 35  Robert Herjavec Investment Amount   121 non-null    float64\n",
      " 36  Robert Herjavec Investment Equity   121 non-null    float64\n",
      " 37  Daymond John Investment Amount      111 non-null    float64\n",
      " 38  Daymond John Investment Equity      111 non-null    float64\n",
      " 39  Kevin O Leary Investment Amount     117 non-null    float64\n",
      " 40  Kevin O Leary Investment Equity     117 non-null    float64\n",
      " 41  Guest Investment Amount             105 non-null    float64\n",
      " 42  Guest Investment Equity             105 non-null    float64\n",
      " 43  Guest Name                          105 non-null    object \n",
      " 44  Barbara Corcoran Present            898 non-null    float64\n",
      " 45  Mark Cuban Present                  901 non-null    float64\n",
      " 46  Lori Greiner Present                901 non-null    float64\n",
      " 47  Robert Herjavec Present             897 non-null    float64\n",
      " 48  Daymond John Present                898 non-null    float64\n",
      " 49  Kevin O Leary Present               898 non-null    float64\n",
      "dtypes: float64(31), int64(6), object(13)\n",
      "memory usage: 497.8+ KB\n"
     ]
    }
   ],
   "source": [
    "df.info()"
   ]
  },
  {
   "cell_type": "code",
   "execution_count": 49,
   "id": "64219a83",
   "metadata": {},
   "outputs": [
    {
     "data": {
      "text/plain": [
       "20.0    128\n",
       "25.0    119\n",
       "10.0     73\n",
       "15.0     68\n",
       "30.0     67\n",
       "       ... \n",
       "32.0      1\n",
       "37.5      1\n",
       "58.0      1\n",
       "65.0      1\n",
       "39.0      1\n",
       "Name: Total Deal Equity, Length: 61, dtype: int64"
      ]
     },
     "execution_count": 49,
     "metadata": {},
     "output_type": "execute_result"
    }
   ],
   "source": [
    "df['Total Deal Equity'].value_counts()"
   ]
  },
  {
   "cell_type": "code",
   "execution_count": 50,
   "id": "d7e30559",
   "metadata": {},
   "outputs": [
    {
     "name": "stdout",
     "output_type": "stream",
     "text": [
      "<class 'pandas.core.frame.DataFrame'>\n",
      "RangeIndex: 1274 entries, 0 to 1273\n",
      "Data columns (total 50 columns):\n",
      " #   Column                              Non-Null Count  Dtype  \n",
      "---  ------                              --------------  -----  \n",
      " 0   Season Number                       1274 non-null   int64  \n",
      " 1   Season Start                        1274 non-null   object \n",
      " 2   Season End                          1274 non-null   object \n",
      " 3   Episode Number                      1274 non-null   int64  \n",
      " 4   Pitch Number                        1274 non-null   int64  \n",
      " 5   Original Air Date                   1274 non-null   object \n",
      " 6   Startup Name                        1274 non-null   object \n",
      " 7   Industry                            1274 non-null   object \n",
      " 8   Business Description                1274 non-null   object \n",
      " 9   Pitchers Gender                     1274 non-null   object \n",
      " 10  Pitchers City                       502 non-null    object \n",
      " 11  Pitchers State                      746 non-null    object \n",
      " 12  Pitchers Average Age                1274 non-null   object \n",
      " 13  Entrepreneur Names                  779 non-null    object \n",
      " 14  Company Website                     516 non-null    object \n",
      " 15  Multiple Entrepreneurs              847 non-null    float64\n",
      " 16  US Viewership                       1274 non-null   float64\n",
      " 17  Original Ask Amount                 1274 non-null   int64  \n",
      " 18  Original Offered Equity             1274 non-null   float64\n",
      " 19  Valuation Requested                 1274 non-null   int64  \n",
      " 20  Got Deal                            1274 non-null   int64  \n",
      " 21  Total Deal Amount                   765 non-null    float64\n",
      " 22  Total Deal Equity                   765 non-null    float64\n",
      " 23  Deal Valuation                      765 non-null    float64\n",
      " 24  Number of sharks in deal            765 non-null    float64\n",
      " 25  Investment Amount Per Shark         765 non-null    float64\n",
      " 26  Equity Per Shark                    765 non-null    float64\n",
      " 27  Royalty Deal                        75 non-null     float64\n",
      " 28  Loan                                52 non-null     float64\n",
      " 29  Barbara Corcoran Investment Amount  120 non-null    float64\n",
      " 30  Barbara Corcoran Investment Equity  120 non-null    float64\n",
      " 31  Mark Cuban Investment Amount        230 non-null    float64\n",
      " 32  Mark Cuban Investment Equity        230 non-null    float64\n",
      " 33  Lori Greiner Investment Amount      199 non-null    float64\n",
      " 34  Lori Greiner Investment Equity      199 non-null    float64\n",
      " 35  Robert Herjavec Investment Amount   121 non-null    float64\n",
      " 36  Robert Herjavec Investment Equity   121 non-null    float64\n",
      " 37  Daymond John Investment Amount      111 non-null    float64\n",
      " 38  Daymond John Investment Equity      111 non-null    float64\n",
      " 39  Kevin O Leary Investment Amount     117 non-null    float64\n",
      " 40  Kevin O Leary Investment Equity     117 non-null    float64\n",
      " 41  Guest Investment Amount             105 non-null    float64\n",
      " 42  Guest Investment Equity             105 non-null    float64\n",
      " 43  Guest Name                          105 non-null    object \n",
      " 44  Barbara Corcoran Present            898 non-null    float64\n",
      " 45  Mark Cuban Present                  901 non-null    float64\n",
      " 46  Lori Greiner Present                901 non-null    float64\n",
      " 47  Robert Herjavec Present             897 non-null    float64\n",
      " 48  Daymond John Present                898 non-null    float64\n",
      " 49  Kevin O Leary Present               898 non-null    float64\n",
      "dtypes: float64(31), int64(6), object(13)\n",
      "memory usage: 497.8+ KB\n"
     ]
    }
   ],
   "source": [
    "df.info()"
   ]
  },
  {
   "cell_type": "code",
   "execution_count": 52,
   "id": "20186a27",
   "metadata": {},
   "outputs": [
    {
     "data": {
      "text/plain": [
       "5     116\n",
       "6     116\n",
       "7     116\n",
       "4     103\n",
       "12    100\n",
       "8      96\n",
       "9      96\n",
       "11     96\n",
       "13     96\n",
       "10     92\n",
       "14     87\n",
       "1      64\n",
       "3      60\n",
       "2      36\n",
       "Name: Season Number, dtype: int64"
      ]
     },
     "execution_count": 52,
     "metadata": {},
     "output_type": "execute_result"
    }
   ],
   "source": [
    "df['Season Number'].value_counts()"
   ]
  },
  {
   "cell_type": "code",
   "execution_count": 53,
   "id": "b5cd2f32",
   "metadata": {},
   "outputs": [],
   "source": [
    "season = {\n",
    "    1:'One',\n",
    "    2:'Two',\n",
    "    3:'Three',\n",
    "    4:'Four',\n",
    "    5:'Five',\n",
    "    6:'Six',\n",
    "    7:'Seven',\n",
    "    8:'Eight',\n",
    "    9:'Nine',\n",
    "    10:'Ten',\n",
    "    11:'Eleven',\n",
    "    12:'Twelve',\n",
    "    13:'Thirteen',\n",
    "    14:'Fourteen'\n",
    "}"
   ]
  },
  {
   "cell_type": "code",
   "execution_count": 55,
   "id": "51ce43ed",
   "metadata": {},
   "outputs": [],
   "source": [
    "df['Season Number'] = df['Season Number'].replace(season)"
   ]
  },
  {
   "cell_type": "code",
   "execution_count": 56,
   "id": "e83e633e",
   "metadata": {},
   "outputs": [
    {
     "data": {
      "text/plain": [
       "Five        116\n",
       "Six         116\n",
       "Seven       116\n",
       "Four        103\n",
       "Twelve      100\n",
       "Eight        96\n",
       "Nine         96\n",
       "Eleven       96\n",
       "Thirteen     96\n",
       "Ten          92\n",
       "Fourteen     87\n",
       "One          64\n",
       "Three        60\n",
       "Two          36\n",
       "Name: Season Number, dtype: int64"
      ]
     },
     "execution_count": 56,
     "metadata": {},
     "output_type": "execute_result"
    }
   ],
   "source": [
    "df['Season Number'].value_counts()"
   ]
  },
  {
   "cell_type": "code",
   "execution_count": 57,
   "id": "113740e0",
   "metadata": {},
   "outputs": [
    {
     "data": {
      "text/plain": [
       "1.0    75\n",
       "Name: Royalty Deal, dtype: int64"
      ]
     },
     "execution_count": 57,
     "metadata": {},
     "output_type": "execute_result"
    }
   ],
   "source": [
    "df['Royalty Deal'].value_counts()"
   ]
  },
  {
   "cell_type": "code",
   "execution_count": 59,
   "id": "796d686e",
   "metadata": {},
   "outputs": [],
   "source": [
    "df = df.fillna({\n",
    "    'Royalty Deal' : 0\n",
    "})"
   ]
  },
  {
   "cell_type": "code",
   "execution_count": 60,
   "id": "6d957d72",
   "metadata": {},
   "outputs": [
    {
     "data": {
      "text/plain": [
       "0.0    1199\n",
       "1.0      75\n",
       "Name: Royalty Deal, dtype: int64"
      ]
     },
     "execution_count": 60,
     "metadata": {},
     "output_type": "execute_result"
    }
   ],
   "source": [
    "df['Royalty Deal'].value_counts()"
   ]
  },
  {
   "cell_type": "code",
   "execution_count": 66,
   "id": "6ad3d769",
   "metadata": {},
   "outputs": [
    {
     "data": {
      "text/plain": [
       "(509, 50)"
      ]
     },
     "execution_count": 66,
     "metadata": {},
     "output_type": "execute_result"
    }
   ],
   "source": [
    "df[df['Number of sharks in deal'].isnull()].shape"
   ]
  },
  {
   "cell_type": "code",
   "execution_count": 68,
   "id": "1bd7de28",
   "metadata": {},
   "outputs": [
    {
     "data": {
      "text/plain": [
       "1.0    568\n",
       "2.0    171\n",
       "3.0     17\n",
       "5.0      6\n",
       "4.0      3\n",
       "Name: Number of sharks in deal, dtype: int64"
      ]
     },
     "execution_count": 68,
     "metadata": {},
     "output_type": "execute_result"
    }
   ],
   "source": [
    "df['Number of sharks in deal'].value_counts()"
   ]
  },
  {
   "cell_type": "code",
   "execution_count": 69,
   "id": "81681477",
   "metadata": {},
   "outputs": [],
   "source": [
    "df = df.fillna({\n",
    "    'Number of sharks in deal' : 0\n",
    "})"
   ]
  },
  {
   "cell_type": "code",
   "execution_count": 70,
   "id": "72383ce0",
   "metadata": {},
   "outputs": [
    {
     "data": {
      "text/plain": [
       "1.0    568\n",
       "0.0    509\n",
       "2.0    171\n",
       "3.0     17\n",
       "5.0      6\n",
       "4.0      3\n",
       "Name: Number of sharks in deal, dtype: int64"
      ]
     },
     "execution_count": 70,
     "metadata": {},
     "output_type": "execute_result"
    }
   ],
   "source": [
    "df['Number of sharks in deal'].value_counts()"
   ]
  },
  {
   "cell_type": "code",
   "execution_count": 71,
   "id": "1bc02e29",
   "metadata": {},
   "outputs": [
    {
     "name": "stdout",
     "output_type": "stream",
     "text": [
      "<class 'pandas.core.frame.DataFrame'>\n",
      "RangeIndex: 1274 entries, 0 to 1273\n",
      "Data columns (total 50 columns):\n",
      " #   Column                              Non-Null Count  Dtype  \n",
      "---  ------                              --------------  -----  \n",
      " 0   Season Number                       1274 non-null   object \n",
      " 1   Season Start                        1274 non-null   object \n",
      " 2   Season End                          1274 non-null   object \n",
      " 3   Episode Number                      1274 non-null   int64  \n",
      " 4   Pitch Number                        1274 non-null   int64  \n",
      " 5   Original Air Date                   1274 non-null   object \n",
      " 6   Startup Name                        1274 non-null   object \n",
      " 7   Industry                            1274 non-null   object \n",
      " 8   Business Description                1274 non-null   object \n",
      " 9   Pitchers Gender                     1274 non-null   object \n",
      " 10  Pitchers City                       502 non-null    object \n",
      " 11  Pitchers State                      746 non-null    object \n",
      " 12  Pitchers Average Age                1274 non-null   object \n",
      " 13  Entrepreneur Names                  779 non-null    object \n",
      " 14  Company Website                     516 non-null    object \n",
      " 15  Multiple Entrepreneurs              847 non-null    float64\n",
      " 16  US Viewership                       1274 non-null   float64\n",
      " 17  Original Ask Amount                 1274 non-null   int64  \n",
      " 18  Original Offered Equity             1274 non-null   float64\n",
      " 19  Valuation Requested                 1274 non-null   int64  \n",
      " 20  Got Deal                            1274 non-null   int64  \n",
      " 21  Total Deal Amount                   765 non-null    float64\n",
      " 22  Total Deal Equity                   765 non-null    float64\n",
      " 23  Deal Valuation                      765 non-null    float64\n",
      " 24  Number of sharks in deal            1274 non-null   float64\n",
      " 25  Investment Amount Per Shark         765 non-null    float64\n",
      " 26  Equity Per Shark                    765 non-null    float64\n",
      " 27  Royalty Deal                        1274 non-null   float64\n",
      " 28  Loan                                52 non-null     float64\n",
      " 29  Barbara Corcoran Investment Amount  120 non-null    float64\n",
      " 30  Barbara Corcoran Investment Equity  120 non-null    float64\n",
      " 31  Mark Cuban Investment Amount        230 non-null    float64\n",
      " 32  Mark Cuban Investment Equity        230 non-null    float64\n",
      " 33  Lori Greiner Investment Amount      199 non-null    float64\n",
      " 34  Lori Greiner Investment Equity      199 non-null    float64\n",
      " 35  Robert Herjavec Investment Amount   121 non-null    float64\n",
      " 36  Robert Herjavec Investment Equity   121 non-null    float64\n",
      " 37  Daymond John Investment Amount      111 non-null    float64\n",
      " 38  Daymond John Investment Equity      111 non-null    float64\n",
      " 39  Kevin O Leary Investment Amount     117 non-null    float64\n",
      " 40  Kevin O Leary Investment Equity     117 non-null    float64\n",
      " 41  Guest Investment Amount             105 non-null    float64\n",
      " 42  Guest Investment Equity             105 non-null    float64\n",
      " 43  Guest Name                          105 non-null    object \n",
      " 44  Barbara Corcoran Present            898 non-null    float64\n",
      " 45  Mark Cuban Present                  901 non-null    float64\n",
      " 46  Lori Greiner Present                901 non-null    float64\n",
      " 47  Robert Herjavec Present             897 non-null    float64\n",
      " 48  Daymond John Present                898 non-null    float64\n",
      " 49  Kevin O Leary Present               898 non-null    float64\n",
      "dtypes: float64(31), int64(5), object(14)\n",
      "memory usage: 497.8+ KB\n"
     ]
    }
   ],
   "source": [
    "df.info()"
   ]
  },
  {
   "cell_type": "code",
   "execution_count": 72,
   "id": "37297aa6",
   "metadata": {},
   "outputs": [
    {
     "data": {
      "text/plain": [
       "Los Angeles      41\n",
       "New York         31\n",
       "San Francisco    26\n",
       "Chicago          14\n",
       "Austin           13\n",
       "                 ..\n",
       "Roanoke           1\n",
       "Omaha             1\n",
       "Lafayette         1\n",
       "Waitsfield        1\n",
       "Longmont          1\n",
       "Name: Pitchers City, Length: 252, dtype: int64"
      ]
     },
     "execution_count": 72,
     "metadata": {},
     "output_type": "execute_result"
    }
   ],
   "source": [
    "df['Pitchers City'].value_counts()"
   ]
  },
  {
   "cell_type": "code",
   "execution_count": 73,
   "id": "313b2983",
   "metadata": {},
   "outputs": [],
   "source": [
    "df = df.fillna({\n",
    "    'Pitchers City':'Not Defined'\n",
    "})"
   ]
  },
  {
   "cell_type": "code",
   "execution_count": 74,
   "id": "208f90b1",
   "metadata": {},
   "outputs": [
    {
     "name": "stdout",
     "output_type": "stream",
     "text": [
      "<class 'pandas.core.frame.DataFrame'>\n",
      "RangeIndex: 1274 entries, 0 to 1273\n",
      "Data columns (total 50 columns):\n",
      " #   Column                              Non-Null Count  Dtype  \n",
      "---  ------                              --------------  -----  \n",
      " 0   Season Number                       1274 non-null   object \n",
      " 1   Season Start                        1274 non-null   object \n",
      " 2   Season End                          1274 non-null   object \n",
      " 3   Episode Number                      1274 non-null   int64  \n",
      " 4   Pitch Number                        1274 non-null   int64  \n",
      " 5   Original Air Date                   1274 non-null   object \n",
      " 6   Startup Name                        1274 non-null   object \n",
      " 7   Industry                            1274 non-null   object \n",
      " 8   Business Description                1274 non-null   object \n",
      " 9   Pitchers Gender                     1274 non-null   object \n",
      " 10  Pitchers City                       1274 non-null   object \n",
      " 11  Pitchers State                      746 non-null    object \n",
      " 12  Pitchers Average Age                1274 non-null   object \n",
      " 13  Entrepreneur Names                  779 non-null    object \n",
      " 14  Company Website                     516 non-null    object \n",
      " 15  Multiple Entrepreneurs              847 non-null    float64\n",
      " 16  US Viewership                       1274 non-null   float64\n",
      " 17  Original Ask Amount                 1274 non-null   int64  \n",
      " 18  Original Offered Equity             1274 non-null   float64\n",
      " 19  Valuation Requested                 1274 non-null   int64  \n",
      " 20  Got Deal                            1274 non-null   int64  \n",
      " 21  Total Deal Amount                   765 non-null    float64\n",
      " 22  Total Deal Equity                   765 non-null    float64\n",
      " 23  Deal Valuation                      765 non-null    float64\n",
      " 24  Number of sharks in deal            1274 non-null   float64\n",
      " 25  Investment Amount Per Shark         765 non-null    float64\n",
      " 26  Equity Per Shark                    765 non-null    float64\n",
      " 27  Royalty Deal                        1274 non-null   float64\n",
      " 28  Loan                                52 non-null     float64\n",
      " 29  Barbara Corcoran Investment Amount  120 non-null    float64\n",
      " 30  Barbara Corcoran Investment Equity  120 non-null    float64\n",
      " 31  Mark Cuban Investment Amount        230 non-null    float64\n",
      " 32  Mark Cuban Investment Equity        230 non-null    float64\n",
      " 33  Lori Greiner Investment Amount      199 non-null    float64\n",
      " 34  Lori Greiner Investment Equity      199 non-null    float64\n",
      " 35  Robert Herjavec Investment Amount   121 non-null    float64\n",
      " 36  Robert Herjavec Investment Equity   121 non-null    float64\n",
      " 37  Daymond John Investment Amount      111 non-null    float64\n",
      " 38  Daymond John Investment Equity      111 non-null    float64\n",
      " 39  Kevin O Leary Investment Amount     117 non-null    float64\n",
      " 40  Kevin O Leary Investment Equity     117 non-null    float64\n",
      " 41  Guest Investment Amount             105 non-null    float64\n",
      " 42  Guest Investment Equity             105 non-null    float64\n",
      " 43  Guest Name                          105 non-null    object \n",
      " 44  Barbara Corcoran Present            898 non-null    float64\n",
      " 45  Mark Cuban Present                  901 non-null    float64\n",
      " 46  Lori Greiner Present                901 non-null    float64\n",
      " 47  Robert Herjavec Present             897 non-null    float64\n",
      " 48  Daymond John Present                898 non-null    float64\n",
      " 49  Kevin O Leary Present               898 non-null    float64\n",
      "dtypes: float64(31), int64(5), object(14)\n",
      "memory usage: 497.8+ KB\n"
     ]
    }
   ],
   "source": [
    "df.info()"
   ]
  },
  {
   "cell_type": "code",
   "execution_count": 75,
   "id": "8d28b75f",
   "metadata": {},
   "outputs": [
    {
     "data": {
      "text/plain": [
       "California              210\n",
       "Newyork                  72\n",
       "Texas                    55\n",
       "Florida                  47\n",
       "Illinois                 31\n",
       "Colorado                 25\n",
       "Georgia                  23\n",
       "Utah                     23\n",
       "Massachusetts            21\n",
       "Pennsylvania             20\n",
       "Oregon                   20\n",
       "North Carolina           19\n",
       "Ohio                     19\n",
       "Washington               15\n",
       "New Jersey               14\n",
       "Arizona                  13\n",
       "Virginia                 11\n",
       "Michigan                  9\n",
       "Nevada                    9\n",
       "Connecticut               7\n",
       "District of Columbia      6\n",
       "Missouri                  6\n",
       "Minnesota                 6\n",
       "Tennessee                 6\n",
       "Indiana                   5\n",
       "Maryland                  5\n",
       "Louisiana                 4\n",
       "Vermont                   4\n",
       "Oklahoma                  4\n",
       "Hawaii                    4\n",
       "Wisconsin                 4\n",
       "South Carolina            4\n",
       "Mississippi               3\n",
       "Kansas                    3\n",
       "Idaho                     3\n",
       "Rhode Island              3\n",
       "Arkansas                  2\n",
       "Kentucky                  2\n",
       "Alabama                   2\n",
       "Nebraska                  1\n",
       "New Hampshire             1\n",
       "Iowa                      1\n",
       "Montana                   1\n",
       "Delaware                  1\n",
       "Alaska                    1\n",
       "Canada                    1\n",
       "Name: Pitchers State, dtype: int64"
      ]
     },
     "execution_count": 75,
     "metadata": {},
     "output_type": "execute_result"
    }
   ],
   "source": [
    "df['Pitchers State'].value_counts()"
   ]
  },
  {
   "cell_type": "code",
   "execution_count": 77,
   "id": "2bfa420a",
   "metadata": {},
   "outputs": [],
   "source": [
    "df = df.fillna({\n",
    "    'Pitchers State':'Not Defined'\n",
    "})"
   ]
  },
  {
   "cell_type": "code",
   "execution_count": 78,
   "id": "c5d6c229",
   "metadata": {},
   "outputs": [
    {
     "name": "stdout",
     "output_type": "stream",
     "text": [
      "<class 'pandas.core.frame.DataFrame'>\n",
      "RangeIndex: 1274 entries, 0 to 1273\n",
      "Data columns (total 50 columns):\n",
      " #   Column                              Non-Null Count  Dtype  \n",
      "---  ------                              --------------  -----  \n",
      " 0   Season Number                       1274 non-null   object \n",
      " 1   Season Start                        1274 non-null   object \n",
      " 2   Season End                          1274 non-null   object \n",
      " 3   Episode Number                      1274 non-null   int64  \n",
      " 4   Pitch Number                        1274 non-null   int64  \n",
      " 5   Original Air Date                   1274 non-null   object \n",
      " 6   Startup Name                        1274 non-null   object \n",
      " 7   Industry                            1274 non-null   object \n",
      " 8   Business Description                1274 non-null   object \n",
      " 9   Pitchers Gender                     1274 non-null   object \n",
      " 10  Pitchers City                       1274 non-null   object \n",
      " 11  Pitchers State                      1274 non-null   object \n",
      " 12  Pitchers Average Age                1274 non-null   object \n",
      " 13  Entrepreneur Names                  779 non-null    object \n",
      " 14  Company Website                     516 non-null    object \n",
      " 15  Multiple Entrepreneurs              847 non-null    float64\n",
      " 16  US Viewership                       1274 non-null   float64\n",
      " 17  Original Ask Amount                 1274 non-null   int64  \n",
      " 18  Original Offered Equity             1274 non-null   float64\n",
      " 19  Valuation Requested                 1274 non-null   int64  \n",
      " 20  Got Deal                            1274 non-null   int64  \n",
      " 21  Total Deal Amount                   765 non-null    float64\n",
      " 22  Total Deal Equity                   765 non-null    float64\n",
      " 23  Deal Valuation                      765 non-null    float64\n",
      " 24  Number of sharks in deal            1274 non-null   float64\n",
      " 25  Investment Amount Per Shark         765 non-null    float64\n",
      " 26  Equity Per Shark                    765 non-null    float64\n",
      " 27  Royalty Deal                        1274 non-null   float64\n",
      " 28  Loan                                52 non-null     float64\n",
      " 29  Barbara Corcoran Investment Amount  120 non-null    float64\n",
      " 30  Barbara Corcoran Investment Equity  120 non-null    float64\n",
      " 31  Mark Cuban Investment Amount        230 non-null    float64\n",
      " 32  Mark Cuban Investment Equity        230 non-null    float64\n",
      " 33  Lori Greiner Investment Amount      199 non-null    float64\n",
      " 34  Lori Greiner Investment Equity      199 non-null    float64\n",
      " 35  Robert Herjavec Investment Amount   121 non-null    float64\n",
      " 36  Robert Herjavec Investment Equity   121 non-null    float64\n",
      " 37  Daymond John Investment Amount      111 non-null    float64\n",
      " 38  Daymond John Investment Equity      111 non-null    float64\n",
      " 39  Kevin O Leary Investment Amount     117 non-null    float64\n",
      " 40  Kevin O Leary Investment Equity     117 non-null    float64\n",
      " 41  Guest Investment Amount             105 non-null    float64\n",
      " 42  Guest Investment Equity             105 non-null    float64\n",
      " 43  Guest Name                          105 non-null    object \n",
      " 44  Barbara Corcoran Present            898 non-null    float64\n",
      " 45  Mark Cuban Present                  901 non-null    float64\n",
      " 46  Lori Greiner Present                901 non-null    float64\n",
      " 47  Robert Herjavec Present             897 non-null    float64\n",
      " 48  Daymond John Present                898 non-null    float64\n",
      " 49  Kevin O Leary Present               898 non-null    float64\n",
      "dtypes: float64(31), int64(5), object(14)\n",
      "memory usage: 497.8+ KB\n"
     ]
    }
   ],
   "source": [
    "df.info()"
   ]
  },
  {
   "cell_type": "code",
   "execution_count": 79,
   "id": "0ca160f6",
   "metadata": {},
   "outputs": [
    {
     "data": {
      "text/plain": [
       "0.0    471\n",
       "1.0    376\n",
       "Name: Multiple Entrepreneurs, dtype: int64"
      ]
     },
     "execution_count": 79,
     "metadata": {},
     "output_type": "execute_result"
    }
   ],
   "source": [
    "df['Multiple Entrepreneurs'].value_counts()"
   ]
  },
  {
   "cell_type": "code",
   "execution_count": 87,
   "id": "f51611cf",
   "metadata": {},
   "outputs": [
    {
     "data": {
      "text/plain": [
       "200000.0     7\n",
       "500000.0     7\n",
       "150000.0     6\n",
       "100000.0     4\n",
       "1000000.0    4\n",
       "750000.0     4\n",
       "300000.0     3\n",
       "250000.0     3\n",
       "75000.0      3\n",
       "50000.0      2\n",
       "400000.0     2\n",
       "2000000.0    2\n",
       "350000.0     1\n",
       "125000.0     1\n",
       "87500.0      1\n",
       "1200000.0    1\n",
       "700000.0     1\n",
       "Name: Loan, dtype: int64"
      ]
     },
     "execution_count": 87,
     "metadata": {},
     "output_type": "execute_result"
    }
   ],
   "source": [
    "df['Loan'].value_counts()"
   ]
  },
  {
   "cell_type": "code",
   "execution_count": 92,
   "id": "9e82f5b1",
   "metadata": {},
   "outputs": [
    {
     "name": "stdout",
     "output_type": "stream",
     "text": [
      "<class 'pandas.core.frame.DataFrame'>\n",
      "RangeIndex: 1274 entries, 0 to 1273\n",
      "Data columns (total 50 columns):\n",
      " #   Column                              Non-Null Count  Dtype  \n",
      "---  ------                              --------------  -----  \n",
      " 0   Season Number                       1274 non-null   object \n",
      " 1   Season Start                        1274 non-null   object \n",
      " 2   Season End                          1274 non-null   object \n",
      " 3   Episode Number                      1274 non-null   int64  \n",
      " 4   Pitch Number                        1274 non-null   int64  \n",
      " 5   Original Air Date                   1274 non-null   object \n",
      " 6   Startup Name                        1274 non-null   object \n",
      " 7   Industry                            1274 non-null   object \n",
      " 8   Business Description                1274 non-null   object \n",
      " 9   Pitchers Gender                     1274 non-null   object \n",
      " 10  Pitchers City                       1274 non-null   object \n",
      " 11  Pitchers State                      1274 non-null   object \n",
      " 12  Pitchers Average Age                1274 non-null   object \n",
      " 13  Entrepreneur Names                  779 non-null    object \n",
      " 14  Company Website                     516 non-null    object \n",
      " 15  Multiple Entrepreneurs              847 non-null    float64\n",
      " 16  US Viewership                       1274 non-null   float64\n",
      " 17  Original Ask Amount                 1274 non-null   int64  \n",
      " 18  Original Offered Equity             1274 non-null   float64\n",
      " 19  Valuation Requested                 1274 non-null   int64  \n",
      " 20  Got Deal                            1274 non-null   int64  \n",
      " 21  Total Deal Amount                   765 non-null    float64\n",
      " 22  Total Deal Equity                   765 non-null    float64\n",
      " 23  Deal Valuation                      765 non-null    float64\n",
      " 24  Number of sharks in deal            1274 non-null   float64\n",
      " 25  Investment Amount Per Shark         765 non-null    float64\n",
      " 26  Equity Per Shark                    765 non-null    float64\n",
      " 27  Royalty Deal                        1274 non-null   float64\n",
      " 28  Loan                                52 non-null     float64\n",
      " 29  Barbara Corcoran Investment Amount  120 non-null    float64\n",
      " 30  Barbara Corcoran Investment Equity  120 non-null    float64\n",
      " 31  Mark Cuban Investment Amount        230 non-null    float64\n",
      " 32  Mark Cuban Investment Equity        230 non-null    float64\n",
      " 33  Lori Greiner Investment Amount      199 non-null    float64\n",
      " 34  Lori Greiner Investment Equity      199 non-null    float64\n",
      " 35  Robert Herjavec Investment Amount   121 non-null    float64\n",
      " 36  Robert Herjavec Investment Equity   121 non-null    float64\n",
      " 37  Daymond John Investment Amount      111 non-null    float64\n",
      " 38  Daymond John Investment Equity      111 non-null    float64\n",
      " 39  Kevin O Leary Investment Amount     117 non-null    float64\n",
      " 40  Kevin O Leary Investment Equity     117 non-null    float64\n",
      " 41  Guest Investment Amount             105 non-null    float64\n",
      " 42  Guest Investment Equity             105 non-null    float64\n",
      " 43  Guest Name                          105 non-null    object \n",
      " 44  Barbara Corcoran Present            898 non-null    float64\n",
      " 45  Mark Cuban Present                  901 non-null    float64\n",
      " 46  Lori Greiner Present                901 non-null    float64\n",
      " 47  Robert Herjavec Present             897 non-null    float64\n",
      " 48  Daymond John Present                898 non-null    float64\n",
      " 49  Kevin O Leary Present               898 non-null    float64\n",
      "dtypes: float64(31), int64(5), object(14)\n",
      "memory usage: 497.8+ KB\n"
     ]
    }
   ],
   "source": [
    "df.info()"
   ]
  },
  {
   "cell_type": "code",
   "execution_count": 102,
   "id": "77aee170",
   "metadata": {},
   "outputs": [],
   "source": [
    "newdf = df[['Season Number','Season Start','Season End','Episode Number','Pitch Number','Original Air Date',\n",
    "            'Startup Name','Industry','Business Description','Pitchers Gender','Pitchers City','Pitchers State','Pitchers Average Age','Entrepreneur Names','Company Website','Multiple Entrepreneurs','Original Ask Amount','Original Offered Equity','Valuation Requested','Got Deal','Total Deal Amount','Total Deal Equity','Deal Valuation','Number of sharks in deal','Investment Amount Per Shark','Equity Per Shark','Royalty Deal','Loan']]"
   ]
  },
  {
   "cell_type": "code",
   "execution_count": 103,
   "id": "e7ce8f85",
   "metadata": {},
   "outputs": [
    {
     "data": {
      "text/html": [
       "<div>\n",
       "<style scoped>\n",
       "    .dataframe tbody tr th:only-of-type {\n",
       "        vertical-align: middle;\n",
       "    }\n",
       "\n",
       "    .dataframe tbody tr th {\n",
       "        vertical-align: top;\n",
       "    }\n",
       "\n",
       "    .dataframe thead th {\n",
       "        text-align: right;\n",
       "    }\n",
       "</style>\n",
       "<table border=\"1\" class=\"dataframe\">\n",
       "  <thead>\n",
       "    <tr style=\"text-align: right;\">\n",
       "      <th></th>\n",
       "      <th>Season Number</th>\n",
       "      <th>Season Start</th>\n",
       "      <th>Season End</th>\n",
       "      <th>Episode Number</th>\n",
       "      <th>Pitch Number</th>\n",
       "      <th>Original Air Date</th>\n",
       "      <th>Startup Name</th>\n",
       "      <th>Industry</th>\n",
       "      <th>Business Description</th>\n",
       "      <th>Pitchers Gender</th>\n",
       "      <th>...</th>\n",
       "      <th>Valuation Requested</th>\n",
       "      <th>Got Deal</th>\n",
       "      <th>Total Deal Amount</th>\n",
       "      <th>Total Deal Equity</th>\n",
       "      <th>Deal Valuation</th>\n",
       "      <th>Number of sharks in deal</th>\n",
       "      <th>Investment Amount Per Shark</th>\n",
       "      <th>Equity Per Shark</th>\n",
       "      <th>Royalty Deal</th>\n",
       "      <th>Loan</th>\n",
       "    </tr>\n",
       "  </thead>\n",
       "  <tbody>\n",
       "    <tr>\n",
       "      <th>0</th>\n",
       "      <td>One</td>\n",
       "      <td>09-Aug-09</td>\n",
       "      <td>05-Feb-10</td>\n",
       "      <td>1</td>\n",
       "      <td>1</td>\n",
       "      <td>09-Aug-09</td>\n",
       "      <td>AvaTheElephant</td>\n",
       "      <td>Health/Wellness</td>\n",
       "      <td>Ava The Elephant - Baby and Child Care</td>\n",
       "      <td>Female</td>\n",
       "      <td>...</td>\n",
       "      <td>333333</td>\n",
       "      <td>1</td>\n",
       "      <td>50000.0</td>\n",
       "      <td>55.0</td>\n",
       "      <td>90909.0</td>\n",
       "      <td>1.0</td>\n",
       "      <td>50000.0</td>\n",
       "      <td>55.0</td>\n",
       "      <td>0.0</td>\n",
       "      <td>NaN</td>\n",
       "    </tr>\n",
       "    <tr>\n",
       "      <th>1</th>\n",
       "      <td>One</td>\n",
       "      <td>09-Aug-09</td>\n",
       "      <td>05-Feb-10</td>\n",
       "      <td>1</td>\n",
       "      <td>2</td>\n",
       "      <td>09-Aug-09</td>\n",
       "      <td>Mr.Tod'sPieFactory</td>\n",
       "      <td>Food and Beverage</td>\n",
       "      <td>Mr. Tod's Pie Factory - Specialty Food</td>\n",
       "      <td>Male</td>\n",
       "      <td>...</td>\n",
       "      <td>4600000</td>\n",
       "      <td>1</td>\n",
       "      <td>460000.0</td>\n",
       "      <td>50.0</td>\n",
       "      <td>920000.0</td>\n",
       "      <td>2.0</td>\n",
       "      <td>230000.0</td>\n",
       "      <td>25.0</td>\n",
       "      <td>0.0</td>\n",
       "      <td>NaN</td>\n",
       "    </tr>\n",
       "    <tr>\n",
       "      <th>2</th>\n",
       "      <td>One</td>\n",
       "      <td>09-Aug-09</td>\n",
       "      <td>05-Feb-10</td>\n",
       "      <td>1</td>\n",
       "      <td>3</td>\n",
       "      <td>09-Aug-09</td>\n",
       "      <td>Wispots</td>\n",
       "      <td>Business Services</td>\n",
       "      <td>Wispots - Consumer Services</td>\n",
       "      <td>Male</td>\n",
       "      <td>...</td>\n",
       "      <td>12000000</td>\n",
       "      <td>0</td>\n",
       "      <td>NaN</td>\n",
       "      <td>NaN</td>\n",
       "      <td>NaN</td>\n",
       "      <td>0.0</td>\n",
       "      <td>NaN</td>\n",
       "      <td>NaN</td>\n",
       "      <td>0.0</td>\n",
       "      <td>NaN</td>\n",
       "    </tr>\n",
       "    <tr>\n",
       "      <th>3</th>\n",
       "      <td>One</td>\n",
       "      <td>09-Aug-09</td>\n",
       "      <td>05-Feb-10</td>\n",
       "      <td>1</td>\n",
       "      <td>4</td>\n",
       "      <td>09-Aug-09</td>\n",
       "      <td>CollegeFoxesPackingBoxes</td>\n",
       "      <td>Lifestyle/Home</td>\n",
       "      <td>College Foxes Packing Boxes - Consumer Services</td>\n",
       "      <td>Male</td>\n",
       "      <td>...</td>\n",
       "      <td>1000000</td>\n",
       "      <td>0</td>\n",
       "      <td>NaN</td>\n",
       "      <td>NaN</td>\n",
       "      <td>NaN</td>\n",
       "      <td>0.0</td>\n",
       "      <td>NaN</td>\n",
       "      <td>NaN</td>\n",
       "      <td>0.0</td>\n",
       "      <td>NaN</td>\n",
       "    </tr>\n",
       "    <tr>\n",
       "      <th>4</th>\n",
       "      <td>One</td>\n",
       "      <td>09-Aug-09</td>\n",
       "      <td>05-Feb-10</td>\n",
       "      <td>1</td>\n",
       "      <td>5</td>\n",
       "      <td>09-Aug-09</td>\n",
       "      <td>IonicEar</td>\n",
       "      <td>Software/Tech</td>\n",
       "      <td>Ionic Ear - Novelties</td>\n",
       "      <td>Male</td>\n",
       "      <td>...</td>\n",
       "      <td>6666667</td>\n",
       "      <td>0</td>\n",
       "      <td>NaN</td>\n",
       "      <td>NaN</td>\n",
       "      <td>NaN</td>\n",
       "      <td>0.0</td>\n",
       "      <td>NaN</td>\n",
       "      <td>NaN</td>\n",
       "      <td>0.0</td>\n",
       "      <td>NaN</td>\n",
       "    </tr>\n",
       "    <tr>\n",
       "      <th>...</th>\n",
       "      <td>...</td>\n",
       "      <td>...</td>\n",
       "      <td>...</td>\n",
       "      <td>...</td>\n",
       "      <td>...</td>\n",
       "      <td>...</td>\n",
       "      <td>...</td>\n",
       "      <td>...</td>\n",
       "      <td>...</td>\n",
       "      <td>...</td>\n",
       "      <td>...</td>\n",
       "      <td>...</td>\n",
       "      <td>...</td>\n",
       "      <td>...</td>\n",
       "      <td>...</td>\n",
       "      <td>...</td>\n",
       "      <td>...</td>\n",
       "      <td>...</td>\n",
       "      <td>...</td>\n",
       "      <td>...</td>\n",
       "      <td>...</td>\n",
       "    </tr>\n",
       "    <tr>\n",
       "      <th>1269</th>\n",
       "      <td>Fourteen</td>\n",
       "      <td>23-Sep-22</td>\n",
       "      <td>19-May-23</td>\n",
       "      <td>21</td>\n",
       "      <td>1270</td>\n",
       "      <td>05-May-23</td>\n",
       "      <td>NoshiFood</td>\n",
       "      <td>Food and Beverage</td>\n",
       "      <td>Food paint</td>\n",
       "      <td>Male</td>\n",
       "      <td>...</td>\n",
       "      <td>1470588</td>\n",
       "      <td>1</td>\n",
       "      <td>250000.0</td>\n",
       "      <td>25.0</td>\n",
       "      <td>1000000.0</td>\n",
       "      <td>1.0</td>\n",
       "      <td>250000.0</td>\n",
       "      <td>25.0</td>\n",
       "      <td>0.0</td>\n",
       "      <td>NaN</td>\n",
       "    </tr>\n",
       "    <tr>\n",
       "      <th>1270</th>\n",
       "      <td>Fourteen</td>\n",
       "      <td>23-Sep-22</td>\n",
       "      <td>19-May-23</td>\n",
       "      <td>22</td>\n",
       "      <td>1271</td>\n",
       "      <td>19-May-23</td>\n",
       "      <td>Tucky</td>\n",
       "      <td>Fashion/Beauty</td>\n",
       "      <td>Turn any shirt into a crop top</td>\n",
       "      <td>Female</td>\n",
       "      <td>...</td>\n",
       "      <td>233333</td>\n",
       "      <td>1</td>\n",
       "      <td>70000.0</td>\n",
       "      <td>39.0</td>\n",
       "      <td>179487.0</td>\n",
       "      <td>1.0</td>\n",
       "      <td>70000.0</td>\n",
       "      <td>39.0</td>\n",
       "      <td>0.0</td>\n",
       "      <td>NaN</td>\n",
       "    </tr>\n",
       "    <tr>\n",
       "      <th>1271</th>\n",
       "      <td>Fourteen</td>\n",
       "      <td>23-Sep-22</td>\n",
       "      <td>19-May-23</td>\n",
       "      <td>22</td>\n",
       "      <td>1272</td>\n",
       "      <td>19-May-23</td>\n",
       "      <td>InfluencersInTheWild</td>\n",
       "      <td>Lifestyle/Home</td>\n",
       "      <td>Board game that requires you to act as a socia...</td>\n",
       "      <td>Male</td>\n",
       "      <td>...</td>\n",
       "      <td>5000000</td>\n",
       "      <td>0</td>\n",
       "      <td>NaN</td>\n",
       "      <td>NaN</td>\n",
       "      <td>NaN</td>\n",
       "      <td>0.0</td>\n",
       "      <td>NaN</td>\n",
       "      <td>NaN</td>\n",
       "      <td>0.0</td>\n",
       "      <td>NaN</td>\n",
       "    </tr>\n",
       "    <tr>\n",
       "      <th>1272</th>\n",
       "      <td>Fourteen</td>\n",
       "      <td>23-Sep-22</td>\n",
       "      <td>19-May-23</td>\n",
       "      <td>22</td>\n",
       "      <td>1273</td>\n",
       "      <td>19-May-23</td>\n",
       "      <td>Eyewris</td>\n",
       "      <td>Lifestyle/Home</td>\n",
       "      <td>Reading glasses</td>\n",
       "      <td>Male</td>\n",
       "      <td>...</td>\n",
       "      <td>500000</td>\n",
       "      <td>1</td>\n",
       "      <td>125000.0</td>\n",
       "      <td>20.0</td>\n",
       "      <td>625000.0</td>\n",
       "      <td>5.0</td>\n",
       "      <td>25000.0</td>\n",
       "      <td>4.0</td>\n",
       "      <td>0.0</td>\n",
       "      <td>NaN</td>\n",
       "    </tr>\n",
       "    <tr>\n",
       "      <th>1273</th>\n",
       "      <td>Fourteen</td>\n",
       "      <td>23-Sep-22</td>\n",
       "      <td>19-May-23</td>\n",
       "      <td>22</td>\n",
       "      <td>1274</td>\n",
       "      <td>19-May-23</td>\n",
       "      <td>TonesOfMelanin</td>\n",
       "      <td>Fashion/Beauty</td>\n",
       "      <td>Collegiate fashion for minority communities</td>\n",
       "      <td>Female</td>\n",
       "      <td>...</td>\n",
       "      <td>2000000</td>\n",
       "      <td>1</td>\n",
       "      <td>300000.0</td>\n",
       "      <td>12.0</td>\n",
       "      <td>2500000.0</td>\n",
       "      <td>1.0</td>\n",
       "      <td>300000.0</td>\n",
       "      <td>12.0</td>\n",
       "      <td>0.0</td>\n",
       "      <td>NaN</td>\n",
       "    </tr>\n",
       "  </tbody>\n",
       "</table>\n",
       "<p>1274 rows × 28 columns</p>\n",
       "</div>"
      ],
      "text/plain": [
       "     Season Number Season Start Season End  Episode Number  Pitch Number  \\\n",
       "0              One    09-Aug-09  05-Feb-10               1             1   \n",
       "1              One    09-Aug-09  05-Feb-10               1             2   \n",
       "2              One    09-Aug-09  05-Feb-10               1             3   \n",
       "3              One    09-Aug-09  05-Feb-10               1             4   \n",
       "4              One    09-Aug-09  05-Feb-10               1             5   \n",
       "...            ...          ...        ...             ...           ...   \n",
       "1269      Fourteen    23-Sep-22  19-May-23              21          1270   \n",
       "1270      Fourteen    23-Sep-22  19-May-23              22          1271   \n",
       "1271      Fourteen    23-Sep-22  19-May-23              22          1272   \n",
       "1272      Fourteen    23-Sep-22  19-May-23              22          1273   \n",
       "1273      Fourteen    23-Sep-22  19-May-23              22          1274   \n",
       "\n",
       "     Original Air Date              Startup Name           Industry  \\\n",
       "0            09-Aug-09            AvaTheElephant    Health/Wellness   \n",
       "1            09-Aug-09        Mr.Tod'sPieFactory  Food and Beverage   \n",
       "2            09-Aug-09                   Wispots  Business Services   \n",
       "3            09-Aug-09  CollegeFoxesPackingBoxes     Lifestyle/Home   \n",
       "4            09-Aug-09                  IonicEar      Software/Tech   \n",
       "...                ...                       ...                ...   \n",
       "1269         05-May-23                 NoshiFood  Food and Beverage   \n",
       "1270         19-May-23                     Tucky     Fashion/Beauty   \n",
       "1271         19-May-23      InfluencersInTheWild     Lifestyle/Home   \n",
       "1272         19-May-23                   Eyewris     Lifestyle/Home   \n",
       "1273         19-May-23            TonesOfMelanin     Fashion/Beauty   \n",
       "\n",
       "                                   Business Description Pitchers Gender  ...  \\\n",
       "0                Ava The Elephant - Baby and Child Care          Female  ...   \n",
       "1                Mr. Tod's Pie Factory - Specialty Food            Male  ...   \n",
       "2                           Wispots - Consumer Services            Male  ...   \n",
       "3       College Foxes Packing Boxes - Consumer Services            Male  ...   \n",
       "4                                 Ionic Ear - Novelties            Male  ...   \n",
       "...                                                 ...             ...  ...   \n",
       "1269                                         Food paint            Male  ...   \n",
       "1270                     Turn any shirt into a crop top          Female  ...   \n",
       "1271  Board game that requires you to act as a socia...            Male  ...   \n",
       "1272                                    Reading glasses            Male  ...   \n",
       "1273        Collegiate fashion for minority communities          Female  ...   \n",
       "\n",
       "     Valuation Requested Got Deal Total Deal Amount Total Deal Equity  \\\n",
       "0                 333333        1           50000.0              55.0   \n",
       "1                4600000        1          460000.0              50.0   \n",
       "2               12000000        0               NaN               NaN   \n",
       "3                1000000        0               NaN               NaN   \n",
       "4                6666667        0               NaN               NaN   \n",
       "...                  ...      ...               ...               ...   \n",
       "1269             1470588        1          250000.0              25.0   \n",
       "1270              233333        1           70000.0              39.0   \n",
       "1271             5000000        0               NaN               NaN   \n",
       "1272              500000        1          125000.0              20.0   \n",
       "1273             2000000        1          300000.0              12.0   \n",
       "\n",
       "     Deal Valuation  Number of sharks in deal  Investment Amount Per Shark  \\\n",
       "0           90909.0                       1.0                      50000.0   \n",
       "1          920000.0                       2.0                     230000.0   \n",
       "2               NaN                       0.0                          NaN   \n",
       "3               NaN                       0.0                          NaN   \n",
       "4               NaN                       0.0                          NaN   \n",
       "...             ...                       ...                          ...   \n",
       "1269      1000000.0                       1.0                     250000.0   \n",
       "1270       179487.0                       1.0                      70000.0   \n",
       "1271            NaN                       0.0                          NaN   \n",
       "1272       625000.0                       5.0                      25000.0   \n",
       "1273      2500000.0                       1.0                     300000.0   \n",
       "\n",
       "      Equity Per Shark  Royalty Deal  Loan  \n",
       "0                 55.0           0.0   NaN  \n",
       "1                 25.0           0.0   NaN  \n",
       "2                  NaN           0.0   NaN  \n",
       "3                  NaN           0.0   NaN  \n",
       "4                  NaN           0.0   NaN  \n",
       "...                ...           ...   ...  \n",
       "1269              25.0           0.0   NaN  \n",
       "1270              39.0           0.0   NaN  \n",
       "1271               NaN           0.0   NaN  \n",
       "1272               4.0           0.0   NaN  \n",
       "1273              12.0           0.0   NaN  \n",
       "\n",
       "[1274 rows x 28 columns]"
      ]
     },
     "execution_count": 103,
     "metadata": {},
     "output_type": "execute_result"
    }
   ],
   "source": [
    "newdf"
   ]
  },
  {
   "cell_type": "code",
   "execution_count": 104,
   "id": "9a801625",
   "metadata": {},
   "outputs": [
    {
     "data": {
      "text/plain": [
       "0          1\n",
       "1          2\n",
       "2          3\n",
       "3          4\n",
       "4          5\n",
       "        ... \n",
       "1269    1270\n",
       "1270    1271\n",
       "1271    1272\n",
       "1272    1273\n",
       "1273    1274\n",
       "Name: Pitch Number, Length: 1274, dtype: int64"
      ]
     },
     "execution_count": 104,
     "metadata": {},
     "output_type": "execute_result"
    }
   ],
   "source": [
    "df['Pitch Number']"
   ]
  },
  {
   "cell_type": "code",
   "execution_count": 108,
   "id": "0aee15db",
   "metadata": {},
   "outputs": [],
   "source": [
    "season_wise_pitches = df.groupby('Season Number')['Pitch Number'].count().sort_values(ascending=True)"
   ]
  },
  {
   "cell_type": "code",
   "execution_count": 112,
   "id": "aff8231e",
   "metadata": {},
   "outputs": [
    {
     "data": {
      "text/plain": [
       "Text(0, 0.5, 'Number of Pitches')"
      ]
     },
     "execution_count": 112,
     "metadata": {},
     "output_type": "execute_result"
    },
    {
     "data": {
      "image/png": "[encoded data removed]",
      "text/plain": [
       "<Figure size 640x480 with 1 Axes>"
      ]
     },
     "metadata": {},
     "output_type": "display_data"
    }
   ],
   "source": [
    "season_wise_pitches.plot(kind='bar',color='black')\n",
    "plt.title('Number of Pitches Over Seasons')\n",
    "plt.xlabel('Season Number')\n",
    "plt.ylabel('Number of Pitches')"
   ]
  },
  {
   "cell_type": "code",
   "execution_count": 113,
   "id": "47f7f2cc",
   "metadata": {},
   "outputs": [],
   "source": [
    "#What is the success rate of pitches?\n",
    "#How many pitches \"Got Deal\"?"
   ]
  },
  {
   "cell_type": "code",
   "execution_count": 116,
   "id": "361b46a1",
   "metadata": {},
   "outputs": [
    {
     "data": {
      "text/plain": [
       "1    765\n",
       "0    509\n",
       "Name: Got Deal, dtype: int64"
      ]
     },
     "execution_count": 116,
     "metadata": {},
     "output_type": "execute_result"
    }
   ],
   "source": [
    "df['Got Deal'].value_counts()"
   ]
  },
  {
   "cell_type": "code",
   "execution_count": 117,
   "id": "0dd67b22",
   "metadata": {},
   "outputs": [],
   "source": [
    "#765 Pitches got the deal"
   ]
  },
  {
   "cell_type": "code",
   "execution_count": null,
   "id": "a1f8616d",
   "metadata": {},
   "outputs": [],
   "source": [
    "#What is the percentage of successful pitches?"
   ]
  },
  {
   "cell_type": "code",
   "execution_count": 118,
   "id": "c62377df",
   "metadata": {},
   "outputs": [],
   "source": [
    "successfull_percentage = (765/1274) * 100"
   ]
  },
  {
   "cell_type": "code",
   "execution_count": 127,
   "id": "854556eb",
   "metadata": {},
   "outputs": [
    {
     "name": "stdout",
     "output_type": "stream",
     "text": [
      "The successfull pitches in percentage: 60.05\n"
     ]
    }
   ],
   "source": [
    "print(\"The successfull pitches in percentage:\",round(successfull_percentage,2))"
   ]
  },
  {
   "cell_type": "code",
   "execution_count": 128,
   "id": "6611a272",
   "metadata": {},
   "outputs": [
    {
     "name": "stdout",
     "output_type": "stream",
     "text": [
      "The unsuccessfull pitches in percentage: 39.95\n"
     ]
    }
   ],
   "source": [
    "print(\"The unsuccessfull pitches in percentage:\",100-round(successfull_percentage,2))"
   ]
  },
  {
   "cell_type": "code",
   "execution_count": null,
   "id": "14524326",
   "metadata": {},
   "outputs": [],
   "source": [
    "#How does the valuation requested by entrepreneurs correlate with the valuation of deals made?\n",
    "#Are entrepreneurs asking for more than they actually receive in deals?\n",
    "#Is there a correlation between the requested valuation and the deal valuation?"
   ]
  },
  {
   "cell_type": "code",
   "execution_count": 160,
   "id": "16d85bb0",
   "metadata": {},
   "outputs": [],
   "source": [
    "df['Ask vs recieve'] = df['Original Ask Amount'] - df['Total Deal Amount']"
   ]
  },
  {
   "cell_type": "code",
   "execution_count": 161,
   "id": "c643e41b",
   "metadata": {},
   "outputs": [],
   "source": [
    "df['Valuation_Percentage_recieved'] = (df['Ask vs recieve'] / df['Original Ask Amount']) * 100"
   ]
  },
  {
   "cell_type": "code",
   "execution_count": 163,
   "id": "613e7607",
   "metadata": {},
   "outputs": [
    {
     "data": {
      "text/plain": [
       "0         0.0\n",
       "1         0.0\n",
       "2         NaN\n",
       "3         NaN\n",
       "4         NaN\n",
       "        ...  \n",
       "1269      0.0\n",
       "1270      0.0\n",
       "1271      NaN\n",
       "1272   -400.0\n",
       "1273      0.0\n",
       "Name: Valuation_Percentage_recieved, Length: 1274, dtype: float64"
      ]
     },
     "execution_count": 163,
     "metadata": {},
     "output_type": "execute_result"
    }
   ],
   "source": [
    "round(df['Valuation_Percentage_recieved'])"
   ]
  },
  {
   "cell_type": "code",
   "execution_count": 166,
   "id": "32cae764",
   "metadata": {},
   "outputs": [],
   "source": [
    "correlation = df['Original Ask Amount'].corr(df['Deal Valuation'])"
   ]
  },
  {
   "cell_type": "code",
   "execution_count": 168,
   "id": "f3f7d076",
   "metadata": {},
   "outputs": [
    {
     "data": {
      "text/plain": [
       "0.62167"
      ]
     },
     "execution_count": 168,
     "metadata": {},
     "output_type": "execute_result"
    }
   ],
   "source": [
    "round(correlation,5)"
   ]
  },
  {
   "cell_type": "code",
   "execution_count": 169,
   "id": "8e4f2878",
   "metadata": {},
   "outputs": [
    {
     "name": "stdout",
     "output_type": "stream",
     "text": [
      "Correlation between Original Ask Amount and Deal Valuation: 0.6216728805685782\n"
     ]
    }
   ],
   "source": [
    "print(f\"Correlation between Original Ask Amount and Deal Valuation: {correlation}\")"
   ]
  },
  {
   "cell_type": "code",
   "execution_count": null,
   "id": "40ceadf4",
   "metadata": {},
   "outputs": [],
   "source": [
    "#Are there any industries that attract more investments from the sharks?\n",
    "#Which industry has the highest number of pitches?\n",
    "#Which industry has the highest success rate in getting deals?"
   ]
  },
  {
   "cell_type": "code",
   "execution_count": 178,
   "id": "9138c666",
   "metadata": {},
   "outputs": [],
   "source": [
    "Highest_pitches_industry = df.groupby('Industry')['Pitch Number'].count().sort_values(ascending=False).head(1)"
   ]
  },
  {
   "cell_type": "code",
   "execution_count": 181,
   "id": "ade49d6b",
   "metadata": {},
   "outputs": [
    {
     "data": {
      "text/plain": [
       "Industry\n",
       "Food and Beverage    276\n",
       "Name: Pitch Number, dtype: int64"
      ]
     },
     "execution_count": 181,
     "metadata": {},
     "output_type": "execute_result"
    }
   ],
   "source": [
    "Highest_pitches_industry"
   ]
  },
  {
   "cell_type": "code",
   "execution_count": 186,
   "id": "f3749136",
   "metadata": {},
   "outputs": [],
   "source": [
    "industry_success_rates = df.groupby('Industry')['Got Deal'].mean() * 100"
   ]
  },
  {
   "cell_type": "code",
   "execution_count": 187,
   "id": "42710d3c",
   "metadata": {},
   "outputs": [],
   "source": [
    "highest_success_rate_industry = industry_success_rates.idxmax()\n",
    "highest_success_rate = industry_success_rates.max()"
   ]
  },
  {
   "cell_type": "code",
   "execution_count": 188,
   "id": "92ce9135",
   "metadata": {},
   "outputs": [
    {
     "name": "stdout",
     "output_type": "stream",
     "text": [
      "The industry with the highest success rate is 'Automotive' with a success rate of 76.47%.\n"
     ]
    }
   ],
   "source": [
    "print(f\"The industry with the highest success rate is '{highest_success_rate_industry}' with a success rate of {highest_success_rate:.2f}%.\")"
   ]
  },
  {
   "cell_type": "code",
   "execution_count": 190,
   "id": "9b283fd0",
   "metadata": {},
   "outputs": [
    {
     "data": {
      "text/plain": [
       "Male          710\n",
       "Female        330\n",
       "Mixed Team    234\n",
       "Name: Pitchers Gender, dtype: int64"
      ]
     },
     "execution_count": 190,
     "metadata": {},
     "output_type": "execute_result"
    }
   ],
   "source": [
    "#How many male and female pitchers are there?\n",
    "df['Pitchers Gender'].value_counts()"
   ]
  },
  {
   "cell_type": "code",
   "execution_count": 192,
   "id": "ec7ef36d",
   "metadata": {},
   "outputs": [],
   "source": [
    "Gender_Success_rates = df.groupby('Pitchers Gender')['Got Deal'].mean() * 100"
   ]
  },
  {
   "cell_type": "code",
   "execution_count": 193,
   "id": "570c0de7",
   "metadata": {},
   "outputs": [],
   "source": [
    "highest_success_rate_gender = Gender_Success_rates.idxmax()"
   ]
  },
  {
   "cell_type": "code",
   "execution_count": 194,
   "id": "18469b94",
   "metadata": {},
   "outputs": [
    {
     "data": {
      "text/plain": [
       "'Mixed Team'"
      ]
     },
     "execution_count": 194,
     "metadata": {},
     "output_type": "execute_result"
    }
   ],
   "source": [
    "highest_success_rate_gender"
   ]
  },
  {
   "cell_type": "code",
   "execution_count": 198,
   "id": "333d2c40",
   "metadata": {},
   "outputs": [
    {
     "data": {
      "text/plain": [
       "1    153\n",
       "0     81\n",
       "Name: Got Deal, dtype: int64"
      ]
     },
     "execution_count": 198,
     "metadata": {},
     "output_type": "execute_result"
    }
   ],
   "source": [
    "df[df['Pitchers Gender'] == 'Mixed Team']['Got Deal'].value_counts()"
   ]
  },
  {
   "cell_type": "code",
   "execution_count": 199,
   "id": "e9561f3b",
   "metadata": {},
   "outputs": [
    {
     "data": {
      "text/plain": [
       "1    402\n",
       "0    308\n",
       "Name: Got Deal, dtype: int64"
      ]
     },
     "execution_count": 199,
     "metadata": {},
     "output_type": "execute_result"
    }
   ],
   "source": [
    "df[df['Pitchers Gender'] == 'Male']['Got Deal'].value_counts()"
   ]
  },
  {
   "cell_type": "code",
   "execution_count": 200,
   "id": "a81e3253",
   "metadata": {},
   "outputs": [
    {
     "data": {
      "text/plain": [
       "1    210\n",
       "0    120\n",
       "Name: Got Deal, dtype: int64"
      ]
     },
     "execution_count": 200,
     "metadata": {},
     "output_type": "execute_result"
    }
   ],
   "source": [
    "df[df['Pitchers Gender'] == 'Female']['Got Deal'].value_counts()"
   ]
  },
  {
   "cell_type": "code",
   "execution_count": 201,
   "id": "f8e534ef",
   "metadata": {},
   "outputs": [
    {
     "data": {
      "text/plain": [
       "Pitchers Gender\n",
       "Female        63.636364\n",
       "Male          56.619718\n",
       "Mixed Team    65.384615\n",
       "Name: Got Deal, dtype: float64"
      ]
     },
     "execution_count": 201,
     "metadata": {},
     "output_type": "execute_result"
    }
   ],
   "source": [
    "Gender_Success_rates"
   ]
  },
  {
   "cell_type": "code",
   "execution_count": 202,
   "id": "7f938a7a",
   "metadata": {},
   "outputs": [],
   "source": [
    "highest_success_percentage = Gender_Success_rates.max()"
   ]
  },
  {
   "cell_type": "code",
   "execution_count": 203,
   "id": "d58d6253",
   "metadata": {},
   "outputs": [
    {
     "data": {
      "text/plain": [
       "65.38461538461539"
      ]
     },
     "execution_count": 203,
     "metadata": {},
     "output_type": "execute_result"
    }
   ],
   "source": [
    "highest_success_percentage"
   ]
  },
  {
   "cell_type": "code",
   "execution_count": 204,
   "id": "e820e455",
   "metadata": {},
   "outputs": [
    {
     "name": "stdout",
     "output_type": "stream",
     "text": [
      "The gender with the highest success rate is 'Mixed Team' with a success rate of 65.38%.\n"
     ]
    }
   ],
   "source": [
    "print(f\"The gender with the highest success rate is '{highest_success_rate_gender }' with a success rate of {highest_success_percentage:.2f}%.\")"
   ]
  },
  {
   "cell_type": "code",
   "execution_count": 206,
   "id": "14967432",
   "metadata": {},
   "outputs": [
    {
     "data": {
      "text/plain": [
       "0.0    471\n",
       "1.0    376\n",
       "Name: Multiple Entrepreneurs, dtype: int64"
      ]
     },
     "execution_count": 206,
     "metadata": {},
     "output_type": "execute_result"
    }
   ],
   "source": [
    "df['Multiple Entrepreneurs'].value_counts()"
   ]
  },
  {
   "cell_type": "code",
   "execution_count": null,
   "id": "c90e5a9c",
   "metadata": {},
   "outputs": [],
   "source": [
    "#Is there a higher success rate for pitches with multiple entrepreneurs?"
   ]
  },
  {
   "cell_type": "code",
   "execution_count": 211,
   "id": "49909129",
   "metadata": {},
   "outputs": [],
   "source": [
    "MultipleEntrepreneurs = df.groupby('Multiple Entrepreneurs')['Got Deal'].mean() * 100 "
   ]
  },
  {
   "cell_type": "code",
   "execution_count": 212,
   "id": "bb230146",
   "metadata": {},
   "outputs": [
    {
     "data": {
      "text/plain": [
       "Multiple Entrepreneurs\n",
       "0.0    54.989384\n",
       "1.0    66.223404\n",
       "Name: Got Deal, dtype: float64"
      ]
     },
     "execution_count": 212,
     "metadata": {},
     "output_type": "execute_result"
    }
   ],
   "source": [
    "MultipleEntrepreneurs"
   ]
  },
  {
   "cell_type": "code",
   "execution_count": 217,
   "id": "7937e287",
   "metadata": {},
   "outputs": [],
   "source": [
    "df.to_csv(\"C:/Users/adars/Extracted_Dataset/sharktank2.csv\",header=True,index=False)"
   ]
  },
  {
   "cell_type": "code",
   "execution_count": null,
   "id": "46729850",
   "metadata": {},
   "outputs": [],
   "source": []
  }
 ],
 "metadata": {
  "kernelspec": {
   "display_name": "Python 3 (ipykernel)",
   "language": "python",
   "name": "python3"
  },
  "language_info": {
   "codemirror_mode": {
    "name": "ipython",
    "version": 3
   },
   "file_extension": ".py",
   "mimetype": "text/x-python",
   "name": "python",
   "nbconvert_exporter": "python",
   "pygments_lexer": "ipython3",
   "version": "3.11.3"
  }
 },
 "nbformat": 4,
 "nbformat_minor": 5
}
