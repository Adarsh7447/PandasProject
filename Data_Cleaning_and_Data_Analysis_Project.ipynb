{
 "cells": [
  {
   "cell_type": "code",
   "execution_count": 1,
   "id": "980da7cd",
   "metadata": {},
   "outputs": [],
   "source": [
    "import pandas as pd\n",
    "import seaborn as sns\n",
    "import numpy as np"
   ]
  },
  {
   "cell_type": "code",
   "execution_count": 2,
   "id": "72c4e577",
   "metadata": {},
   "outputs": [
    {
     "data": {
      "text/html": [
       "<div>\n",
       "<style scoped>\n",
       "    .dataframe tbody tr th:only-of-type {\n",
       "        vertical-align: middle;\n",
       "    }\n",
       "\n",
       "    .dataframe tbody tr th {\n",
       "        vertical-align: top;\n",
       "    }\n",
       "\n",
       "    .dataframe thead th {\n",
       "        text-align: right;\n",
       "    }\n",
       "</style>\n",
       "<table border=\"1\" class=\"dataframe\">\n",
       "  <thead>\n",
       "    <tr style=\"text-align: right;\">\n",
       "      <th></th>\n",
       "      <th>App</th>\n",
       "      <th>Category</th>\n",
       "      <th>Rating</th>\n",
       "      <th>Reviews</th>\n",
       "      <th>Size</th>\n",
       "      <th>Installs</th>\n",
       "      <th>Type</th>\n",
       "      <th>Price</th>\n",
       "      <th>Content Rating</th>\n",
       "      <th>Genres</th>\n",
       "      <th>Last Updated</th>\n",
       "      <th>Current Ver</th>\n",
       "      <th>Android Ver</th>\n",
       "    </tr>\n",
       "  </thead>\n",
       "  <tbody>\n",
       "    <tr>\n",
       "      <th>6540</th>\n",
       "      <td>BN Pro Black Text on White</td>\n",
       "      <td>LIBRARIES_AND_DEMO</td>\n",
       "      <td>3.9</td>\n",
       "      <td>53</td>\n",
       "      <td>334k</td>\n",
       "      <td>10,000+</td>\n",
       "      <td>Free</td>\n",
       "      <td>0</td>\n",
       "      <td>Everyone</td>\n",
       "      <td>Libraries &amp; Demo</td>\n",
       "      <td>5-Feb-17</td>\n",
       "      <td>2.3.2</td>\n",
       "      <td>1.6 and up</td>\n",
       "    </tr>\n",
       "    <tr>\n",
       "      <th>7132</th>\n",
       "      <td>CB Trader</td>\n",
       "      <td>FINANCE</td>\n",
       "      <td>4.7</td>\n",
       "      <td>11</td>\n",
       "      <td>2.2M</td>\n",
       "      <td>1,000+</td>\n",
       "      <td>Free</td>\n",
       "      <td>0</td>\n",
       "      <td>Everyone</td>\n",
       "      <td>Finance</td>\n",
       "      <td>11-Apr-18</td>\n",
       "      <td>1.6.1</td>\n",
       "      <td>4.0 and up</td>\n",
       "    </tr>\n",
       "    <tr>\n",
       "      <th>4412</th>\n",
       "      <td>Sketch 'n' go</td>\n",
       "      <td>VIDEO_PLAYERS</td>\n",
       "      <td>3.8</td>\n",
       "      <td>3965</td>\n",
       "      <td>6.4M</td>\n",
       "      <td>100,000+</td>\n",
       "      <td>Free</td>\n",
       "      <td>0</td>\n",
       "      <td>Everyone</td>\n",
       "      <td>Video Players &amp; Editors</td>\n",
       "      <td>26-Mar-18</td>\n",
       "      <td>2.2.9</td>\n",
       "      <td>4.1 and up</td>\n",
       "    </tr>\n",
       "    <tr>\n",
       "      <th>2644</th>\n",
       "      <td>Tagged - Meet, Chat &amp; Dating</td>\n",
       "      <td>SOCIAL</td>\n",
       "      <td>4.1</td>\n",
       "      <td>486830</td>\n",
       "      <td>Varies with device</td>\n",
       "      <td>10,000,000+</td>\n",
       "      <td>Free</td>\n",
       "      <td>0</td>\n",
       "      <td>Mature 17+</td>\n",
       "      <td>Social</td>\n",
       "      <td>21-Jun-18</td>\n",
       "      <td>Varies with device</td>\n",
       "      <td>Varies with device</td>\n",
       "    </tr>\n",
       "    <tr>\n",
       "      <th>127</th>\n",
       "      <td>Facial Wrinkle Reduction</td>\n",
       "      <td>BEAUTY</td>\n",
       "      <td>4.6</td>\n",
       "      <td>184</td>\n",
       "      <td>21M</td>\n",
       "      <td>10,000+</td>\n",
       "      <td>Free</td>\n",
       "      <td>0</td>\n",
       "      <td>Everyone</td>\n",
       "      <td>Beauty</td>\n",
       "      <td>2-Jul-18</td>\n",
       "      <td>1.5</td>\n",
       "      <td>4.1 and up</td>\n",
       "    </tr>\n",
       "  </tbody>\n",
       "</table>\n",
       "</div>"
      ],
      "text/plain": [
       "                               App            Category  Rating Reviews  \\\n",
       "6540    BN Pro Black Text on White  LIBRARIES_AND_DEMO     3.9      53   \n",
       "7132                     CB Trader             FINANCE     4.7      11   \n",
       "4412                 Sketch 'n' go       VIDEO_PLAYERS     3.8    3965   \n",
       "2644  Tagged - Meet, Chat & Dating              SOCIAL     4.1  486830   \n",
       "127       Facial Wrinkle Reduction              BEAUTY     4.6     184   \n",
       "\n",
       "                    Size     Installs  Type Price Content Rating  \\\n",
       "6540                334k      10,000+  Free     0       Everyone   \n",
       "7132                2.2M       1,000+  Free     0       Everyone   \n",
       "4412                6.4M     100,000+  Free     0       Everyone   \n",
       "2644  Varies with device  10,000,000+  Free     0     Mature 17+   \n",
       "127                  21M      10,000+  Free     0       Everyone   \n",
       "\n",
       "                       Genres Last Updated         Current Ver  \\\n",
       "6540         Libraries & Demo     5-Feb-17               2.3.2   \n",
       "7132                  Finance    11-Apr-18               1.6.1   \n",
       "4412  Video Players & Editors    26-Mar-18               2.2.9   \n",
       "2644                   Social    21-Jun-18  Varies with device   \n",
       "127                    Beauty     2-Jul-18                 1.5   \n",
       "\n",
       "             Android Ver  \n",
       "6540          1.6 and up  \n",
       "7132          4.0 and up  \n",
       "4412          4.1 and up  \n",
       "2644  Varies with device  \n",
       "127           4.1 and up  "
      ]
     },
     "execution_count": 2,
     "metadata": {},
     "output_type": "execute_result"
    }
   ],
   "source": [
    "df = pd.read_csv('D:/Study PDF/Python/project/googleplaystore.csv')\n",
    "df.sample(5)"
   ]
  },
  {
   "cell_type": "code",
   "execution_count": 3,
   "id": "e9e6dfd1",
   "metadata": {},
   "outputs": [
    {
     "name": "stdout",
     "output_type": "stream",
     "text": [
      "<class 'pandas.core.frame.DataFrame'>\n",
      "RangeIndex: 10841 entries, 0 to 10840\n",
      "Data columns (total 13 columns):\n",
      " #   Column          Non-Null Count  Dtype  \n",
      "---  ------          --------------  -----  \n",
      " 0   App             10841 non-null  object \n",
      " 1   Category        10841 non-null  object \n",
      " 2   Rating          9367 non-null   float64\n",
      " 3   Reviews         10841 non-null  object \n",
      " 4   Size            10841 non-null  object \n",
      " 5   Installs        10841 non-null  object \n",
      " 6   Type            10840 non-null  object \n",
      " 7   Price           10841 non-null  object \n",
      " 8   Content Rating  10840 non-null  object \n",
      " 9   Genres          10841 non-null  object \n",
      " 10  Last Updated    10841 non-null  object \n",
      " 11  Current Ver     10833 non-null  object \n",
      " 12  Android Ver     10838 non-null  object \n",
      "dtypes: float64(1), object(12)\n",
      "memory usage: 1.1+ MB\n"
     ]
    }
   ],
   "source": [
    "df.info()"
   ]
  },
  {
   "cell_type": "markdown",
   "id": "5846224a",
   "metadata": {},
   "source": [
    "### DATA CLEANING"
   ]
  },
  {
   "cell_type": "markdown",
   "id": "0f391d57",
   "metadata": {},
   "source": [
    "##### Which columns have null values?"
   ]
  },
  {
   "cell_type": "code",
   "execution_count": 4,
   "id": "a45b6eb4",
   "metadata": {},
   "outputs": [
    {
     "data": {
      "text/plain": [
       "Rating            1474\n",
       "Current Ver          8\n",
       "Android Ver          3\n",
       "Type                 1\n",
       "Content Rating       1\n",
       "App                  0\n",
       "Category             0\n",
       "Reviews              0\n",
       "Size                 0\n",
       "Installs             0\n",
       "Price                0\n",
       "Genres               0\n",
       "Last Updated         0\n",
       "dtype: int64"
      ]
     },
     "execution_count": 4,
     "metadata": {},
     "output_type": "execute_result"
    }
   ],
   "source": [
    "df.isna().sum().sort_values(ascending=False)"
   ]
  },
  {
   "cell_type": "markdown",
   "id": "75e99d9a",
   "metadata": {},
   "source": [
    "##### 2. Clean the rating columns and the other columns containing null values."
   ]
  },
  {
   "cell_type": "code",
   "execution_count": 5,
   "id": "33a5f0e0",
   "metadata": {},
   "outputs": [
    {
     "data": {
      "text/plain": [
       "<Axes: >"
      ]
     },
     "execution_count": 5,
     "metadata": {},
     "output_type": "execute_result"
    },
    {
     "data": {
      "image/png": "[encoded data removed]",
      "text/plain": [
       "<Figure size 640x480 with 1 Axes>"
      ]
     },
     "metadata": {},
     "output_type": "display_data"
    }
   ],
   "source": [
    "df['Rating'].plot(kind='box', vert=False)"
   ]
  },
  {
   "cell_type": "code",
   "execution_count": 6,
   "id": "bfc96ba6",
   "metadata": {},
   "outputs": [
    {
     "data": {
      "text/plain": [
       "count    9367.000000\n",
       "mean        4.193338\n",
       "std         0.537431\n",
       "min         1.000000\n",
       "25%         4.000000\n",
       "50%         4.300000\n",
       "75%         4.500000\n",
       "max        19.000000\n",
       "Name: Rating, dtype: float64"
      ]
     },
     "execution_count": 6,
     "metadata": {},
     "output_type": "execute_result"
    }
   ],
   "source": [
    "df['Rating'].describe()"
   ]
  },
  {
   "cell_type": "code",
   "execution_count": 7,
   "id": "47a0ee37",
   "metadata": {},
   "outputs": [
    {
     "data": {
      "text/html": [
       "<div>\n",
       "<style scoped>\n",
       "    .dataframe tbody tr th:only-of-type {\n",
       "        vertical-align: middle;\n",
       "    }\n",
       "\n",
       "    .dataframe tbody tr th {\n",
       "        vertical-align: top;\n",
       "    }\n",
       "\n",
       "    .dataframe thead th {\n",
       "        text-align: right;\n",
       "    }\n",
       "</style>\n",
       "<table border=\"1\" class=\"dataframe\">\n",
       "  <thead>\n",
       "    <tr style=\"text-align: right;\">\n",
       "      <th></th>\n",
       "      <th>App</th>\n",
       "      <th>Category</th>\n",
       "      <th>Rating</th>\n",
       "      <th>Reviews</th>\n",
       "      <th>Size</th>\n",
       "      <th>Installs</th>\n",
       "      <th>Type</th>\n",
       "      <th>Price</th>\n",
       "      <th>Content Rating</th>\n",
       "      <th>Genres</th>\n",
       "      <th>Last Updated</th>\n",
       "      <th>Current Ver</th>\n",
       "      <th>Android Ver</th>\n",
       "    </tr>\n",
       "  </thead>\n",
       "  <tbody>\n",
       "    <tr>\n",
       "      <th>10472</th>\n",
       "      <td>Life Made WI-Fi Touchscreen Photo Frame</td>\n",
       "      <td>1.9</td>\n",
       "      <td>19.0</td>\n",
       "      <td>3.0M</td>\n",
       "      <td>1,000+</td>\n",
       "      <td>Free</td>\n",
       "      <td>0</td>\n",
       "      <td>Everyone</td>\n",
       "      <td>NaN</td>\n",
       "      <td>11-Feb-18</td>\n",
       "      <td>1.0.19</td>\n",
       "      <td>4.0 and up</td>\n",
       "      <td>NaN</td>\n",
       "    </tr>\n",
       "  </tbody>\n",
       "</table>\n",
       "</div>"
      ],
      "text/plain": [
       "                                           App Category  Rating Reviews  \\\n",
       "10472  Life Made WI-Fi Touchscreen Photo Frame      1.9    19.0    3.0M   \n",
       "\n",
       "         Size Installs Type     Price Content Rating     Genres Last Updated  \\\n",
       "10472  1,000+     Free    0  Everyone            NaN  11-Feb-18       1.0.19   \n",
       "\n",
       "      Current Ver Android Ver  \n",
       "10472  4.0 and up         NaN  "
      ]
     },
     "execution_count": 7,
     "metadata": {},
     "output_type": "execute_result"
    }
   ],
   "source": [
    "df.loc[df['Rating'] > 5].head()"
   ]
  },
  {
   "cell_type": "code",
   "execution_count": 8,
   "id": "e9591735",
   "metadata": {},
   "outputs": [],
   "source": [
    "df.loc[df['Rating'] >5, 'Rating'] = np.nan"
   ]
  },
  {
   "cell_type": "code",
   "execution_count": 9,
   "id": "61a85896",
   "metadata": {},
   "outputs": [
    {
     "data": {
      "text/plain": [
       "4.191757420456972"
      ]
     },
     "execution_count": 9,
     "metadata": {},
     "output_type": "execute_result"
    }
   ],
   "source": [
    "df['Rating'].mean()"
   ]
  },
  {
   "cell_type": "code",
   "execution_count": 10,
   "id": "f1e06c20",
   "metadata": {},
   "outputs": [],
   "source": [
    "df['Rating'].fillna(df['Rating'].mean(), inplace=True)"
   ]
  },
  {
   "cell_type": "code",
   "execution_count": 11,
   "id": "8231ab51",
   "metadata": {},
   "outputs": [],
   "source": [
    "df.dropna(inplace=True)"
   ]
  },
  {
   "cell_type": "code",
   "execution_count": 12,
   "id": "b9278fc5",
   "metadata": {},
   "outputs": [
    {
     "name": "stdout",
     "output_type": "stream",
     "text": [
      "<class 'pandas.core.frame.DataFrame'>\n",
      "Int64Index: 10829 entries, 0 to 10840\n",
      "Data columns (total 13 columns):\n",
      " #   Column          Non-Null Count  Dtype  \n",
      "---  ------          --------------  -----  \n",
      " 0   App             10829 non-null  object \n",
      " 1   Category        10829 non-null  object \n",
      " 2   Rating          10829 non-null  float64\n",
      " 3   Reviews         10829 non-null  object \n",
      " 4   Size            10829 non-null  object \n",
      " 5   Installs        10829 non-null  object \n",
      " 6   Type            10829 non-null  object \n",
      " 7   Price           10829 non-null  object \n",
      " 8   Content Rating  10829 non-null  object \n",
      " 9   Genres          10829 non-null  object \n",
      " 10  Last Updated    10829 non-null  object \n",
      " 11  Current Ver     10829 non-null  object \n",
      " 12  Android Ver     10829 non-null  object \n",
      "dtypes: float64(1), object(12)\n",
      "memory usage: 1.2+ MB\n"
     ]
    }
   ],
   "source": [
    "df.info()"
   ]
  },
  {
   "cell_type": "markdown",
   "id": "74e5abdf",
   "metadata": {},
   "source": [
    "#####\n",
    "1. In the first step above we have handle missing value in rating columns by replacing mean value in null.\n",
    "2. For other columns we have deleted the rows containing null values"
   ]
  },
  {
   "cell_type": "markdown",
   "id": "5a5bcde4",
   "metadata": {},
   "source": [
    "##### 3.Clean the column Reviews and make it numeric¶"
   ]
  },
  {
   "cell_type": "code",
   "execution_count": 13,
   "id": "ad452bad",
   "metadata": {},
   "outputs": [
    {
     "data": {
      "text/plain": [
       "0       159\n",
       "1       967\n",
       "2     87510\n",
       "3    215644\n",
       "4       967\n",
       "Name: Reviews, dtype: object"
      ]
     },
     "execution_count": 13,
     "metadata": {},
     "output_type": "execute_result"
    }
   ],
   "source": [
    "df['Reviews'].head()"
   ]
  },
  {
   "cell_type": "code",
   "execution_count": 14,
   "id": "a6e781b9",
   "metadata": {},
   "outputs": [],
   "source": [
    "df['Reviews Numeric'] = pd.to_numeric(df['Reviews'], errors='coerce')"
   ]
  },
  {
   "cell_type": "code",
   "execution_count": 15,
   "id": "a526353e",
   "metadata": {},
   "outputs": [
    {
     "data": {
      "text/html": [
       "<div>\n",
       "<style scoped>\n",
       "    .dataframe tbody tr th:only-of-type {\n",
       "        vertical-align: middle;\n",
       "    }\n",
       "\n",
       "    .dataframe tbody tr th {\n",
       "        vertical-align: top;\n",
       "    }\n",
       "\n",
       "    .dataframe thead th {\n",
       "        text-align: right;\n",
       "    }\n",
       "</style>\n",
       "<table border=\"1\" class=\"dataframe\">\n",
       "  <thead>\n",
       "    <tr style=\"text-align: right;\">\n",
       "      <th></th>\n",
       "      <th>App</th>\n",
       "      <th>Category</th>\n",
       "      <th>Rating</th>\n",
       "      <th>Reviews</th>\n",
       "      <th>Size</th>\n",
       "      <th>Installs</th>\n",
       "      <th>Type</th>\n",
       "      <th>Price</th>\n",
       "      <th>Content Rating</th>\n",
       "      <th>Genres</th>\n",
       "      <th>Last Updated</th>\n",
       "      <th>Current Ver</th>\n",
       "      <th>Android Ver</th>\n",
       "      <th>Reviews Numeric</th>\n",
       "    </tr>\n",
       "  </thead>\n",
       "  <tbody>\n",
       "  </tbody>\n",
       "</table>\n",
       "</div>"
      ],
      "text/plain": [
       "Empty DataFrame\n",
       "Columns: [App, Category, Rating, Reviews, Size, Installs, Type, Price, Content Rating, Genres, Last Updated, Current Ver, Android Ver, Reviews Numeric]\n",
       "Index: []"
      ]
     },
     "execution_count": 15,
     "metadata": {},
     "output_type": "execute_result"
    }
   ],
   "source": [
    "df.loc[df['Reviews Numeric'].isna()]"
   ]
  },
  {
   "cell_type": "code",
   "execution_count": 16,
   "id": "27d615ad",
   "metadata": {},
   "outputs": [
    {
     "data": {
      "text/plain": [
       "App                Tomb of the Mask\n",
       "Category                       GAME\n",
       "Rating                          4.1\n",
       "Reviews                       55380\n",
       "Size                            39M\n",
       "Installs                 5,000,000+\n",
       "Type                           Free\n",
       "Price                             0\n",
       "Content Rating             Everyone\n",
       "Genres                       Action\n",
       "Last Updated              24-Jul-18\n",
       "Current Ver                   1.2.1\n",
       "Android Ver              5.0 and up\n",
       "Reviews Numeric               55380\n",
       "Name: 1783, dtype: object"
      ]
     },
     "execution_count": 16,
     "metadata": {},
     "output_type": "execute_result"
    }
   ],
   "source": [
    "df.iloc[1781]"
   ]
  },
  {
   "cell_type": "code",
   "execution_count": 17,
   "id": "cf305097",
   "metadata": {},
   "outputs": [
    {
     "data": {
      "text/html": [
       "<div>\n",
       "<style scoped>\n",
       "    .dataframe tbody tr th:only-of-type {\n",
       "        vertical-align: middle;\n",
       "    }\n",
       "\n",
       "    .dataframe tbody tr th {\n",
       "        vertical-align: top;\n",
       "    }\n",
       "\n",
       "    .dataframe thead th {\n",
       "        text-align: right;\n",
       "    }\n",
       "</style>\n",
       "<table border=\"1\" class=\"dataframe\">\n",
       "  <thead>\n",
       "    <tr style=\"text-align: right;\">\n",
       "      <th></th>\n",
       "      <th>App</th>\n",
       "      <th>Category</th>\n",
       "      <th>Rating</th>\n",
       "      <th>Reviews</th>\n",
       "      <th>Size</th>\n",
       "      <th>Installs</th>\n",
       "      <th>Type</th>\n",
       "      <th>Price</th>\n",
       "      <th>Content Rating</th>\n",
       "      <th>Genres</th>\n",
       "      <th>Last Updated</th>\n",
       "      <th>Current Ver</th>\n",
       "      <th>Android Ver</th>\n",
       "      <th>Reviews Numeric</th>\n",
       "    </tr>\n",
       "  </thead>\n",
       "  <tbody>\n",
       "  </tbody>\n",
       "</table>\n",
       "</div>"
      ],
      "text/plain": [
       "Empty DataFrame\n",
       "Columns: [App, Category, Rating, Reviews, Size, Installs, Type, Price, Content Rating, Genres, Last Updated, Current Ver, Android Ver, Reviews Numeric]\n",
       "Index: []"
      ]
     },
     "execution_count": 17,
     "metadata": {},
     "output_type": "execute_result"
    }
   ],
   "source": [
    "df.loc[df['Reviews'].str.contains('M')]"
   ]
  },
  {
   "cell_type": "code",
   "execution_count": 18,
   "id": "80b01db2",
   "metadata": {},
   "outputs": [
    {
     "name": "stdout",
     "output_type": "stream",
     "text": [
      "<class 'pandas.core.frame.DataFrame'>\n",
      "Int64Index: 10829 entries, 0 to 10840\n",
      "Data columns (total 14 columns):\n",
      " #   Column           Non-Null Count  Dtype  \n",
      "---  ------           --------------  -----  \n",
      " 0   App              10829 non-null  object \n",
      " 1   Category         10829 non-null  object \n",
      " 2   Rating           10829 non-null  float64\n",
      " 3   Reviews          10829 non-null  object \n",
      " 4   Size             10829 non-null  object \n",
      " 5   Installs         10829 non-null  object \n",
      " 6   Type             10829 non-null  object \n",
      " 7   Price            10829 non-null  object \n",
      " 8   Content Rating   10829 non-null  object \n",
      " 9   Genres           10829 non-null  object \n",
      " 10  Last Updated     10829 non-null  object \n",
      " 11  Current Ver      10829 non-null  object \n",
      " 12  Android Ver      10829 non-null  object \n",
      " 13  Reviews Numeric  10829 non-null  int64  \n",
      "dtypes: float64(1), int64(1), object(12)\n",
      "memory usage: 1.2+ MB\n"
     ]
    }
   ],
   "source": [
    "df.info()"
   ]
  },
  {
   "cell_type": "code",
   "execution_count": 19,
   "id": "5b49a8b0",
   "metadata": {},
   "outputs": [
    {
     "data": {
      "text/plain": [
       "0           159\n",
       "1           967\n",
       "2         87510\n",
       "3        215644\n",
       "4           967\n",
       "          ...  \n",
       "10836        38\n",
       "10837         4\n",
       "10838         3\n",
       "10839       114\n",
       "10840    398307\n",
       "Name: Reviews Numeric, Length: 10829, dtype: int64"
      ]
     },
     "execution_count": 19,
     "metadata": {},
     "output_type": "execute_result"
    }
   ],
   "source": [
    "df['Reviews Numeric']"
   ]
  },
  {
   "cell_type": "code",
   "execution_count": 20,
   "id": "3d797266",
   "metadata": {},
   "outputs": [],
   "source": [
    "df['Reviews'] = pd.to_numeric(df['Reviews'])"
   ]
  },
  {
   "cell_type": "code",
   "execution_count": 21,
   "id": "2da41ca9",
   "metadata": {},
   "outputs": [
    {
     "name": "stdout",
     "output_type": "stream",
     "text": [
      "<class 'pandas.core.frame.DataFrame'>\n",
      "Int64Index: 10829 entries, 0 to 10840\n",
      "Data columns (total 14 columns):\n",
      " #   Column           Non-Null Count  Dtype  \n",
      "---  ------           --------------  -----  \n",
      " 0   App              10829 non-null  object \n",
      " 1   Category         10829 non-null  object \n",
      " 2   Rating           10829 non-null  float64\n",
      " 3   Reviews          10829 non-null  int64  \n",
      " 4   Size             10829 non-null  object \n",
      " 5   Installs         10829 non-null  object \n",
      " 6   Type             10829 non-null  object \n",
      " 7   Price            10829 non-null  object \n",
      " 8   Content Rating   10829 non-null  object \n",
      " 9   Genres           10829 non-null  object \n",
      " 10  Last Updated     10829 non-null  object \n",
      " 11  Current Ver      10829 non-null  object \n",
      " 12  Android Ver      10829 non-null  object \n",
      " 13  Reviews Numeric  10829 non-null  int64  \n",
      "dtypes: float64(1), int64(2), object(11)\n",
      "memory usage: 1.2+ MB\n"
     ]
    }
   ],
   "source": [
    "df.info()"
   ]
  },
  {
   "cell_type": "code",
   "execution_count": 22,
   "id": "6dc22f16",
   "metadata": {},
   "outputs": [],
   "source": [
    "del df['Reviews Numeric']"
   ]
  },
  {
   "cell_type": "code",
   "execution_count": 23,
   "id": "ddef0348",
   "metadata": {},
   "outputs": [
    {
     "name": "stdout",
     "output_type": "stream",
     "text": [
      "<class 'pandas.core.frame.DataFrame'>\n",
      "Int64Index: 10829 entries, 0 to 10840\n",
      "Data columns (total 13 columns):\n",
      " #   Column          Non-Null Count  Dtype  \n",
      "---  ------          --------------  -----  \n",
      " 0   App             10829 non-null  object \n",
      " 1   Category        10829 non-null  object \n",
      " 2   Rating          10829 non-null  float64\n",
      " 3   Reviews         10829 non-null  int64  \n",
      " 4   Size            10829 non-null  object \n",
      " 5   Installs        10829 non-null  object \n",
      " 6   Type            10829 non-null  object \n",
      " 7   Price           10829 non-null  object \n",
      " 8   Content Rating  10829 non-null  object \n",
      " 9   Genres          10829 non-null  object \n",
      " 10  Last Updated    10829 non-null  object \n",
      " 11  Current Ver     10829 non-null  object \n",
      " 12  Android Ver     10829 non-null  object \n",
      "dtypes: float64(1), int64(1), object(11)\n",
      "memory usage: 1.2+ MB\n"
     ]
    }
   ],
   "source": [
    "df.info()"
   ]
  },
  {
   "cell_type": "markdown",
   "id": "704f2eb5",
   "metadata": {},
   "source": [
    "##### How many duplicated apps are there?"
   ]
  },
  {
   "cell_type": "code",
   "execution_count": 24,
   "id": "b84a08b8",
   "metadata": {},
   "outputs": [
    {
     "data": {
      "text/html": [
       "<div>\n",
       "<style scoped>\n",
       "    .dataframe tbody tr th:only-of-type {\n",
       "        vertical-align: middle;\n",
       "    }\n",
       "\n",
       "    .dataframe tbody tr th {\n",
       "        vertical-align: top;\n",
       "    }\n",
       "\n",
       "    .dataframe thead th {\n",
       "        text-align: right;\n",
       "    }\n",
       "</style>\n",
       "<table border=\"1\" class=\"dataframe\">\n",
       "  <thead>\n",
       "    <tr style=\"text-align: right;\">\n",
       "      <th></th>\n",
       "      <th>App</th>\n",
       "      <th>Category</th>\n",
       "      <th>Rating</th>\n",
       "      <th>Reviews</th>\n",
       "      <th>Size</th>\n",
       "      <th>Installs</th>\n",
       "      <th>Type</th>\n",
       "      <th>Price</th>\n",
       "      <th>Content Rating</th>\n",
       "      <th>Genres</th>\n",
       "      <th>Last Updated</th>\n",
       "      <th>Current Ver</th>\n",
       "      <th>Android Ver</th>\n",
       "    </tr>\n",
       "  </thead>\n",
       "  <tbody>\n",
       "    <tr>\n",
       "      <th>1393</th>\n",
       "      <td>10 Best Foods for You</td>\n",
       "      <td>HEALTH_AND_FITNESS</td>\n",
       "      <td>4.0</td>\n",
       "      <td>2490</td>\n",
       "      <td>3.8M</td>\n",
       "      <td>500,000+</td>\n",
       "      <td>Free</td>\n",
       "      <td>0</td>\n",
       "      <td>Everyone 10+</td>\n",
       "      <td>Health &amp; Fitness</td>\n",
       "      <td>17-Feb-17</td>\n",
       "      <td>1.9</td>\n",
       "      <td>2.3.3 and up</td>\n",
       "    </tr>\n",
       "    <tr>\n",
       "      <th>1407</th>\n",
       "      <td>10 Best Foods for You</td>\n",
       "      <td>HEALTH_AND_FITNESS</td>\n",
       "      <td>4.0</td>\n",
       "      <td>2490</td>\n",
       "      <td>3.8M</td>\n",
       "      <td>500,000+</td>\n",
       "      <td>Free</td>\n",
       "      <td>0</td>\n",
       "      <td>Everyone 10+</td>\n",
       "      <td>Health &amp; Fitness</td>\n",
       "      <td>17-Feb-17</td>\n",
       "      <td>1.9</td>\n",
       "      <td>2.3.3 and up</td>\n",
       "    </tr>\n",
       "    <tr>\n",
       "      <th>2543</th>\n",
       "      <td>1800 Contacts - Lens Store</td>\n",
       "      <td>MEDICAL</td>\n",
       "      <td>4.7</td>\n",
       "      <td>23160</td>\n",
       "      <td>26M</td>\n",
       "      <td>1,000,000+</td>\n",
       "      <td>Free</td>\n",
       "      <td>0</td>\n",
       "      <td>Everyone</td>\n",
       "      <td>Medical</td>\n",
       "      <td>27-Jul-18</td>\n",
       "      <td>7.4.1</td>\n",
       "      <td>5.0 and up</td>\n",
       "    </tr>\n",
       "    <tr>\n",
       "      <th>2322</th>\n",
       "      <td>1800 Contacts - Lens Store</td>\n",
       "      <td>MEDICAL</td>\n",
       "      <td>4.7</td>\n",
       "      <td>23160</td>\n",
       "      <td>26M</td>\n",
       "      <td>1,000,000+</td>\n",
       "      <td>Free</td>\n",
       "      <td>0</td>\n",
       "      <td>Everyone</td>\n",
       "      <td>Medical</td>\n",
       "      <td>27-Jul-18</td>\n",
       "      <td>7.4.1</td>\n",
       "      <td>5.0 and up</td>\n",
       "    </tr>\n",
       "    <tr>\n",
       "      <th>2385</th>\n",
       "      <td>2017 EMRA Antibiotic Guide</td>\n",
       "      <td>MEDICAL</td>\n",
       "      <td>4.4</td>\n",
       "      <td>12</td>\n",
       "      <td>3.8M</td>\n",
       "      <td>1,000+</td>\n",
       "      <td>Paid</td>\n",
       "      <td>$16.99</td>\n",
       "      <td>Everyone</td>\n",
       "      <td>Medical</td>\n",
       "      <td>27-Jan-17</td>\n",
       "      <td>1.0.5</td>\n",
       "      <td>4.0.3 and up</td>\n",
       "    </tr>\n",
       "    <tr>\n",
       "      <th>2256</th>\n",
       "      <td>2017 EMRA Antibiotic Guide</td>\n",
       "      <td>MEDICAL</td>\n",
       "      <td>4.4</td>\n",
       "      <td>12</td>\n",
       "      <td>3.8M</td>\n",
       "      <td>1,000+</td>\n",
       "      <td>Paid</td>\n",
       "      <td>$16.99</td>\n",
       "      <td>Everyone</td>\n",
       "      <td>Medical</td>\n",
       "      <td>27-Jan-17</td>\n",
       "      <td>1.0.5</td>\n",
       "      <td>4.0.3 and up</td>\n",
       "    </tr>\n",
       "    <tr>\n",
       "      <th>1337</th>\n",
       "      <td>21-Day Meditation Experience</td>\n",
       "      <td>HEALTH_AND_FITNESS</td>\n",
       "      <td>4.4</td>\n",
       "      <td>11506</td>\n",
       "      <td>15M</td>\n",
       "      <td>100,000+</td>\n",
       "      <td>Free</td>\n",
       "      <td>0</td>\n",
       "      <td>Everyone</td>\n",
       "      <td>Health &amp; Fitness</td>\n",
       "      <td>2-Aug-18</td>\n",
       "      <td>3.0.0</td>\n",
       "      <td>4.1 and up</td>\n",
       "    </tr>\n",
       "    <tr>\n",
       "      <th>1434</th>\n",
       "      <td>21-Day Meditation Experience</td>\n",
       "      <td>HEALTH_AND_FITNESS</td>\n",
       "      <td>4.4</td>\n",
       "      <td>11506</td>\n",
       "      <td>15M</td>\n",
       "      <td>100,000+</td>\n",
       "      <td>Free</td>\n",
       "      <td>0</td>\n",
       "      <td>Everyone</td>\n",
       "      <td>Health &amp; Fitness</td>\n",
       "      <td>2-Aug-18</td>\n",
       "      <td>3.0.0</td>\n",
       "      <td>4.1 and up</td>\n",
       "    </tr>\n",
       "    <tr>\n",
       "      <th>3083</th>\n",
       "      <td>365Scores - Live Scores</td>\n",
       "      <td>SPORTS</td>\n",
       "      <td>4.6</td>\n",
       "      <td>666521</td>\n",
       "      <td>25M</td>\n",
       "      <td>10,000,000+</td>\n",
       "      <td>Free</td>\n",
       "      <td>0</td>\n",
       "      <td>Everyone</td>\n",
       "      <td>Sports</td>\n",
       "      <td>29-Jul-18</td>\n",
       "      <td>5.5.9</td>\n",
       "      <td>4.1 and up</td>\n",
       "    </tr>\n",
       "    <tr>\n",
       "      <th>5415</th>\n",
       "      <td>365Scores - Live Scores</td>\n",
       "      <td>SPORTS</td>\n",
       "      <td>4.6</td>\n",
       "      <td>666246</td>\n",
       "      <td>25M</td>\n",
       "      <td>10,000,000+</td>\n",
       "      <td>Free</td>\n",
       "      <td>0</td>\n",
       "      <td>Everyone</td>\n",
       "      <td>Sports</td>\n",
       "      <td>29-Jul-18</td>\n",
       "      <td>5.5.9</td>\n",
       "      <td>4.1 and up</td>\n",
       "    </tr>\n",
       "  </tbody>\n",
       "</table>\n",
       "</div>"
      ],
      "text/plain": [
       "                               App            Category  Rating  Reviews  Size  \\\n",
       "1393         10 Best Foods for You  HEALTH_AND_FITNESS     4.0     2490  3.8M   \n",
       "1407         10 Best Foods for You  HEALTH_AND_FITNESS     4.0     2490  3.8M   \n",
       "2543    1800 Contacts - Lens Store             MEDICAL     4.7    23160   26M   \n",
       "2322    1800 Contacts - Lens Store             MEDICAL     4.7    23160   26M   \n",
       "2385    2017 EMRA Antibiotic Guide             MEDICAL     4.4       12  3.8M   \n",
       "2256    2017 EMRA Antibiotic Guide             MEDICAL     4.4       12  3.8M   \n",
       "1337  21-Day Meditation Experience  HEALTH_AND_FITNESS     4.4    11506   15M   \n",
       "1434  21-Day Meditation Experience  HEALTH_AND_FITNESS     4.4    11506   15M   \n",
       "3083       365Scores - Live Scores              SPORTS     4.6   666521   25M   \n",
       "5415       365Scores - Live Scores              SPORTS     4.6   666246   25M   \n",
       "\n",
       "         Installs  Type    Price Content Rating            Genres  \\\n",
       "1393     500,000+  Free        0   Everyone 10+  Health & Fitness   \n",
       "1407     500,000+  Free        0   Everyone 10+  Health & Fitness   \n",
       "2543   1,000,000+  Free        0       Everyone           Medical   \n",
       "2322   1,000,000+  Free        0       Everyone           Medical   \n",
       "2385       1,000+  Paid  $16.99        Everyone           Medical   \n",
       "2256       1,000+  Paid  $16.99        Everyone           Medical   \n",
       "1337     100,000+  Free        0       Everyone  Health & Fitness   \n",
       "1434     100,000+  Free        0       Everyone  Health & Fitness   \n",
       "3083  10,000,000+  Free        0       Everyone            Sports   \n",
       "5415  10,000,000+  Free        0       Everyone            Sports   \n",
       "\n",
       "     Last Updated Current Ver   Android Ver  \n",
       "1393    17-Feb-17         1.9  2.3.3 and up  \n",
       "1407    17-Feb-17         1.9  2.3.3 and up  \n",
       "2543    27-Jul-18       7.4.1    5.0 and up  \n",
       "2322    27-Jul-18       7.4.1    5.0 and up  \n",
       "2385    27-Jan-17       1.0.5  4.0.3 and up  \n",
       "2256    27-Jan-17       1.0.5  4.0.3 and up  \n",
       "1337     2-Aug-18       3.0.0    4.1 and up  \n",
       "1434     2-Aug-18       3.0.0    4.1 and up  \n",
       "3083    29-Jul-18       5.5.9    4.1 and up  \n",
       "5415    29-Jul-18       5.5.9    4.1 and up  "
      ]
     },
     "execution_count": 24,
     "metadata": {},
     "output_type": "execute_result"
    }
   ],
   "source": [
    "df.loc[df.duplicated(subset=['App'],keep=False)].sort_values(by='App').head(10)"
   ]
  },
  {
   "cell_type": "code",
   "execution_count": 25,
   "id": "16c6162f",
   "metadata": {},
   "outputs": [
    {
     "data": {
      "text/plain": [
       "893"
      ]
     },
     "execution_count": 25,
     "metadata": {},
     "output_type": "execute_result"
    }
   ],
   "source": [
    "df.duplicated(keep=False).sum()"
   ]
  },
  {
   "cell_type": "code",
   "execution_count": 26,
   "id": "ad327fc9",
   "metadata": {},
   "outputs": [
    {
     "data": {
      "text/plain": [
       "1979"
      ]
     },
     "execution_count": 26,
     "metadata": {},
     "output_type": "execute_result"
    }
   ],
   "source": [
    "df.duplicated(subset=['App'],keep=False).sum()"
   ]
  },
  {
   "cell_type": "markdown",
   "id": "c299fce9",
   "metadata": {},
   "source": [
    "##### 5.Drop duplicated apps keeping the ones with the greatest number of reviews"
   ]
  },
  {
   "cell_type": "code",
   "execution_count": 27,
   "id": "f2073af9",
   "metadata": {},
   "outputs": [],
   "source": [
    "#df_copy_5 = df.copy()"
   ]
  },
  {
   "cell_type": "code",
   "execution_count": 28,
   "id": "cae2254e",
   "metadata": {},
   "outputs": [],
   "source": [
    "df.sort_values(by=['App','Reviews'], inplace=True)"
   ]
  },
  {
   "cell_type": "code",
   "execution_count": 29,
   "id": "cb0d15b2",
   "metadata": {},
   "outputs": [],
   "source": [
    "df.drop_duplicates(subset=['App'], keep='last', inplace=True)"
   ]
  },
  {
   "cell_type": "code",
   "execution_count": 30,
   "id": "1343eff1",
   "metadata": {},
   "outputs": [
    {
     "name": "stdout",
     "output_type": "stream",
     "text": [
      "<class 'pandas.core.frame.DataFrame'>\n",
      "Int64Index: 9648 entries, 8884 to 882\n",
      "Data columns (total 13 columns):\n",
      " #   Column          Non-Null Count  Dtype  \n",
      "---  ------          --------------  -----  \n",
      " 0   App             9648 non-null   object \n",
      " 1   Category        9648 non-null   object \n",
      " 2   Rating          9648 non-null   float64\n",
      " 3   Reviews         9648 non-null   int64  \n",
      " 4   Size            9648 non-null   object \n",
      " 5   Installs        9648 non-null   object \n",
      " 6   Type            9648 non-null   object \n",
      " 7   Price           9648 non-null   object \n",
      " 8   Content Rating  9648 non-null   object \n",
      " 9   Genres          9648 non-null   object \n",
      " 10  Last Updated    9648 non-null   object \n",
      " 11  Current Ver     9648 non-null   object \n",
      " 12  Android Ver     9648 non-null   object \n",
      "dtypes: float64(1), int64(1), object(11)\n",
      "memory usage: 1.0+ MB\n"
     ]
    }
   ],
   "source": [
    "df.info()"
   ]
  },
  {
   "cell_type": "markdown",
   "id": "7d494149",
   "metadata": {},
   "source": [
    "##### Format the category column"
   ]
  },
  {
   "cell_type": "code",
   "execution_count": 35,
   "id": "6e05caa7",
   "metadata": {},
   "outputs": [
    {
     "data": {
      "text/plain": [
       "Family                 1874\n",
       "Game                    945\n",
       "Tools                   827\n",
       "Business                420\n",
       "Medical                 395\n",
       "Productivity            374\n",
       "Personalization         374\n",
       "Lifestyle               369\n",
       "Finance                 345\n",
       "Sports                  325\n",
       "Communication           315\n",
       "Health and fitness      288\n",
       "Photography             281\n",
       "News and magazines      254\n",
       "Social                  239\n",
       "Books and reference     221\n",
       "Travel and local        219\n",
       "Shopping                202\n",
       "Dating                  170\n",
       "Video players           164\n",
       "Maps and navigation     131\n",
       "Food and drink          112\n",
       "Education               105\n",
       "Entertainment            86\n",
       "Auto and vehicles        85\n",
       "Libraries and demo       83\n",
       "Weather                  79\n",
       "House and home           73\n",
       "Events                   64\n",
       "Art and design           60\n",
       "Parenting                60\n",
       "Comics                   56\n",
       "Beauty                   53\n",
       "Name: Category, dtype: int64"
      ]
     },
     "execution_count": 35,
     "metadata": {},
     "output_type": "execute_result"
    }
   ],
   "source": [
    "df['Category'].value_counts()"
   ]
  },
  {
   "cell_type": "code",
   "execution_count": 32,
   "id": "06c8177b",
   "metadata": {},
   "outputs": [],
   "source": [
    "df['Category'] = df['Category'].str.replace(\"_\",\" \")"
   ]
  },
  {
   "cell_type": "code",
   "execution_count": 34,
   "id": "c03c11a8",
   "metadata": {},
   "outputs": [],
   "source": [
    "df['Category'] = df['Category'].str.capitalize()"
   ]
  },
  {
   "cell_type": "markdown",
   "id": "68cf545b",
   "metadata": {},
   "source": [
    "##### Format the installs column and convert it to numeric"
   ]
  },
  {
   "cell_type": "code",
   "execution_count": 36,
   "id": "f473c66c",
   "metadata": {},
   "outputs": [
    {
     "name": "stdout",
     "output_type": "stream",
     "text": [
      "<class 'pandas.core.frame.DataFrame'>\n",
      "Int64Index: 9648 entries, 8884 to 882\n",
      "Data columns (total 13 columns):\n",
      " #   Column          Non-Null Count  Dtype  \n",
      "---  ------          --------------  -----  \n",
      " 0   App             9648 non-null   object \n",
      " 1   Category        9648 non-null   object \n",
      " 2   Rating          9648 non-null   float64\n",
      " 3   Reviews         9648 non-null   int64  \n",
      " 4   Size            9648 non-null   object \n",
      " 5   Installs        9648 non-null   object \n",
      " 6   Type            9648 non-null   object \n",
      " 7   Price           9648 non-null   object \n",
      " 8   Content Rating  9648 non-null   object \n",
      " 9   Genres          9648 non-null   object \n",
      " 10  Last Updated    9648 non-null   object \n",
      " 11  Current Ver     9648 non-null   object \n",
      " 12  Android Ver     9648 non-null   object \n",
      "dtypes: float64(1), int64(1), object(11)\n",
      "memory usage: 1.0+ MB\n"
     ]
    }
   ],
   "source": [
    "df.info()"
   ]
  },
  {
   "cell_type": "code",
   "execution_count": 37,
   "id": "0c3d6b51",
   "metadata": {},
   "outputs": [
    {
     "name": "stderr",
     "output_type": "stream",
     "text": [
      "C:\\Users\\adars\\AppData\\Local\\Temp\\ipykernel_2112\\2442223533.py:1: FutureWarning: The default value of regex will change from True to False in a future version. In addition, single character regular expressions will *not* be treated as literal strings when regex=True.\n",
      "  df['Installs'] = pd.to_numeric(df['Installs'].str.replace(\"+\",'').str.replace(\",\", ''))\n"
     ]
    }
   ],
   "source": [
    "df['Installs'] = pd.to_numeric(df['Installs'].str.replace(\"+\",'').str.replace(\",\", ''))"
   ]
  },
  {
   "cell_type": "code",
   "execution_count": 38,
   "id": "16039b1d",
   "metadata": {},
   "outputs": [
    {
     "name": "stdout",
     "output_type": "stream",
     "text": [
      "<class 'pandas.core.frame.DataFrame'>\n",
      "Int64Index: 9648 entries, 8884 to 882\n",
      "Data columns (total 13 columns):\n",
      " #   Column          Non-Null Count  Dtype  \n",
      "---  ------          --------------  -----  \n",
      " 0   App             9648 non-null   object \n",
      " 1   Category        9648 non-null   object \n",
      " 2   Rating          9648 non-null   float64\n",
      " 3   Reviews         9648 non-null   int64  \n",
      " 4   Size            9648 non-null   object \n",
      " 5   Installs        9648 non-null   int64  \n",
      " 6   Type            9648 non-null   object \n",
      " 7   Price           9648 non-null   object \n",
      " 8   Content Rating  9648 non-null   object \n",
      " 9   Genres          9648 non-null   object \n",
      " 10  Last Updated    9648 non-null   object \n",
      " 11  Current Ver     9648 non-null   object \n",
      " 12  Android Ver     9648 non-null   object \n",
      "dtypes: float64(1), int64(2), object(10)\n",
      "memory usage: 1.0+ MB\n"
     ]
    }
   ],
   "source": [
    "df.info()"
   ]
  },
  {
   "cell_type": "markdown",
   "id": "d73108d7",
   "metadata": {},
   "source": [
    "##### 8. Clean and convert size column representing it in bytes\n",
    "1. m = 1024*1024\n",
    "2. kb = 1024"
   ]
  },
  {
   "cell_type": "code",
   "execution_count": 39,
   "id": "6f6b39d3",
   "metadata": {},
   "outputs": [],
   "source": [
    "#df_copy_8 = df.copy()"
   ]
  },
  {
   "cell_type": "code",
   "execution_count": 42,
   "id": "971b744e",
   "metadata": {},
   "outputs": [
    {
     "data": {
      "text/html": [
       "<div>\n",
       "<style scoped>\n",
       "    .dataframe tbody tr th:only-of-type {\n",
       "        vertical-align: middle;\n",
       "    }\n",
       "\n",
       "    .dataframe tbody tr th {\n",
       "        vertical-align: top;\n",
       "    }\n",
       "\n",
       "    .dataframe thead th {\n",
       "        text-align: right;\n",
       "    }\n",
       "</style>\n",
       "<table border=\"1\" class=\"dataframe\">\n",
       "  <thead>\n",
       "    <tr style=\"text-align: right;\">\n",
       "      <th></th>\n",
       "      <th>App</th>\n",
       "      <th>Category</th>\n",
       "      <th>Rating</th>\n",
       "      <th>Reviews</th>\n",
       "      <th>Size</th>\n",
       "      <th>Installs</th>\n",
       "      <th>Type</th>\n",
       "      <th>Price</th>\n",
       "      <th>Content Rating</th>\n",
       "      <th>Genres</th>\n",
       "      <th>Last Updated</th>\n",
       "      <th>Current Ver</th>\n",
       "      <th>Android Ver</th>\n",
       "    </tr>\n",
       "  </thead>\n",
       "  <tbody>\n",
       "  </tbody>\n",
       "</table>\n",
       "</div>"
      ],
      "text/plain": [
       "Empty DataFrame\n",
       "Columns: [App, Category, Rating, Reviews, Size, Installs, Type, Price, Content Rating, Genres, Last Updated, Current Ver, Android Ver]\n",
       "Index: []"
      ]
     },
     "execution_count": 42,
     "metadata": {},
     "output_type": "execute_result"
    }
   ],
   "source": [
    "df.loc[df['Size'].str.contains('Varies with device')]"
   ]
  },
  {
   "cell_type": "code",
   "execution_count": 41,
   "id": "4bcbe8ce",
   "metadata": {},
   "outputs": [],
   "source": [
    "df['Size'] = df['Size'].str.replace('Varies with device',\"0\")"
   ]
  },
  {
   "cell_type": "code",
   "execution_count": 43,
   "id": "b35f57eb",
   "metadata": {},
   "outputs": [],
   "source": [
    "df.loc[df['Size'].str.contains('k'),'Size'] = (\n",
    "    pd.to_numeric(\n",
    "        df.loc[df['Size'].str.contains('k'),'Size'].str.replace('k', '')\n",
    "    ) * 1024\n",
    ").astype(str)"
   ]
  },
  {
   "cell_type": "code",
   "execution_count": 44,
   "id": "0bc4fb21",
   "metadata": {},
   "outputs": [],
   "source": [
    "df.loc[df['Size'].str.contains('M'),'Size'] = (\n",
    "    pd.to_numeric(\n",
    "        df.loc[df['Size'].str.contains('M'),'Size'].str.replace('M', '')\n",
    "    ) * (1024 * 1024)\n",
    ").astype(str)"
   ]
  },
  {
   "cell_type": "code",
   "execution_count": 48,
   "id": "3cd91a57",
   "metadata": {},
   "outputs": [],
   "source": [
    "df['Size'] = pd.to_numeric(df['Size'])"
   ]
  },
  {
   "cell_type": "code",
   "execution_count": 47,
   "id": "d9619749",
   "metadata": {},
   "outputs": [
    {
     "data": {
      "text/html": [
       "<div>\n",
       "<style scoped>\n",
       "    .dataframe tbody tr th:only-of-type {\n",
       "        vertical-align: middle;\n",
       "    }\n",
       "\n",
       "    .dataframe tbody tr th {\n",
       "        vertical-align: top;\n",
       "    }\n",
       "\n",
       "    .dataframe thead th {\n",
       "        text-align: right;\n",
       "    }\n",
       "</style>\n",
       "<table border=\"1\" class=\"dataframe\">\n",
       "  <thead>\n",
       "    <tr style=\"text-align: right;\">\n",
       "      <th></th>\n",
       "      <th>App</th>\n",
       "      <th>Category</th>\n",
       "      <th>Rating</th>\n",
       "      <th>Reviews</th>\n",
       "      <th>Size</th>\n",
       "      <th>Installs</th>\n",
       "      <th>Type</th>\n",
       "      <th>Price</th>\n",
       "      <th>Content Rating</th>\n",
       "      <th>Genres</th>\n",
       "      <th>Last Updated</th>\n",
       "      <th>Current Ver</th>\n",
       "      <th>Android Ver</th>\n",
       "    </tr>\n",
       "  </thead>\n",
       "  <tbody>\n",
       "    <tr>\n",
       "      <th>8884</th>\n",
       "      <td>\"i DT\" Fútbol. Todos Somos Técnicos.</td>\n",
       "      <td>Sports</td>\n",
       "      <td>4.191757</td>\n",
       "      <td>27</td>\n",
       "      <td>3774873.6</td>\n",
       "      <td>500</td>\n",
       "      <td>Free</td>\n",
       "      <td>0</td>\n",
       "      <td>Everyone</td>\n",
       "      <td>Sports</td>\n",
       "      <td>7-Oct-17</td>\n",
       "      <td>0.22</td>\n",
       "      <td>4.1 and up</td>\n",
       "    </tr>\n",
       "    <tr>\n",
       "      <th>324</th>\n",
       "      <td>#NAME?</td>\n",
       "      <td>Comics</td>\n",
       "      <td>3.500000</td>\n",
       "      <td>115</td>\n",
       "      <td>9542041.6</td>\n",
       "      <td>10000</td>\n",
       "      <td>Free</td>\n",
       "      <td>0</td>\n",
       "      <td>Mature 17+</td>\n",
       "      <td>Comics</td>\n",
       "      <td>13-Jul-18</td>\n",
       "      <td>5.0.12</td>\n",
       "      <td>5.0 and up</td>\n",
       "    </tr>\n",
       "    <tr>\n",
       "      <th>8532</th>\n",
       "      <td>+Download 4 Instagram Twitter</td>\n",
       "      <td>Social</td>\n",
       "      <td>4.500000</td>\n",
       "      <td>40467</td>\n",
       "      <td>23068672.0</td>\n",
       "      <td>1000000</td>\n",
       "      <td>Free</td>\n",
       "      <td>0</td>\n",
       "      <td>Everyone</td>\n",
       "      <td>Social</td>\n",
       "      <td>2-Aug-18</td>\n",
       "      <td>5.03</td>\n",
       "      <td>4.1 and up</td>\n",
       "    </tr>\n",
       "    <tr>\n",
       "      <th>4541</th>\n",
       "      <td>.R</td>\n",
       "      <td>Tools</td>\n",
       "      <td>4.500000</td>\n",
       "      <td>259</td>\n",
       "      <td>207872.0</td>\n",
       "      <td>10000</td>\n",
       "      <td>Free</td>\n",
       "      <td>0</td>\n",
       "      <td>Everyone</td>\n",
       "      <td>Tools</td>\n",
       "      <td>16-Sep-14</td>\n",
       "      <td>1.1.06</td>\n",
       "      <td>1.5 and up</td>\n",
       "    </tr>\n",
       "    <tr>\n",
       "      <th>4636</th>\n",
       "      <td>/u/app</td>\n",
       "      <td>Communication</td>\n",
       "      <td>4.700000</td>\n",
       "      <td>573</td>\n",
       "      <td>55574528.0</td>\n",
       "      <td>10000</td>\n",
       "      <td>Free</td>\n",
       "      <td>0</td>\n",
       "      <td>Mature 17+</td>\n",
       "      <td>Communication</td>\n",
       "      <td>3-Jul-18</td>\n",
       "      <td>4.2.4</td>\n",
       "      <td>4.1 and up</td>\n",
       "    </tr>\n",
       "  </tbody>\n",
       "</table>\n",
       "</div>"
      ],
      "text/plain": [
       "                                       App       Category    Rating  Reviews  \\\n",
       "8884  \"i DT\" Fútbol. Todos Somos Técnicos.         Sports  4.191757       27   \n",
       "324                                 #NAME?         Comics  3.500000      115   \n",
       "8532         +Download 4 Instagram Twitter         Social  4.500000    40467   \n",
       "4541                                    .R          Tools  4.500000      259   \n",
       "4636                                /u/app  Communication  4.700000      573   \n",
       "\n",
       "            Size  Installs  Type Price Content Rating         Genres  \\\n",
       "8884   3774873.6       500  Free     0       Everyone         Sports   \n",
       "324    9542041.6     10000  Free     0     Mature 17+         Comics   \n",
       "8532  23068672.0   1000000  Free     0       Everyone         Social   \n",
       "4541    207872.0     10000  Free     0       Everyone          Tools   \n",
       "4636  55574528.0     10000  Free     0     Mature 17+  Communication   \n",
       "\n",
       "     Last Updated Current Ver Android Ver  \n",
       "8884     7-Oct-17        0.22  4.1 and up  \n",
       "324     13-Jul-18      5.0.12  5.0 and up  \n",
       "8532     2-Aug-18        5.03  4.1 and up  \n",
       "4541    16-Sep-14      1.1.06  1.5 and up  \n",
       "4636     3-Jul-18       4.2.4  4.1 and up  "
      ]
     },
     "execution_count": 47,
     "metadata": {},
     "output_type": "execute_result"
    }
   ],
   "source": [
    "df.head()"
   ]
  },
  {
   "cell_type": "markdown",
   "id": "cb47e8bc",
   "metadata": {},
   "source": [
    "check result below :"
   ]
  },
  {
   "cell_type": "code",
   "execution_count": 49,
   "id": "6dadc303",
   "metadata": {},
   "outputs": [
    {
     "name": "stdout",
     "output_type": "stream",
     "text": [
      "<class 'pandas.core.frame.DataFrame'>\n",
      "Int64Index: 9648 entries, 8884 to 882\n",
      "Data columns (total 13 columns):\n",
      " #   Column          Non-Null Count  Dtype  \n",
      "---  ------          --------------  -----  \n",
      " 0   App             9648 non-null   object \n",
      " 1   Category        9648 non-null   object \n",
      " 2   Rating          9648 non-null   float64\n",
      " 3   Reviews         9648 non-null   int64  \n",
      " 4   Size            9648 non-null   float64\n",
      " 5   Installs        9648 non-null   int64  \n",
      " 6   Type            9648 non-null   object \n",
      " 7   Price           9648 non-null   object \n",
      " 8   Content Rating  9648 non-null   object \n",
      " 9   Genres          9648 non-null   object \n",
      " 10  Last Updated    9648 non-null   object \n",
      " 11  Current Ver     9648 non-null   object \n",
      " 12  Android Ver     9648 non-null   object \n",
      "dtypes: float64(2), int64(2), object(9)\n",
      "memory usage: 1.0+ MB\n"
     ]
    }
   ],
   "source": [
    "df.info()"
   ]
  },
  {
   "cell_type": "markdown",
   "id": "0f890b34",
   "metadata": {},
   "source": [
    "##### Clean and convert price column to numeric"
   ]
  },
  {
   "cell_type": "code",
   "execution_count": 51,
   "id": "662fd087",
   "metadata": {},
   "outputs": [
    {
     "data": {
      "text/html": [
       "<div>\n",
       "<style scoped>\n",
       "    .dataframe tbody tr th:only-of-type {\n",
       "        vertical-align: middle;\n",
       "    }\n",
       "\n",
       "    .dataframe tbody tr th {\n",
       "        vertical-align: top;\n",
       "    }\n",
       "\n",
       "    .dataframe thead th {\n",
       "        text-align: right;\n",
       "    }\n",
       "</style>\n",
       "<table border=\"1\" class=\"dataframe\">\n",
       "  <thead>\n",
       "    <tr style=\"text-align: right;\">\n",
       "      <th></th>\n",
       "      <th>App</th>\n",
       "      <th>Category</th>\n",
       "      <th>Rating</th>\n",
       "      <th>Reviews</th>\n",
       "      <th>Size</th>\n",
       "      <th>Installs</th>\n",
       "      <th>Type</th>\n",
       "      <th>Price</th>\n",
       "      <th>Content Rating</th>\n",
       "      <th>Genres</th>\n",
       "      <th>Last Updated</th>\n",
       "      <th>Current Ver</th>\n",
       "      <th>Android Ver</th>\n",
       "    </tr>\n",
       "  </thead>\n",
       "  <tbody>\n",
       "    <tr>\n",
       "      <th>7738</th>\n",
       "      <td>10 WPM Amateur ham radio CW Morse code trainer</td>\n",
       "      <td>Communication</td>\n",
       "      <td>3.500000</td>\n",
       "      <td>10</td>\n",
       "      <td>3984588.8</td>\n",
       "      <td>100</td>\n",
       "      <td>Paid</td>\n",
       "      <td>$1.49</td>\n",
       "      <td>Everyone</td>\n",
       "      <td>Communication</td>\n",
       "      <td>12-May-18</td>\n",
       "      <td>2.1.4</td>\n",
       "      <td>2.1 and up</td>\n",
       "    </tr>\n",
       "    <tr>\n",
       "      <th>8219</th>\n",
       "      <td>10,000 Quotes DB (Premium)</td>\n",
       "      <td>Books and reference</td>\n",
       "      <td>4.100000</td>\n",
       "      <td>70</td>\n",
       "      <td>3670016.0</td>\n",
       "      <td>500</td>\n",
       "      <td>Paid</td>\n",
       "      <td>$0.99</td>\n",
       "      <td>Everyone</td>\n",
       "      <td>Books &amp; Reference</td>\n",
       "      <td>30-Aug-13</td>\n",
       "      <td>1.3</td>\n",
       "      <td>2.1 and up</td>\n",
       "    </tr>\n",
       "    <tr>\n",
       "      <th>6760</th>\n",
       "      <td>17th Edition Cable Sizer</td>\n",
       "      <td>Books and reference</td>\n",
       "      <td>4.400000</td>\n",
       "      <td>47</td>\n",
       "      <td>1468006.4</td>\n",
       "      <td>1000</td>\n",
       "      <td>Paid</td>\n",
       "      <td>$3.08</td>\n",
       "      <td>Everyone</td>\n",
       "      <td>Books &amp; Reference</td>\n",
       "      <td>27-May-16</td>\n",
       "      <td>1.22</td>\n",
       "      <td>2.2 and up</td>\n",
       "    </tr>\n",
       "    <tr>\n",
       "      <th>7993</th>\n",
       "      <td>2 Amateur ham radio CW Morse code practice key...</td>\n",
       "      <td>Communication</td>\n",
       "      <td>4.800000</td>\n",
       "      <td>6</td>\n",
       "      <td>3670016.0</td>\n",
       "      <td>100</td>\n",
       "      <td>Paid</td>\n",
       "      <td>$1.49</td>\n",
       "      <td>Everyone</td>\n",
       "      <td>Communication</td>\n",
       "      <td>5-Mar-18</td>\n",
       "      <td>1.0.9</td>\n",
       "      <td>1.6 and up</td>\n",
       "    </tr>\n",
       "    <tr>\n",
       "      <th>2385</th>\n",
       "      <td>2017 EMRA Antibiotic Guide</td>\n",
       "      <td>Medical</td>\n",
       "      <td>4.400000</td>\n",
       "      <td>12</td>\n",
       "      <td>3984588.8</td>\n",
       "      <td>1000</td>\n",
       "      <td>Paid</td>\n",
       "      <td>$16.99</td>\n",
       "      <td>Everyone</td>\n",
       "      <td>Medical</td>\n",
       "      <td>27-Jan-17</td>\n",
       "      <td>1.0.5</td>\n",
       "      <td>4.0.3 and up</td>\n",
       "    </tr>\n",
       "    <tr>\n",
       "      <th>...</th>\n",
       "      <td>...</td>\n",
       "      <td>...</td>\n",
       "      <td>...</td>\n",
       "      <td>...</td>\n",
       "      <td>...</td>\n",
       "      <td>...</td>\n",
       "      <td>...</td>\n",
       "      <td>...</td>\n",
       "      <td>...</td>\n",
       "      <td>...</td>\n",
       "      <td>...</td>\n",
       "      <td>...</td>\n",
       "      <td>...</td>\n",
       "    </tr>\n",
       "    <tr>\n",
       "      <th>4743</th>\n",
       "      <td>weather HD</td>\n",
       "      <td>Personalization</td>\n",
       "      <td>4.000000</td>\n",
       "      <td>1546</td>\n",
       "      <td>4718592.0</td>\n",
       "      <td>10000</td>\n",
       "      <td>Paid</td>\n",
       "      <td>$1.99</td>\n",
       "      <td>Everyone</td>\n",
       "      <td>Personalization</td>\n",
       "      <td>26-Feb-14</td>\n",
       "      <td>3.1</td>\n",
       "      <td>2.1 and up</td>\n",
       "    </tr>\n",
       "    <tr>\n",
       "      <th>5832</th>\n",
       "      <td>¡Ay Caramba!</td>\n",
       "      <td>Family</td>\n",
       "      <td>4.191757</td>\n",
       "      <td>0</td>\n",
       "      <td>562176.0</td>\n",
       "      <td>1</td>\n",
       "      <td>Paid</td>\n",
       "      <td>$1.99</td>\n",
       "      <td>Everyone</td>\n",
       "      <td>Education</td>\n",
       "      <td>13-Jun-14</td>\n",
       "      <td>1.2</td>\n",
       "      <td>3.0 and up</td>\n",
       "    </tr>\n",
       "    <tr>\n",
       "      <th>9828</th>\n",
       "      <td>Égalité et Réconciliation</td>\n",
       "      <td>News and magazines</td>\n",
       "      <td>4.900000</td>\n",
       "      <td>58</td>\n",
       "      <td>3984588.8</td>\n",
       "      <td>500</td>\n",
       "      <td>Paid</td>\n",
       "      <td>$2.99</td>\n",
       "      <td>Everyone</td>\n",
       "      <td>News &amp; Magazines</td>\n",
       "      <td>26-May-18</td>\n",
       "      <td>1.1.1</td>\n",
       "      <td>5.0 and up</td>\n",
       "    </tr>\n",
       "    <tr>\n",
       "      <th>7183</th>\n",
       "      <td>Билеты ПДД CD 2019 PRO</td>\n",
       "      <td>Auto and vehicles</td>\n",
       "      <td>4.191757</td>\n",
       "      <td>21</td>\n",
       "      <td>16777216.0</td>\n",
       "      <td>100</td>\n",
       "      <td>Paid</td>\n",
       "      <td>$1.49</td>\n",
       "      <td>Everyone</td>\n",
       "      <td>Auto &amp; Vehicles</td>\n",
       "      <td>27-Jul-18</td>\n",
       "      <td>1.49</td>\n",
       "      <td>4.0 and up</td>\n",
       "    </tr>\n",
       "    <tr>\n",
       "      <th>4362</th>\n",
       "      <td>💎 I'm rich</td>\n",
       "      <td>Lifestyle</td>\n",
       "      <td>3.800000</td>\n",
       "      <td>718</td>\n",
       "      <td>27262976.0</td>\n",
       "      <td>10000</td>\n",
       "      <td>Paid</td>\n",
       "      <td>$399.99</td>\n",
       "      <td>Everyone</td>\n",
       "      <td>Lifestyle</td>\n",
       "      <td>11-Mar-18</td>\n",
       "      <td>1.0.0</td>\n",
       "      <td>4.4 and up</td>\n",
       "    </tr>\n",
       "  </tbody>\n",
       "</table>\n",
       "<p>751 rows × 13 columns</p>\n",
       "</div>"
      ],
      "text/plain": [
       "                                                    App             Category  \\\n",
       "7738     10 WPM Amateur ham radio CW Morse code trainer        Communication   \n",
       "8219                         10,000 Quotes DB (Premium)  Books and reference   \n",
       "6760                           17th Edition Cable Sizer  Books and reference   \n",
       "7993  2 Amateur ham radio CW Morse code practice key...        Communication   \n",
       "2385                         2017 EMRA Antibiotic Guide              Medical   \n",
       "...                                                 ...                  ...   \n",
       "4743                                         weather HD      Personalization   \n",
       "5832                                       ¡Ay Caramba!               Family   \n",
       "9828                          Égalité et Réconciliation   News and magazines   \n",
       "7183                             Билеты ПДД CD 2019 PRO    Auto and vehicles   \n",
       "4362                                         💎 I'm rich            Lifestyle   \n",
       "\n",
       "        Rating  Reviews        Size  Installs  Type     Price Content Rating  \\\n",
       "7738  3.500000       10   3984588.8       100  Paid    $1.49        Everyone   \n",
       "8219  4.100000       70   3670016.0       500  Paid    $0.99        Everyone   \n",
       "6760  4.400000       47   1468006.4      1000  Paid    $3.08        Everyone   \n",
       "7993  4.800000        6   3670016.0       100  Paid    $1.49        Everyone   \n",
       "2385  4.400000       12   3984588.8      1000  Paid   $16.99        Everyone   \n",
       "...        ...      ...         ...       ...   ...       ...            ...   \n",
       "4743  4.000000     1546   4718592.0     10000  Paid    $1.99        Everyone   \n",
       "5832  4.191757        0    562176.0         1  Paid    $1.99        Everyone   \n",
       "9828  4.900000       58   3984588.8       500  Paid    $2.99        Everyone   \n",
       "7183  4.191757       21  16777216.0       100  Paid    $1.49        Everyone   \n",
       "4362  3.800000      718  27262976.0     10000  Paid  $399.99        Everyone   \n",
       "\n",
       "                 Genres Last Updated Current Ver   Android Ver  \n",
       "7738      Communication    12-May-18       2.1.4    2.1 and up  \n",
       "8219  Books & Reference    30-Aug-13         1.3    2.1 and up  \n",
       "6760  Books & Reference    27-May-16        1.22    2.2 and up  \n",
       "7993      Communication     5-Mar-18       1.0.9    1.6 and up  \n",
       "2385            Medical    27-Jan-17       1.0.5  4.0.3 and up  \n",
       "...                 ...          ...         ...           ...  \n",
       "4743    Personalization    26-Feb-14         3.1    2.1 and up  \n",
       "5832          Education    13-Jun-14         1.2    3.0 and up  \n",
       "9828   News & Magazines    26-May-18       1.1.1    5.0 and up  \n",
       "7183    Auto & Vehicles    27-Jul-18        1.49    4.0 and up  \n",
       "4362          Lifestyle    11-Mar-18       1.0.0    4.4 and up  \n",
       "\n",
       "[751 rows x 13 columns]"
      ]
     },
     "execution_count": 51,
     "metadata": {},
     "output_type": "execute_result"
    }
   ],
   "source": [
    "df.loc[df['Price'] != \"0\"]"
   ]
  },
  {
   "cell_type": "code",
   "execution_count": 55,
   "id": "4332c464",
   "metadata": {},
   "outputs": [
    {
     "name": "stderr",
     "output_type": "stream",
     "text": [
      "C:\\Users\\adars\\AppData\\Local\\Temp\\ipykernel_2112\\476371664.py:1: FutureWarning: The default value of regex will change from True to False in a future version. In addition, single character regular expressions will *not* be treated as literal strings when regex=True.\n",
      "  df['Price'] = pd.to_numeric(df['Price'].str.replace('$',''))\n"
     ]
    }
   ],
   "source": [
    "df['Price'] = pd.to_numeric(df['Price'].str.replace('$',''))"
   ]
  },
  {
   "cell_type": "code",
   "execution_count": 56,
   "id": "6dd7be6f",
   "metadata": {},
   "outputs": [
    {
     "data": {
      "text/html": [
       "<div>\n",
       "<style scoped>\n",
       "    .dataframe tbody tr th:only-of-type {\n",
       "        vertical-align: middle;\n",
       "    }\n",
       "\n",
       "    .dataframe tbody tr th {\n",
       "        vertical-align: top;\n",
       "    }\n",
       "\n",
       "    .dataframe thead th {\n",
       "        text-align: right;\n",
       "    }\n",
       "</style>\n",
       "<table border=\"1\" class=\"dataframe\">\n",
       "  <thead>\n",
       "    <tr style=\"text-align: right;\">\n",
       "      <th></th>\n",
       "      <th>App</th>\n",
       "      <th>Category</th>\n",
       "      <th>Rating</th>\n",
       "      <th>Reviews</th>\n",
       "      <th>Size</th>\n",
       "      <th>Installs</th>\n",
       "      <th>Type</th>\n",
       "      <th>Price</th>\n",
       "      <th>Content Rating</th>\n",
       "      <th>Genres</th>\n",
       "      <th>Last Updated</th>\n",
       "      <th>Current Ver</th>\n",
       "      <th>Android Ver</th>\n",
       "    </tr>\n",
       "  </thead>\n",
       "  <tbody>\n",
       "    <tr>\n",
       "      <th>8884</th>\n",
       "      <td>\"i DT\" Fútbol. Todos Somos Técnicos.</td>\n",
       "      <td>Sports</td>\n",
       "      <td>4.191757</td>\n",
       "      <td>27</td>\n",
       "      <td>3774873.6</td>\n",
       "      <td>500</td>\n",
       "      <td>Free</td>\n",
       "      <td>0.0</td>\n",
       "      <td>Everyone</td>\n",
       "      <td>Sports</td>\n",
       "      <td>7-Oct-17</td>\n",
       "      <td>0.22</td>\n",
       "      <td>4.1 and up</td>\n",
       "    </tr>\n",
       "    <tr>\n",
       "      <th>324</th>\n",
       "      <td>#NAME?</td>\n",
       "      <td>Comics</td>\n",
       "      <td>3.500000</td>\n",
       "      <td>115</td>\n",
       "      <td>9542041.6</td>\n",
       "      <td>10000</td>\n",
       "      <td>Free</td>\n",
       "      <td>0.0</td>\n",
       "      <td>Mature 17+</td>\n",
       "      <td>Comics</td>\n",
       "      <td>13-Jul-18</td>\n",
       "      <td>5.0.12</td>\n",
       "      <td>5.0 and up</td>\n",
       "    </tr>\n",
       "    <tr>\n",
       "      <th>8532</th>\n",
       "      <td>+Download 4 Instagram Twitter</td>\n",
       "      <td>Social</td>\n",
       "      <td>4.500000</td>\n",
       "      <td>40467</td>\n",
       "      <td>23068672.0</td>\n",
       "      <td>1000000</td>\n",
       "      <td>Free</td>\n",
       "      <td>0.0</td>\n",
       "      <td>Everyone</td>\n",
       "      <td>Social</td>\n",
       "      <td>2-Aug-18</td>\n",
       "      <td>5.03</td>\n",
       "      <td>4.1 and up</td>\n",
       "    </tr>\n",
       "    <tr>\n",
       "      <th>4541</th>\n",
       "      <td>.R</td>\n",
       "      <td>Tools</td>\n",
       "      <td>4.500000</td>\n",
       "      <td>259</td>\n",
       "      <td>207872.0</td>\n",
       "      <td>10000</td>\n",
       "      <td>Free</td>\n",
       "      <td>0.0</td>\n",
       "      <td>Everyone</td>\n",
       "      <td>Tools</td>\n",
       "      <td>16-Sep-14</td>\n",
       "      <td>1.1.06</td>\n",
       "      <td>1.5 and up</td>\n",
       "    </tr>\n",
       "    <tr>\n",
       "      <th>4636</th>\n",
       "      <td>/u/app</td>\n",
       "      <td>Communication</td>\n",
       "      <td>4.700000</td>\n",
       "      <td>573</td>\n",
       "      <td>55574528.0</td>\n",
       "      <td>10000</td>\n",
       "      <td>Free</td>\n",
       "      <td>0.0</td>\n",
       "      <td>Mature 17+</td>\n",
       "      <td>Communication</td>\n",
       "      <td>3-Jul-18</td>\n",
       "      <td>4.2.4</td>\n",
       "      <td>4.1 and up</td>\n",
       "    </tr>\n",
       "  </tbody>\n",
       "</table>\n",
       "</div>"
      ],
      "text/plain": [
       "                                       App       Category    Rating  Reviews  \\\n",
       "8884  \"i DT\" Fútbol. Todos Somos Técnicos.         Sports  4.191757       27   \n",
       "324                                 #NAME?         Comics  3.500000      115   \n",
       "8532         +Download 4 Instagram Twitter         Social  4.500000    40467   \n",
       "4541                                    .R          Tools  4.500000      259   \n",
       "4636                                /u/app  Communication  4.700000      573   \n",
       "\n",
       "            Size  Installs  Type  Price Content Rating         Genres  \\\n",
       "8884   3774873.6       500  Free    0.0       Everyone         Sports   \n",
       "324    9542041.6     10000  Free    0.0     Mature 17+         Comics   \n",
       "8532  23068672.0   1000000  Free    0.0       Everyone         Social   \n",
       "4541    207872.0     10000  Free    0.0       Everyone          Tools   \n",
       "4636  55574528.0     10000  Free    0.0     Mature 17+  Communication   \n",
       "\n",
       "     Last Updated Current Ver Android Ver  \n",
       "8884     7-Oct-17        0.22  4.1 and up  \n",
       "324     13-Jul-18      5.0.12  5.0 and up  \n",
       "8532     2-Aug-18        5.03  4.1 and up  \n",
       "4541    16-Sep-14      1.1.06  1.5 and up  \n",
       "4636     3-Jul-18       4.2.4  4.1 and up  "
      ]
     },
     "execution_count": 56,
     "metadata": {},
     "output_type": "execute_result"
    }
   ],
   "source": [
    "df.head()"
   ]
  },
  {
   "cell_type": "markdown",
   "id": "08391cdb",
   "metadata": {},
   "source": [
    "### Paid or Free"
   ]
  },
  {
   "cell_type": "code",
   "execution_count": 57,
   "id": "2f81371f",
   "metadata": {},
   "outputs": [],
   "source": [
    "df['Distribution'] = 'Free'"
   ]
  },
  {
   "cell_type": "code",
   "execution_count": 59,
   "id": "fb76f178",
   "metadata": {},
   "outputs": [],
   "source": [
    "df.loc[df['Price'] > 0, 'Distribution'] = 'Paid'"
   ]
  },
  {
   "cell_type": "code",
   "execution_count": 63,
   "id": "d7c80c35",
   "metadata": {},
   "outputs": [
    {
     "data": {
      "text/html": [
       "<div>\n",
       "<style scoped>\n",
       "    .dataframe tbody tr th:only-of-type {\n",
       "        vertical-align: middle;\n",
       "    }\n",
       "\n",
       "    .dataframe tbody tr th {\n",
       "        vertical-align: top;\n",
       "    }\n",
       "\n",
       "    .dataframe thead th {\n",
       "        text-align: right;\n",
       "    }\n",
       "</style>\n",
       "<table border=\"1\" class=\"dataframe\">\n",
       "  <thead>\n",
       "    <tr style=\"text-align: right;\">\n",
       "      <th></th>\n",
       "      <th>App</th>\n",
       "      <th>Category</th>\n",
       "      <th>Rating</th>\n",
       "      <th>Reviews</th>\n",
       "      <th>Size</th>\n",
       "      <th>Installs</th>\n",
       "      <th>Type</th>\n",
       "      <th>Price</th>\n",
       "      <th>Content Rating</th>\n",
       "      <th>Genres</th>\n",
       "      <th>Last Updated</th>\n",
       "      <th>Current Ver</th>\n",
       "      <th>Android Ver</th>\n",
       "      <th>Distribution</th>\n",
       "    </tr>\n",
       "  </thead>\n",
       "  <tbody>\n",
       "    <tr>\n",
       "      <th>8884</th>\n",
       "      <td>\"i DT\" Fútbol. Todos Somos Técnicos.</td>\n",
       "      <td>Sports</td>\n",
       "      <td>4.191757</td>\n",
       "      <td>27</td>\n",
       "      <td>3774873.6</td>\n",
       "      <td>500</td>\n",
       "      <td>Free</td>\n",
       "      <td>0.0</td>\n",
       "      <td>Everyone</td>\n",
       "      <td>Sports</td>\n",
       "      <td>7-Oct-17</td>\n",
       "      <td>0.22</td>\n",
       "      <td>4.1 and up</td>\n",
       "      <td>Free</td>\n",
       "    </tr>\n",
       "    <tr>\n",
       "      <th>324</th>\n",
       "      <td>#NAME?</td>\n",
       "      <td>Comics</td>\n",
       "      <td>3.500000</td>\n",
       "      <td>115</td>\n",
       "      <td>9542041.6</td>\n",
       "      <td>10000</td>\n",
       "      <td>Free</td>\n",
       "      <td>0.0</td>\n",
       "      <td>Mature 17+</td>\n",
       "      <td>Comics</td>\n",
       "      <td>13-Jul-18</td>\n",
       "      <td>5.0.12</td>\n",
       "      <td>5.0 and up</td>\n",
       "      <td>Free</td>\n",
       "    </tr>\n",
       "    <tr>\n",
       "      <th>8532</th>\n",
       "      <td>+Download 4 Instagram Twitter</td>\n",
       "      <td>Social</td>\n",
       "      <td>4.500000</td>\n",
       "      <td>40467</td>\n",
       "      <td>23068672.0</td>\n",
       "      <td>1000000</td>\n",
       "      <td>Free</td>\n",
       "      <td>0.0</td>\n",
       "      <td>Everyone</td>\n",
       "      <td>Social</td>\n",
       "      <td>2-Aug-18</td>\n",
       "      <td>5.03</td>\n",
       "      <td>4.1 and up</td>\n",
       "      <td>Free</td>\n",
       "    </tr>\n",
       "    <tr>\n",
       "      <th>4541</th>\n",
       "      <td>.R</td>\n",
       "      <td>Tools</td>\n",
       "      <td>4.500000</td>\n",
       "      <td>259</td>\n",
       "      <td>207872.0</td>\n",
       "      <td>10000</td>\n",
       "      <td>Free</td>\n",
       "      <td>0.0</td>\n",
       "      <td>Everyone</td>\n",
       "      <td>Tools</td>\n",
       "      <td>16-Sep-14</td>\n",
       "      <td>1.1.06</td>\n",
       "      <td>1.5 and up</td>\n",
       "      <td>Free</td>\n",
       "    </tr>\n",
       "    <tr>\n",
       "      <th>4636</th>\n",
       "      <td>/u/app</td>\n",
       "      <td>Communication</td>\n",
       "      <td>4.700000</td>\n",
       "      <td>573</td>\n",
       "      <td>55574528.0</td>\n",
       "      <td>10000</td>\n",
       "      <td>Free</td>\n",
       "      <td>0.0</td>\n",
       "      <td>Mature 17+</td>\n",
       "      <td>Communication</td>\n",
       "      <td>3-Jul-18</td>\n",
       "      <td>4.2.4</td>\n",
       "      <td>4.1 and up</td>\n",
       "      <td>Free</td>\n",
       "    </tr>\n",
       "    <tr>\n",
       "      <th>...</th>\n",
       "      <td>...</td>\n",
       "      <td>...</td>\n",
       "      <td>...</td>\n",
       "      <td>...</td>\n",
       "      <td>...</td>\n",
       "      <td>...</td>\n",
       "      <td>...</td>\n",
       "      <td>...</td>\n",
       "      <td>...</td>\n",
       "      <td>...</td>\n",
       "      <td>...</td>\n",
       "      <td>...</td>\n",
       "      <td>...</td>\n",
       "      <td>...</td>\n",
       "    </tr>\n",
       "    <tr>\n",
       "      <th>6420</th>\n",
       "      <td>감성학원 BL 첫사랑</td>\n",
       "      <td>Comics</td>\n",
       "      <td>4.400000</td>\n",
       "      <td>190</td>\n",
       "      <td>35651584.0</td>\n",
       "      <td>10000</td>\n",
       "      <td>Free</td>\n",
       "      <td>0.0</td>\n",
       "      <td>Everyone</td>\n",
       "      <td>Comics</td>\n",
       "      <td>17-Nov-17</td>\n",
       "      <td>3.2.1</td>\n",
       "      <td>3.0 and up</td>\n",
       "      <td>Free</td>\n",
       "    </tr>\n",
       "    <tr>\n",
       "      <th>6334</th>\n",
       "      <td>뽕티비 - 개인방송, 인터넷방송, BJ방송</td>\n",
       "      <td>Video players</td>\n",
       "      <td>4.191757</td>\n",
       "      <td>414</td>\n",
       "      <td>61865984.0</td>\n",
       "      <td>100000</td>\n",
       "      <td>Free</td>\n",
       "      <td>0.0</td>\n",
       "      <td>Mature 17+</td>\n",
       "      <td>Video Players &amp; Editors</td>\n",
       "      <td>18-Jul-18</td>\n",
       "      <td>4.0.7</td>\n",
       "      <td>4.0.3 and up</td>\n",
       "      <td>Free</td>\n",
       "    </tr>\n",
       "    <tr>\n",
       "      <th>2575</th>\n",
       "      <td>💘 WhatsLov: Smileys of love, stickers and GIF</td>\n",
       "      <td>Social</td>\n",
       "      <td>4.600000</td>\n",
       "      <td>22098</td>\n",
       "      <td>18874368.0</td>\n",
       "      <td>1000000</td>\n",
       "      <td>Free</td>\n",
       "      <td>0.0</td>\n",
       "      <td>Everyone</td>\n",
       "      <td>Social</td>\n",
       "      <td>24-Jul-18</td>\n",
       "      <td>4.2.4</td>\n",
       "      <td>4.0.3 and up</td>\n",
       "      <td>Free</td>\n",
       "    </tr>\n",
       "    <tr>\n",
       "      <th>7559</th>\n",
       "      <td>📏 Smart Ruler ↔️ cm/inch measuring for homework!</td>\n",
       "      <td>Tools</td>\n",
       "      <td>4.000000</td>\n",
       "      <td>19</td>\n",
       "      <td>3355443.2</td>\n",
       "      <td>10000</td>\n",
       "      <td>Free</td>\n",
       "      <td>0.0</td>\n",
       "      <td>Everyone</td>\n",
       "      <td>Tools</td>\n",
       "      <td>21-Oct-17</td>\n",
       "      <td>1</td>\n",
       "      <td>4.2 and up</td>\n",
       "      <td>Free</td>\n",
       "    </tr>\n",
       "    <tr>\n",
       "      <th>882</th>\n",
       "      <td>🔥 Football Wallpapers 4K | Full HD Backgrounds 😍</td>\n",
       "      <td>Entertainment</td>\n",
       "      <td>4.700000</td>\n",
       "      <td>11661</td>\n",
       "      <td>4194304.0</td>\n",
       "      <td>1000000</td>\n",
       "      <td>Free</td>\n",
       "      <td>0.0</td>\n",
       "      <td>Everyone</td>\n",
       "      <td>Entertainment</td>\n",
       "      <td>14-Jul-18</td>\n",
       "      <td>1.1.3.2</td>\n",
       "      <td>4.0.3 and up</td>\n",
       "      <td>Free</td>\n",
       "    </tr>\n",
       "  </tbody>\n",
       "</table>\n",
       "<p>8897 rows × 14 columns</p>\n",
       "</div>"
      ],
      "text/plain": [
       "                                                   App       Category  \\\n",
       "8884              \"i DT\" Fútbol. Todos Somos Técnicos.         Sports   \n",
       "324                                             #NAME?         Comics   \n",
       "8532                     +Download 4 Instagram Twitter         Social   \n",
       "4541                                                .R          Tools   \n",
       "4636                                            /u/app  Communication   \n",
       "...                                                ...            ...   \n",
       "6420                                       감성학원 BL 첫사랑         Comics   \n",
       "6334                           뽕티비 - 개인방송, 인터넷방송, BJ방송  Video players   \n",
       "2575     💘 WhatsLov: Smileys of love, stickers and GIF         Social   \n",
       "7559  📏 Smart Ruler ↔️ cm/inch measuring for homework!          Tools   \n",
       "882   🔥 Football Wallpapers 4K | Full HD Backgrounds 😍  Entertainment   \n",
       "\n",
       "        Rating  Reviews        Size  Installs  Type  Price Content Rating  \\\n",
       "8884  4.191757       27   3774873.6       500  Free    0.0       Everyone   \n",
       "324   3.500000      115   9542041.6     10000  Free    0.0     Mature 17+   \n",
       "8532  4.500000    40467  23068672.0   1000000  Free    0.0       Everyone   \n",
       "4541  4.500000      259    207872.0     10000  Free    0.0       Everyone   \n",
       "4636  4.700000      573  55574528.0     10000  Free    0.0     Mature 17+   \n",
       "...        ...      ...         ...       ...   ...    ...            ...   \n",
       "6420  4.400000      190  35651584.0     10000  Free    0.0       Everyone   \n",
       "6334  4.191757      414  61865984.0    100000  Free    0.0     Mature 17+   \n",
       "2575  4.600000    22098  18874368.0   1000000  Free    0.0       Everyone   \n",
       "7559  4.000000       19   3355443.2     10000  Free    0.0       Everyone   \n",
       "882   4.700000    11661   4194304.0   1000000  Free    0.0       Everyone   \n",
       "\n",
       "                       Genres Last Updated Current Ver   Android Ver  \\\n",
       "8884                   Sports     7-Oct-17        0.22    4.1 and up   \n",
       "324                    Comics    13-Jul-18      5.0.12    5.0 and up   \n",
       "8532                   Social     2-Aug-18        5.03    4.1 and up   \n",
       "4541                    Tools    16-Sep-14      1.1.06    1.5 and up   \n",
       "4636            Communication     3-Jul-18       4.2.4    4.1 and up   \n",
       "...                       ...          ...         ...           ...   \n",
       "6420                   Comics    17-Nov-17       3.2.1    3.0 and up   \n",
       "6334  Video Players & Editors    18-Jul-18       4.0.7  4.0.3 and up   \n",
       "2575                   Social    24-Jul-18       4.2.4  4.0.3 and up   \n",
       "7559                    Tools    21-Oct-17           1    4.2 and up   \n",
       "882             Entertainment    14-Jul-18     1.1.3.2  4.0.3 and up   \n",
       "\n",
       "     Distribution  \n",
       "8884         Free  \n",
       "324          Free  \n",
       "8532         Free  \n",
       "4541         Free  \n",
       "4636         Free  \n",
       "...           ...  \n",
       "6420         Free  \n",
       "6334         Free  \n",
       "2575         Free  \n",
       "7559         Free  \n",
       "882          Free  \n",
       "\n",
       "[8897 rows x 14 columns]"
      ]
     },
     "execution_count": 63,
     "metadata": {},
     "output_type": "execute_result"
    }
   ],
   "source": [
    "df.loc[df['Price'] == 0]"
   ]
  },
  {
   "cell_type": "markdown",
   "id": "47c2cd42",
   "metadata": {},
   "source": [
    "### Analysis"
   ]
  },
  {
   "cell_type": "markdown",
   "id": "c3a89079",
   "metadata": {},
   "source": [
    "##### 11. What company has the most reviews?"
   ]
  },
  {
   "cell_type": "code",
   "execution_count": 66,
   "id": "2ad9c14a",
   "metadata": {
    "scrolled": true
   },
   "outputs": [
    {
     "data": {
      "text/html": [
       "<div>\n",
       "<style scoped>\n",
       "    .dataframe tbody tr th:only-of-type {\n",
       "        vertical-align: middle;\n",
       "    }\n",
       "\n",
       "    .dataframe tbody tr th {\n",
       "        vertical-align: top;\n",
       "    }\n",
       "\n",
       "    .dataframe thead th {\n",
       "        text-align: right;\n",
       "    }\n",
       "</style>\n",
       "<table border=\"1\" class=\"dataframe\">\n",
       "  <thead>\n",
       "    <tr style=\"text-align: right;\">\n",
       "      <th></th>\n",
       "      <th>App</th>\n",
       "      <th>Category</th>\n",
       "      <th>Rating</th>\n",
       "      <th>Reviews</th>\n",
       "      <th>Size</th>\n",
       "      <th>Installs</th>\n",
       "      <th>Type</th>\n",
       "      <th>Price</th>\n",
       "      <th>Content Rating</th>\n",
       "      <th>Genres</th>\n",
       "      <th>Last Updated</th>\n",
       "      <th>Current Ver</th>\n",
       "      <th>Android Ver</th>\n",
       "      <th>Distribution</th>\n",
       "    </tr>\n",
       "  </thead>\n",
       "  <tbody>\n",
       "    <tr>\n",
       "      <th>2544</th>\n",
       "      <td>Facebook</td>\n",
       "      <td>Social</td>\n",
       "      <td>4.1</td>\n",
       "      <td>78158306</td>\n",
       "      <td>0.0</td>\n",
       "      <td>1000000000</td>\n",
       "      <td>Free</td>\n",
       "      <td>0.0</td>\n",
       "      <td>Teen</td>\n",
       "      <td>Social</td>\n",
       "      <td>3-Aug-18</td>\n",
       "      <td>Varies with device</td>\n",
       "      <td>Varies with device</td>\n",
       "      <td>Free</td>\n",
       "    </tr>\n",
       "  </tbody>\n",
       "</table>\n",
       "</div>"
      ],
      "text/plain": [
       "           App Category  Rating   Reviews  Size    Installs  Type  Price  \\\n",
       "2544  Facebook   Social     4.1  78158306   0.0  1000000000  Free    0.0   \n",
       "\n",
       "     Content Rating  Genres Last Updated         Current Ver  \\\n",
       "2544           Teen  Social     3-Aug-18  Varies with device   \n",
       "\n",
       "             Android Ver Distribution  \n",
       "2544  Varies with device         Free  "
      ]
     },
     "execution_count": 66,
     "metadata": {},
     "output_type": "execute_result"
    }
   ],
   "source": [
    "df.loc[df['Reviews'] == df['Reviews'].max()]"
   ]
  },
  {
   "cell_type": "markdown",
   "id": "4162eb49",
   "metadata": {},
   "source": [
    "##### Which is the category with most uploaded apps?"
   ]
  },
  {
   "cell_type": "code",
   "execution_count": 69,
   "id": "b53bf887",
   "metadata": {},
   "outputs": [
    {
     "data": {
      "text/plain": [
       "Family                 1874\n",
       "Game                    945\n",
       "Tools                   827\n",
       "Business                420\n",
       "Medical                 395\n",
       "Productivity            374\n",
       "Personalization         374\n",
       "Lifestyle               369\n",
       "Finance                 345\n",
       "Sports                  325\n",
       "Communication           315\n",
       "Health and fitness      288\n",
       "Photography             281\n",
       "News and magazines      254\n",
       "Social                  239\n",
       "Books and reference     221\n",
       "Travel and local        219\n",
       "Shopping                202\n",
       "Dating                  170\n",
       "Video players           164\n",
       "Maps and navigation     131\n",
       "Food and drink          112\n",
       "Education               105\n",
       "Entertainment            86\n",
       "Auto and vehicles        85\n",
       "Libraries and demo       83\n",
       "Weather                  79\n",
       "House and home           73\n",
       "Events                   64\n",
       "Art and design           60\n",
       "Parenting                60\n",
       "Comics                   56\n",
       "Beauty                   53\n",
       "Name: Category, dtype: int64"
      ]
     },
     "execution_count": 69,
     "metadata": {},
     "output_type": "execute_result"
    }
   ],
   "source": [
    "df['Category'].value_counts()"
   ]
  },
  {
   "cell_type": "markdown",
   "id": "a3197f5d",
   "metadata": {},
   "source": [
    "##### 13. To which category belongs the most expensive app?"
   ]
  },
  {
   "cell_type": "code",
   "execution_count": 70,
   "id": "18e2d6a4",
   "metadata": {},
   "outputs": [
    {
     "name": "stdout",
     "output_type": "stream",
     "text": [
      "<class 'pandas.core.frame.DataFrame'>\n",
      "Int64Index: 9648 entries, 8884 to 882\n",
      "Data columns (total 14 columns):\n",
      " #   Column          Non-Null Count  Dtype  \n",
      "---  ------          --------------  -----  \n",
      " 0   App             9648 non-null   object \n",
      " 1   Category        9648 non-null   object \n",
      " 2   Rating          9648 non-null   float64\n",
      " 3   Reviews         9648 non-null   int64  \n",
      " 4   Size            9648 non-null   float64\n",
      " 5   Installs        9648 non-null   int64  \n",
      " 6   Type            9648 non-null   object \n",
      " 7   Price           9648 non-null   float64\n",
      " 8   Content Rating  9648 non-null   object \n",
      " 9   Genres          9648 non-null   object \n",
      " 10  Last Updated    9648 non-null   object \n",
      " 11  Current Ver     9648 non-null   object \n",
      " 12  Android Ver     9648 non-null   object \n",
      " 13  Distribution    9648 non-null   object \n",
      "dtypes: float64(3), int64(2), object(9)\n",
      "memory usage: 1.1+ MB\n"
     ]
    }
   ],
   "source": [
    "df.info()"
   ]
  },
  {
   "cell_type": "code",
   "execution_count": 73,
   "id": "c9827fbf",
   "metadata": {},
   "outputs": [
    {
     "data": {
      "text/html": [
       "<div>\n",
       "<style scoped>\n",
       "    .dataframe tbody tr th:only-of-type {\n",
       "        vertical-align: middle;\n",
       "    }\n",
       "\n",
       "    .dataframe tbody tr th {\n",
       "        vertical-align: top;\n",
       "    }\n",
       "\n",
       "    .dataframe thead th {\n",
       "        text-align: right;\n",
       "    }\n",
       "</style>\n",
       "<table border=\"1\" class=\"dataframe\">\n",
       "  <thead>\n",
       "    <tr style=\"text-align: right;\">\n",
       "      <th></th>\n",
       "      <th>App</th>\n",
       "      <th>Category</th>\n",
       "      <th>Rating</th>\n",
       "      <th>Reviews</th>\n",
       "      <th>Size</th>\n",
       "      <th>Installs</th>\n",
       "      <th>Type</th>\n",
       "      <th>Price</th>\n",
       "      <th>Content Rating</th>\n",
       "      <th>Genres</th>\n",
       "      <th>Last Updated</th>\n",
       "      <th>Current Ver</th>\n",
       "      <th>Android Ver</th>\n",
       "      <th>Distribution</th>\n",
       "    </tr>\n",
       "  </thead>\n",
       "  <tbody>\n",
       "    <tr>\n",
       "      <th>4367</th>\n",
       "      <td>I'm Rich - Trump Edition</td>\n",
       "      <td>Lifestyle</td>\n",
       "      <td>3.6</td>\n",
       "      <td>275</td>\n",
       "      <td>7654604.8</td>\n",
       "      <td>10000</td>\n",
       "      <td>Paid</td>\n",
       "      <td>400.0</td>\n",
       "      <td>Everyone</td>\n",
       "      <td>Lifestyle</td>\n",
       "      <td>3-May-18</td>\n",
       "      <td>1.0.1</td>\n",
       "      <td>4.1 and up</td>\n",
       "      <td>Paid</td>\n",
       "    </tr>\n",
       "  </tbody>\n",
       "</table>\n",
       "</div>"
      ],
      "text/plain": [
       "                           App   Category  Rating  Reviews       Size  \\\n",
       "4367  I'm Rich - Trump Edition  Lifestyle     3.6      275  7654604.8   \n",
       "\n",
       "      Installs  Type  Price Content Rating     Genres Last Updated  \\\n",
       "4367     10000  Paid  400.0       Everyone  Lifestyle     3-May-18   \n",
       "\n",
       "     Current Ver Android Ver Distribution  \n",
       "4367       1.0.1  4.1 and up         Paid  "
      ]
     },
     "execution_count": 73,
     "metadata": {},
     "output_type": "execute_result"
    }
   ],
   "source": [
    "df.loc[df['Price'] == 400.0]"
   ]
  },
  {
   "cell_type": "markdown",
   "id": "8477c00e",
   "metadata": {},
   "source": [
    "##### Lifestyle"
   ]
  },
  {
   "cell_type": "markdown",
   "id": "1c2e479b",
   "metadata": {},
   "source": [
    "##### 14. Whats the name of the most expensive game?"
   ]
  },
  {
   "cell_type": "code",
   "execution_count": 79,
   "id": "19bacae9",
   "metadata": {},
   "outputs": [
    {
     "data": {
      "text/html": [
       "<div>\n",
       "<style scoped>\n",
       "    .dataframe tbody tr th:only-of-type {\n",
       "        vertical-align: middle;\n",
       "    }\n",
       "\n",
       "    .dataframe tbody tr th {\n",
       "        vertical-align: top;\n",
       "    }\n",
       "\n",
       "    .dataframe thead th {\n",
       "        text-align: right;\n",
       "    }\n",
       "</style>\n",
       "<table border=\"1\" class=\"dataframe\">\n",
       "  <thead>\n",
       "    <tr style=\"text-align: right;\">\n",
       "      <th></th>\n",
       "      <th>App</th>\n",
       "      <th>Category</th>\n",
       "      <th>Rating</th>\n",
       "      <th>Reviews</th>\n",
       "      <th>Size</th>\n",
       "      <th>Installs</th>\n",
       "      <th>Type</th>\n",
       "      <th>Price</th>\n",
       "      <th>Content Rating</th>\n",
       "      <th>Genres</th>\n",
       "      <th>Last Updated</th>\n",
       "      <th>Current Ver</th>\n",
       "      <th>Android Ver</th>\n",
       "      <th>Distribution</th>\n",
       "    </tr>\n",
       "  </thead>\n",
       "  <tbody>\n",
       "    <tr>\n",
       "      <th>4203</th>\n",
       "      <td>The World Ends With You</td>\n",
       "      <td>Game</td>\n",
       "      <td>4.6</td>\n",
       "      <td>4108</td>\n",
       "      <td>13631488.0</td>\n",
       "      <td>10000</td>\n",
       "      <td>Paid</td>\n",
       "      <td>17.99</td>\n",
       "      <td>Everyone 10+</td>\n",
       "      <td>Arcade</td>\n",
       "      <td>14-Dec-15</td>\n",
       "      <td>1.0.4</td>\n",
       "      <td>4.0 and up</td>\n",
       "      <td>Paid</td>\n",
       "    </tr>\n",
       "  </tbody>\n",
       "</table>\n",
       "</div>"
      ],
      "text/plain": [
       "                          App Category  Rating  Reviews        Size  Installs  \\\n",
       "4203  The World Ends With You     Game     4.6     4108  13631488.0     10000   \n",
       "\n",
       "      Type  Price Content Rating  Genres Last Updated Current Ver Android Ver  \\\n",
       "4203  Paid  17.99   Everyone 10+  Arcade    14-Dec-15       1.0.4  4.0 and up   \n",
       "\n",
       "     Distribution  \n",
       "4203         Paid  "
      ]
     },
     "execution_count": 79,
     "metadata": {},
     "output_type": "execute_result"
    }
   ],
   "source": [
    "df.loc[df['Category'] == 'Game'].sort_values(by='Price', ascending=False).head(1)"
   ]
  },
  {
   "cell_type": "markdown",
   "id": "a3b7da83",
   "metadata": {},
   "source": [
    "##### The World Ends With You"
   ]
  },
  {
   "cell_type": "markdown",
   "id": "9d0e57f9",
   "metadata": {},
   "source": [
    "##### Which is most popular finance app?"
   ]
  },
  {
   "cell_type": "code",
   "execution_count": 80,
   "id": "34a621f8",
   "metadata": {},
   "outputs": [
    {
     "name": "stdout",
     "output_type": "stream",
     "text": [
      "<class 'pandas.core.frame.DataFrame'>\n",
      "Int64Index: 9648 entries, 8884 to 882\n",
      "Data columns (total 14 columns):\n",
      " #   Column          Non-Null Count  Dtype  \n",
      "---  ------          --------------  -----  \n",
      " 0   App             9648 non-null   object \n",
      " 1   Category        9648 non-null   object \n",
      " 2   Rating          9648 non-null   float64\n",
      " 3   Reviews         9648 non-null   int64  \n",
      " 4   Size            9648 non-null   float64\n",
      " 5   Installs        9648 non-null   int64  \n",
      " 6   Type            9648 non-null   object \n",
      " 7   Price           9648 non-null   float64\n",
      " 8   Content Rating  9648 non-null   object \n",
      " 9   Genres          9648 non-null   object \n",
      " 10  Last Updated    9648 non-null   object \n",
      " 11  Current Ver     9648 non-null   object \n",
      " 12  Android Ver     9648 non-null   object \n",
      " 13  Distribution    9648 non-null   object \n",
      "dtypes: float64(3), int64(2), object(9)\n",
      "memory usage: 1.4+ MB\n"
     ]
    }
   ],
   "source": [
    "df.info()"
   ]
  },
  {
   "cell_type": "code",
   "execution_count": 82,
   "id": "2262f3c7",
   "metadata": {},
   "outputs": [
    {
     "data": {
      "text/html": [
       "<div>\n",
       "<style scoped>\n",
       "    .dataframe tbody tr th:only-of-type {\n",
       "        vertical-align: middle;\n",
       "    }\n",
       "\n",
       "    .dataframe tbody tr th {\n",
       "        vertical-align: top;\n",
       "    }\n",
       "\n",
       "    .dataframe thead th {\n",
       "        text-align: right;\n",
       "    }\n",
       "</style>\n",
       "<table border=\"1\" class=\"dataframe\">\n",
       "  <thead>\n",
       "    <tr style=\"text-align: right;\">\n",
       "      <th></th>\n",
       "      <th>App</th>\n",
       "      <th>Category</th>\n",
       "      <th>Rating</th>\n",
       "      <th>Reviews</th>\n",
       "      <th>Size</th>\n",
       "      <th>Installs</th>\n",
       "      <th>Type</th>\n",
       "      <th>Price</th>\n",
       "      <th>Content Rating</th>\n",
       "      <th>Genres</th>\n",
       "      <th>Last Updated</th>\n",
       "      <th>Current Ver</th>\n",
       "      <th>Android Ver</th>\n",
       "      <th>Distribution</th>\n",
       "    </tr>\n",
       "  </thead>\n",
       "  <tbody>\n",
       "    <tr>\n",
       "      <th>5601</th>\n",
       "      <td>Google Pay</td>\n",
       "      <td>Finance</td>\n",
       "      <td>4.2</td>\n",
       "      <td>348132</td>\n",
       "      <td>0.0</td>\n",
       "      <td>100000000</td>\n",
       "      <td>Free</td>\n",
       "      <td>0.0</td>\n",
       "      <td>Everyone</td>\n",
       "      <td>Finance</td>\n",
       "      <td>26-Jul-18</td>\n",
       "      <td>2.70.206190089</td>\n",
       "      <td>Varies with device</td>\n",
       "      <td>Free</td>\n",
       "    </tr>\n",
       "  </tbody>\n",
       "</table>\n",
       "</div>"
      ],
      "text/plain": [
       "             App Category  Rating  Reviews  Size   Installs  Type  Price  \\\n",
       "5601  Google Pay  Finance     4.2   348132   0.0  100000000  Free    0.0   \n",
       "\n",
       "     Content Rating   Genres Last Updated     Current Ver         Android Ver  \\\n",
       "5601       Everyone  Finance    26-Jul-18  2.70.206190089  Varies with device   \n",
       "\n",
       "     Distribution  \n",
       "5601         Free  "
      ]
     },
     "execution_count": 82,
     "metadata": {},
     "output_type": "execute_result"
    }
   ],
   "source": [
    "df.loc[df['Category'] == 'Finance'].sort_values(by='Installs', ascending = False).head(1)"
   ]
  },
  {
   "cell_type": "markdown",
   "id": "8e25734f",
   "metadata": {},
   "source": [
    "###### Google pay"
   ]
  },
  {
   "cell_type": "markdown",
   "id": "dc174099",
   "metadata": {},
   "source": [
    "##### What teen game has the most reviews?"
   ]
  },
  {
   "cell_type": "code",
   "execution_count": 87,
   "id": "a66cf6c9",
   "metadata": {},
   "outputs": [
    {
     "data": {
      "text/html": [
       "<div>\n",
       "<style scoped>\n",
       "    .dataframe tbody tr th:only-of-type {\n",
       "        vertical-align: middle;\n",
       "    }\n",
       "\n",
       "    .dataframe tbody tr th {\n",
       "        vertical-align: top;\n",
       "    }\n",
       "\n",
       "    .dataframe thead th {\n",
       "        text-align: right;\n",
       "    }\n",
       "</style>\n",
       "<table border=\"1\" class=\"dataframe\">\n",
       "  <thead>\n",
       "    <tr style=\"text-align: right;\">\n",
       "      <th></th>\n",
       "      <th>App</th>\n",
       "      <th>Category</th>\n",
       "      <th>Rating</th>\n",
       "      <th>Reviews</th>\n",
       "      <th>Size</th>\n",
       "      <th>Installs</th>\n",
       "      <th>Type</th>\n",
       "      <th>Price</th>\n",
       "      <th>Content Rating</th>\n",
       "      <th>Genres</th>\n",
       "      <th>Last Updated</th>\n",
       "      <th>Current Ver</th>\n",
       "      <th>Android Ver</th>\n",
       "      <th>Distribution</th>\n",
       "    </tr>\n",
       "  </thead>\n",
       "  <tbody>\n",
       "    <tr>\n",
       "      <th>3912</th>\n",
       "      <td>Asphalt 8: Airborne</td>\n",
       "      <td>Game</td>\n",
       "      <td>4.5</td>\n",
       "      <td>8389714</td>\n",
       "      <td>96468992.0</td>\n",
       "      <td>100000000</td>\n",
       "      <td>Free</td>\n",
       "      <td>0.0</td>\n",
       "      <td>Teen</td>\n",
       "      <td>Racing</td>\n",
       "      <td>4-Jul-18</td>\n",
       "      <td>3.7.1a</td>\n",
       "      <td>4.0.3 and up</td>\n",
       "      <td>Free</td>\n",
       "    </tr>\n",
       "  </tbody>\n",
       "</table>\n",
       "</div>"
      ],
      "text/plain": [
       "                      App Category  Rating  Reviews        Size   Installs  \\\n",
       "3912  Asphalt 8: Airborne     Game     4.5  8389714  96468992.0  100000000   \n",
       "\n",
       "      Type  Price Content Rating  Genres Last Updated Current Ver  \\\n",
       "3912  Free    0.0           Teen  Racing     4-Jul-18      3.7.1a   \n",
       "\n",
       "       Android Ver Distribution  \n",
       "3912  4.0.3 and up         Free  "
      ]
     },
     "execution_count": 87,
     "metadata": {},
     "output_type": "execute_result"
    }
   ],
   "source": [
    "df.loc[(df['Category'] == 'Game') & (df['Content Rating'] == 'Teen')].sort_values(by = 'Reviews',ascending=False).head(1)"
   ]
  },
  {
   "cell_type": "markdown",
   "id": "fa2ccd3a",
   "metadata": {},
   "source": [
    "##### Ans: Asphalt 8: Airborne"
   ]
  },
  {
   "cell_type": "markdown",
   "id": "e7697191",
   "metadata": {},
   "source": [
    "##### What paid game has most reviews?"
   ]
  },
  {
   "cell_type": "code",
   "execution_count": 88,
   "id": "201ec76d",
   "metadata": {},
   "outputs": [
    {
     "data": {
      "text/html": [
       "<div>\n",
       "<style scoped>\n",
       "    .dataframe tbody tr th:only-of-type {\n",
       "        vertical-align: middle;\n",
       "    }\n",
       "\n",
       "    .dataframe tbody tr th {\n",
       "        vertical-align: top;\n",
       "    }\n",
       "\n",
       "    .dataframe thead th {\n",
       "        text-align: right;\n",
       "    }\n",
       "</style>\n",
       "<table border=\"1\" class=\"dataframe\">\n",
       "  <thead>\n",
       "    <tr style=\"text-align: right;\">\n",
       "      <th></th>\n",
       "      <th>App</th>\n",
       "      <th>Category</th>\n",
       "      <th>Rating</th>\n",
       "      <th>Reviews</th>\n",
       "      <th>Size</th>\n",
       "      <th>Installs</th>\n",
       "      <th>Type</th>\n",
       "      <th>Price</th>\n",
       "      <th>Content Rating</th>\n",
       "      <th>Genres</th>\n",
       "      <th>Last Updated</th>\n",
       "      <th>Current Ver</th>\n",
       "      <th>Android Ver</th>\n",
       "      <th>Distribution</th>\n",
       "    </tr>\n",
       "  </thead>\n",
       "  <tbody>\n",
       "    <tr>\n",
       "      <th>4034</th>\n",
       "      <td>Hitman Sniper</td>\n",
       "      <td>Game</td>\n",
       "      <td>4.6</td>\n",
       "      <td>408292</td>\n",
       "      <td>30408704.0</td>\n",
       "      <td>10000000</td>\n",
       "      <td>Paid</td>\n",
       "      <td>0.99</td>\n",
       "      <td>Mature 17+</td>\n",
       "      <td>Action</td>\n",
       "      <td>12-Jul-18</td>\n",
       "      <td>1.7.110758</td>\n",
       "      <td>4.1 and up</td>\n",
       "      <td>Paid</td>\n",
       "    </tr>\n",
       "  </tbody>\n",
       "</table>\n",
       "</div>"
      ],
      "text/plain": [
       "                App Category  Rating  Reviews        Size  Installs  Type  \\\n",
       "4034  Hitman Sniper     Game     4.6   408292  30408704.0  10000000  Paid   \n",
       "\n",
       "      Price Content Rating  Genres Last Updated Current Ver Android Ver  \\\n",
       "4034   0.99     Mature 17+  Action    12-Jul-18  1.7.110758  4.1 and up   \n",
       "\n",
       "     Distribution  \n",
       "4034         Paid  "
      ]
     },
     "execution_count": 88,
     "metadata": {},
     "output_type": "execute_result"
    }
   ],
   "source": [
    "df.loc[(df['Category'] == 'Game') & (df['Distribution'] == 'Paid')].sort_values(by = 'Reviews',ascending=False).head(1)"
   ]
  },
  {
   "cell_type": "markdown",
   "id": "ee4549a6",
   "metadata": {},
   "source": [
    "##### Ans: Hitman Sniper"
   ]
  },
  {
   "cell_type": "markdown",
   "id": "116121bb",
   "metadata": {},
   "source": [
    "##### 18. How many TB(terabytes) were transfered ( overall) for the most popular Lifestyle app?"
   ]
  },
  {
   "cell_type": "code",
   "execution_count": 91,
   "id": "0d1369df",
   "metadata": {},
   "outputs": [],
   "source": [
    "app = df.loc[df['Category'] == 'Lifestyle'].sort_values(by = 'Installs', ascending = False).head(1)"
   ]
  },
  {
   "cell_type": "code",
   "execution_count": 95,
   "id": "48d3b7c2",
   "metadata": {},
   "outputs": [
    {
     "data": {
      "text/html": [
       "<div>\n",
       "<style scoped>\n",
       "    .dataframe tbody tr th:only-of-type {\n",
       "        vertical-align: middle;\n",
       "    }\n",
       "\n",
       "    .dataframe tbody tr th {\n",
       "        vertical-align: top;\n",
       "    }\n",
       "\n",
       "    .dataframe thead th {\n",
       "        text-align: right;\n",
       "    }\n",
       "</style>\n",
       "<table border=\"1\" class=\"dataframe\">\n",
       "  <thead>\n",
       "    <tr style=\"text-align: right;\">\n",
       "      <th></th>\n",
       "      <th>App</th>\n",
       "      <th>Category</th>\n",
       "      <th>Rating</th>\n",
       "      <th>Reviews</th>\n",
       "      <th>Size</th>\n",
       "      <th>Installs</th>\n",
       "      <th>Type</th>\n",
       "      <th>Price</th>\n",
       "      <th>Content Rating</th>\n",
       "      <th>Genres</th>\n",
       "      <th>Last Updated</th>\n",
       "      <th>Current Ver</th>\n",
       "      <th>Android Ver</th>\n",
       "      <th>Distribution</th>\n",
       "    </tr>\n",
       "  </thead>\n",
       "  <tbody>\n",
       "    <tr>\n",
       "      <th>4587</th>\n",
       "      <td>Tinder</td>\n",
       "      <td>Lifestyle</td>\n",
       "      <td>4.0</td>\n",
       "      <td>2789775</td>\n",
       "      <td>71303168.0</td>\n",
       "      <td>100000000</td>\n",
       "      <td>Free</td>\n",
       "      <td>0.0</td>\n",
       "      <td>Mature 17+</td>\n",
       "      <td>Lifestyle</td>\n",
       "      <td>2-Aug-18</td>\n",
       "      <td>9.5.0</td>\n",
       "      <td>4.4 and up</td>\n",
       "      <td>Free</td>\n",
       "    </tr>\n",
       "  </tbody>\n",
       "</table>\n",
       "</div>"
      ],
      "text/plain": [
       "         App   Category  Rating  Reviews        Size   Installs  Type  Price  \\\n",
       "4587  Tinder  Lifestyle     4.0  2789775  71303168.0  100000000  Free    0.0   \n",
       "\n",
       "     Content Rating     Genres Last Updated Current Ver Android Ver  \\\n",
       "4587     Mature 17+  Lifestyle     2-Aug-18       9.5.0  4.4 and up   \n",
       "\n",
       "     Distribution  \n",
       "4587         Free  "
      ]
     },
     "execution_count": 95,
     "metadata": {},
     "output_type": "execute_result"
    }
   ],
   "source": [
    "app[:]"
   ]
  },
  {
   "cell_type": "code",
   "execution_count": 97,
   "id": "a69342c9",
   "metadata": {},
   "outputs": [
    {
     "data": {
      "text/plain": [
       "4587    6484.985352\n",
       "dtype: float64"
      ]
     },
     "execution_count": 97,
     "metadata": {},
     "output_type": "execute_result"
    }
   ],
   "source": [
    "(app['Installs'] * app['Size']) / (1024 * 1024 * 1024 * 1024)"
   ]
  },
  {
   "cell_type": "markdown",
   "id": "5a82255a",
   "metadata": {},
   "source": [
    "#####  Ans: 6484"
   ]
  },
  {
   "cell_type": "code",
   "execution_count": null,
   "id": "02037853",
   "metadata": {},
   "outputs": [],
   "source": []
  }
 ],
 "metadata": {
  "kernelspec": {
   "display_name": "Python 3 (ipykernel)",
   "language": "python",
   "name": "python3"
  },
  "language_info": {
   "codemirror_mode": {
    "name": "ipython",
    "version": 3
   },
   "file_extension": ".py",
   "mimetype": "text/x-python",
   "name": "python",
   "nbconvert_exporter": "python",
   "pygments_lexer": "ipython3",
   "version": "3.11.3"
  }
 },
 "nbformat": 4,
 "nbformat_minor": 5
}
